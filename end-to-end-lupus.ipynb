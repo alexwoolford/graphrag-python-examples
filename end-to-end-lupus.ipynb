{
 "cells": [
  {
   "metadata": {},
   "cell_type": "markdown",
   "source": [
    "# GraphRAG Python package\n",
    "End-to-end-example on research papers. "
   ],
   "id": "cf0be1ddc2bd2434"
  },
  {
   "metadata": {},
   "cell_type": "code",
   "source": [
    "%%capture\n",
    "%pip install fsspec langchain-text-splitters openai python-dotenv numpy torch neo4j-graphrag-python"
   ],
   "id": "9820f541adf30bfd",
   "outputs": [],
   "execution_count": null
  },
  {
   "metadata": {
    "ExecuteTime": {
     "end_time": "2024-10-12T21:09:17.827484Z",
     "start_time": "2024-10-12T21:09:17.818218Z"
    }
   },
   "cell_type": "code",
   "source": [
    "from dotenv import load_dotenv\n",
    "import os\n",
    "\n",
    "# load neo4j credentials (and openai api key in background)\n",
    "load_dotenv('.env', override=True)\n",
    "NEO4J_URI = os.getenv('NEO4J_URI')\n",
    "NEO4J_USERNAME = os.getenv('NEO4J_USERNAME')\n",
    "NEO4J_PASSWORD = os.getenv('NEO4J_PASSWORD')"
   ],
   "id": "a023c71324bf6e7f",
   "outputs": [],
   "execution_count": 1
  },
  {
   "metadata": {},
   "cell_type": "markdown",
   "source": "## Knowledge Graph Building\n",
   "id": "418bd212bae7f492"
  },
  {
   "metadata": {
    "ExecuteTime": {
     "end_time": "2024-10-12T21:09:18.451442Z",
     "start_time": "2024-10-12T21:09:17.828557Z"
    }
   },
   "cell_type": "code",
   "source": [
    "import neo4j\n",
    "from neo4j_graphrag.llm import OpenAILLM\n",
    "from neo4j_graphrag.embeddings.openai import OpenAIEmbeddings\n",
    "\n",
    "driver = neo4j.GraphDatabase.driver(NEO4J_URI, auth=(NEO4J_USERNAME, NEO4J_PASSWORD))\n",
    "\n",
    "llm=OpenAILLM(\n",
    "    model_name=\"gpt-4o-mini\",\n",
    "    model_params={\n",
    "        \"response_format\": {\"type\": \"json_object\"}, # use json_object formatting for best results\n",
    "        \"temperature\": 0 # turning temperature down for more deterministic results\n",
    "    }\n",
    ")\n",
    "\n",
    "#create text embedder\n",
    "embedder = OpenAIEmbeddings()"
   ],
   "id": "fd60a2f512b9701d",
   "outputs": [],
   "execution_count": 2
  },
  {
   "metadata": {
    "ExecuteTime": {
     "end_time": "2024-10-12T21:09:18.454322Z",
     "start_time": "2024-10-12T21:09:18.451947Z"
    }
   },
   "cell_type": "code",
   "source": [
    "#define node labels\n",
    "basic_node_labels = [\"Object\", \"Entity\", \"Group\", \"Person\", \"Organization\", \"Place\"]\n",
    "\n",
    "academic_node_labels = [\"ArticleOrPaper\", \"PublicationOrJournal\"]\n",
    "\n",
    "medical_node_labels = [\"Anatomy\", \"BiologicalProcess\", \"Cell\", \"CellularComponent\", \n",
    "                       \"CellType\", \"Condition\", \"Disease\", \"Drug\",\n",
    "                       \"EffectOrPhenotype\", \"Exposure\", \"GeneOrProtein\", \"Molecule\",\n",
    "                       \"MolecularFunction\", \"Pathway\"]\n",
    "\n",
    "node_labels = basic_node_labels + academic_node_labels + medical_node_labels\n",
    "\n",
    "# define relationship types\n",
    "rel_types = [\"ACTIVATES\", \"AFFECTS\", \"ASSESSES\", \"ASSOCIATED_WITH\", \"AUTHORED\",\n",
    "    \"BIOMARKER_FOR\", \"CAUSES\", \"CITES\", \"CONTRIBUTES_TO\", \"DESCRIBES\", \"EXPRESSES\",\n",
    "    \"HAS_REACTION\", \"HAS_SYMPTOM\", \"INCLUDES\", \"INTERACTS_WITH\", \"PRESCRIBED\",\n",
    "    \"PRODUCES\", \"RECEIVED\", \"RESULTS_IN\", \"TREATS\", \"USED_FOR\"]\n"
   ],
   "id": "6cba83fa4638e21d",
   "outputs": [],
   "execution_count": 3
  },
  {
   "metadata": {
    "ExecuteTime": {
     "end_time": "2024-10-12T21:09:18.456878Z",
     "start_time": "2024-10-12T21:09:18.455016Z"
    }
   },
   "cell_type": "code",
   "source": [
    "prompt_template = '''\n",
    "You are a medical researcher tasks with extracting information from papers \n",
    "and structuring it in a property graph to inform further medical and research Q&A.\n",
    "\n",
    "Extract the entities (nodes) and specify their type from the following Input text.\n",
    "Also extract the relationships between these nodes. the relationship direction goes from the start node to the end node. \n",
    "\n",
    "\n",
    "Return result as JSON using the following format:\n",
    "{{\"nodes\": [ {{\"id\": \"0\", \"label\": \"the type of entity\", \"properties\": {{\"name\": \"name of entity\", \"details\": \"brief definition of the entity if available\" }} }}],\n",
    "  \"relationships\": [{{\"type\": \"TYPE_OF_RELATIONSHIP\", \"start_node_id\": \"0\", \"end_node_id\": \"1\", \"properties\": {{\"details\": \"brief description of the relationship\"}} }}] }}\n",
    "\n",
    "- Use only the information from the Input text.  Do not add any additional information.  \n",
    "- If the input text is empty, return empty Json. \n",
    "- Make sure to create as many nodes and relationships as needed to offer rich medical context for further research.\n",
    "- An AI knowledge assistant must be able to read this graph and immediately understand the context to inform detailed research questions. \n",
    "- Multiple documents will be ingested from different sources and we are using this property graph to connect information, so make sure entity types are fairly general. \n",
    "\n",
    "Use only fhe following nodes and relationships (if provided):\n",
    "{schema}\n",
    "\n",
    "Assign a unique ID (string) to each node, and reuse it to define relationships.\n",
    "Do respect the source and target node types for relationship and\n",
    "the relationship direction.\n",
    "\n",
    "Do not return any additional information other than the JSON in it.\n",
    "\n",
    "Examples:\n",
    "{examples}\n",
    "\n",
    "Input text:\n",
    "\n",
    "{text}\n",
    "'''"
   ],
   "id": "8cbcdedcd1757b1d",
   "outputs": [],
   "execution_count": 4
  },
  {
   "metadata": {
    "ExecuteTime": {
     "end_time": "2024-10-12T21:09:18.697113Z",
     "start_time": "2024-10-12T21:09:18.613379Z"
    }
   },
   "cell_type": "code",
   "source": [
    "from neo4j_graphrag.experimental.components.text_splitters.fixed_size_splitter import FixedSizeSplitter\n",
    "from neo4j_graphrag.experimental.pipeline.kg_builder import SimpleKGPipeline\n",
    "\n",
    "kg_builder_pdf = SimpleKGPipeline(\n",
    "    llm=llm,\n",
    "    driver=driver,\n",
    "    text_splitter=FixedSizeSplitter(chunk_size=800, chunk_overlap=100),\n",
    "    embedder=embedder,\n",
    "    entities=node_labels,\n",
    "    relations=rel_types,\n",
    "    prompt_template=prompt_template,\n",
    "    from_pdf=True\n",
    ")"
   ],
   "id": "94e1dfac980e6527",
   "outputs": [],
   "execution_count": 5
  },
  {
   "metadata": {
    "ExecuteTime": {
     "end_time": "2024-10-12T21:17:00.775892Z",
     "start_time": "2024-10-12T21:09:21.957526Z"
    }
   },
   "cell_type": "code",
   "source": [
    "pdf_file_paths = ['truncated-pdfs/biomolecules-11-00928-v2-trunc.pdf', \n",
    "             'truncated-pdfs/GAP-between-patients-and-clinicians_2023_Best-Practice-trunc.pdf', \n",
    "             'truncated-pdfs/pgpm-13-39-trunc.pdf']\n",
    "\n",
    "for path in pdf_file_paths:\n",
    "    print(f\"Processing : {path}\")\n",
    "    pdf_result = await kg_builder_pdf.run_async(file_path=path)\n",
    "    print(f\"PDF Processing Result: {pdf_result}\")"
   ],
   "id": "edeee98826a970a8",
   "outputs": [
    {
     "name": "stdout",
     "output_type": "stream",
     "text": [
      "Processing : truncated-pdfs/biomolecules-11-00928-v2-trunc.pdf\n",
      "PDF Processing Result: run_id='d3f5df80-fa1f-4b53-9f5d-6941fb9fe6e9' result={'resolver': {'number_of_nodes_to_resolve': 627, 'number_of_created_nodes': 517}}\n",
      "Processing : truncated-pdfs/GAP-between-patients-and-clinicians_2023_Best-Practice-trunc.pdf\n",
      "PDF Processing Result: run_id='6ab54670-cb80-4d78-b2cf-8f0c7a4d0168' result={'resolver': {'number_of_nodes_to_resolve': 872, 'number_of_created_nodes': 780}}\n",
      "Processing : truncated-pdfs/pgpm-13-39-trunc.pdf\n",
      "PDF Processing Result: run_id='40b90b40-9eb9-4272-b7ef-c384326117c8' result={'resolver': {'number_of_nodes_to_resolve': 1328, 'number_of_created_nodes': 1211}}\n"
     ]
    }
   ],
   "execution_count": 6
  },
  {
   "metadata": {},
   "cell_type": "markdown",
   "source": "## Knowledge Graph Retrieval",
   "id": "a9c0fd965b15b143"
  },
  {
   "metadata": {},
   "cell_type": "markdown",
   "source": "We will leverage Neo4j's vector search capabilities here. To do this we need to begin by creating a vector index on the text in our Chunk nodes",
   "id": "4d7b98e310104246"
  },
  {
   "metadata": {
    "ExecuteTime": {
     "end_time": "2024-10-12T21:20:49.150694Z",
     "start_time": "2024-10-12T21:20:48.379979Z"
    }
   },
   "cell_type": "code",
   "source": [
    "from neo4j_graphrag.indexes import create_vector_index\n",
    "\n",
    "create_vector_index(driver, name=\"text_embeddings\", label=\"Chunk\",\n",
    "                    embedding_property=\"embedding\", dimensions=1536, similarity_fn=\"cosine\")"
   ],
   "id": "940b051107b89204",
   "outputs": [
    {
     "ename": "Neo4jIndexError",
     "evalue": "Neo4j vector index creation failed: An equivalent index already exists, 'Index( id=3, name='text_embeddings', type='VECTOR', schema=(:Chunk {embedding}), indexProvider='vector-2.0' )'.",
     "output_type": "error",
     "traceback": [
      "\u001B[0;31m---------------------------------------------------------------------------\u001B[0m",
      "\u001B[0;31mClientError\u001B[0m                               Traceback (most recent call last)",
      "File \u001B[0;32m~/opt/anaconda3/envs/neo4j-graphrag-python-example/lib/python3.11/site-packages/neo4j_graphrag/indexes.py:112\u001B[0m, in \u001B[0;36mcreate_vector_index\u001B[0;34m(driver, name, label, embedding_property, dimensions, similarity_fn, neo4j_database)\u001B[0m\n\u001B[1;32m    111\u001B[0m     logger\u001B[38;5;241m.\u001B[39minfo(\u001B[38;5;124mf\u001B[39m\u001B[38;5;124m\"\u001B[39m\u001B[38;5;124mCreating vector index named \u001B[39m\u001B[38;5;124m'\u001B[39m\u001B[38;5;132;01m{\u001B[39;00mname\u001B[38;5;132;01m}\u001B[39;00m\u001B[38;5;124m'\u001B[39m\u001B[38;5;124m\"\u001B[39m)\n\u001B[0;32m--> 112\u001B[0m     driver\u001B[38;5;241m.\u001B[39mexecute_query(\n\u001B[1;32m    113\u001B[0m         query,\n\u001B[1;32m    114\u001B[0m         {\u001B[38;5;124m\"\u001B[39m\u001B[38;5;124mname\u001B[39m\u001B[38;5;124m\"\u001B[39m: name, \u001B[38;5;124m\"\u001B[39m\u001B[38;5;124mdimensions\u001B[39m\u001B[38;5;124m\"\u001B[39m: dimensions, \u001B[38;5;124m\"\u001B[39m\u001B[38;5;124msimilarity_fn\u001B[39m\u001B[38;5;124m\"\u001B[39m: similarity_fn},\n\u001B[1;32m    115\u001B[0m         database_\u001B[38;5;241m=\u001B[39mneo4j_database,\n\u001B[1;32m    116\u001B[0m     )\n\u001B[1;32m    117\u001B[0m \u001B[38;5;28;01mexcept\u001B[39;00m neo4j\u001B[38;5;241m.\u001B[39mexceptions\u001B[38;5;241m.\u001B[39mClientError \u001B[38;5;28;01mas\u001B[39;00m e:\n",
      "File \u001B[0;32m~/opt/anaconda3/envs/neo4j-graphrag-python-example/lib/python3.11/site-packages/neo4j/_sync/driver.py:959\u001B[0m, in \u001B[0;36mDriver.execute_query\u001B[0;34m(self, query_, parameters_, routing_, database_, impersonated_user_, bookmark_manager_, auth_, result_transformer_, **kwargs)\u001B[0m\n\u001B[1;32m    958\u001B[0m \u001B[38;5;28;01mwith\u001B[39;00m session\u001B[38;5;241m.\u001B[39m_pipelined_begin:\n\u001B[0;32m--> 959\u001B[0m     \u001B[38;5;28;01mreturn\u001B[39;00m session\u001B[38;5;241m.\u001B[39m_run_transaction(\n\u001B[1;32m    960\u001B[0m         access_mode, TelemetryAPI\u001B[38;5;241m.\u001B[39mDRIVER,\n\u001B[1;32m    961\u001B[0m         work, (query_str, parameters, result_transformer_), {}\n\u001B[1;32m    962\u001B[0m     )\n",
      "File \u001B[0;32m~/opt/anaconda3/envs/neo4j-graphrag-python-example/lib/python3.11/site-packages/neo4j/_sync/work/session.py:554\u001B[0m, in \u001B[0;36mSession._run_transaction\u001B[0;34m(self, access_mode, api, transaction_function, args, kwargs)\u001B[0m\n\u001B[1;32m    553\u001B[0m \u001B[38;5;28;01mtry\u001B[39;00m:\n\u001B[0;32m--> 554\u001B[0m     result \u001B[38;5;241m=\u001B[39m transaction_function(tx, \u001B[38;5;241m*\u001B[39margs, \u001B[38;5;241m*\u001B[39m\u001B[38;5;241m*\u001B[39mkwargs)\n\u001B[1;32m    555\u001B[0m \u001B[38;5;28;01mexcept\u001B[39;00m asyncio\u001B[38;5;241m.\u001B[39mCancelledError:\n\u001B[1;32m    556\u001B[0m     \u001B[38;5;66;03m# if cancellation callback has not been called yet:\u001B[39;00m\n",
      "File \u001B[0;32m~/opt/anaconda3/envs/neo4j-graphrag-python-example/lib/python3.11/site-packages/neo4j/_sync/driver.py:1290\u001B[0m, in \u001B[0;36m_work\u001B[0;34m(tx, query, parameters, transformer)\u001B[0m\n\u001B[1;32m   1284\u001B[0m \u001B[38;5;28;01mdef\u001B[39;00m \u001B[38;5;21m_work\u001B[39m(\n\u001B[1;32m   1285\u001B[0m     tx: ManagedTransaction,\n\u001B[1;32m   1286\u001B[0m     query: te\u001B[38;5;241m.\u001B[39mLiteralString,\n\u001B[1;32m   1287\u001B[0m     parameters: t\u001B[38;5;241m.\u001B[39mDict[\u001B[38;5;28mstr\u001B[39m, t\u001B[38;5;241m.\u001B[39mAny],\n\u001B[1;32m   1288\u001B[0m     transformer: t\u001B[38;5;241m.\u001B[39mCallable[[Result], t\u001B[38;5;241m.\u001B[39mUnion[_T]]\n\u001B[1;32m   1289\u001B[0m ) \u001B[38;5;241m-\u001B[39m\u001B[38;5;241m>\u001B[39m _T:\n\u001B[0;32m-> 1290\u001B[0m     res \u001B[38;5;241m=\u001B[39m tx\u001B[38;5;241m.\u001B[39mrun(query, parameters)\n\u001B[1;32m   1291\u001B[0m     \u001B[38;5;28;01mreturn\u001B[39;00m transformer(res)\n",
      "File \u001B[0;32m~/opt/anaconda3/envs/neo4j-graphrag-python-example/lib/python3.11/site-packages/neo4j/_sync/work/transaction.py:172\u001B[0m, in \u001B[0;36mTransactionBase.run\u001B[0;34m(self, query, parameters, **kwparameters)\u001B[0m\n\u001B[1;32m    171\u001B[0m parameters \u001B[38;5;241m=\u001B[39m \u001B[38;5;28mdict\u001B[39m(parameters \u001B[38;5;129;01mor\u001B[39;00m {}, \u001B[38;5;241m*\u001B[39m\u001B[38;5;241m*\u001B[39mkwparameters)\n\u001B[0;32m--> 172\u001B[0m result\u001B[38;5;241m.\u001B[39m_tx_ready_run(query, parameters)\n\u001B[1;32m    174\u001B[0m \u001B[38;5;28;01mreturn\u001B[39;00m result\n",
      "File \u001B[0;32m~/opt/anaconda3/envs/neo4j-graphrag-python-example/lib/python3.11/site-packages/neo4j/_sync/work/result.py:171\u001B[0m, in \u001B[0;36mResult._tx_ready_run\u001B[0;34m(self, query, parameters)\u001B[0m\n\u001B[1;32m    167\u001B[0m \u001B[38;5;28;01mdef\u001B[39;00m \u001B[38;5;21m_tx_ready_run\u001B[39m(\u001B[38;5;28mself\u001B[39m, query, parameters):\n\u001B[1;32m    168\u001B[0m     \u001B[38;5;66;03m# BEGIN+RUN does not carry any extra on the RUN message.\u001B[39;00m\n\u001B[1;32m    169\u001B[0m     \u001B[38;5;66;03m# BEGIN {extra}\u001B[39;00m\n\u001B[1;32m    170\u001B[0m     \u001B[38;5;66;03m# RUN \"query\" {parameters} {extra}\u001B[39;00m\n\u001B[0;32m--> 171\u001B[0m     \u001B[38;5;28mself\u001B[39m\u001B[38;5;241m.\u001B[39m_run(query, parameters, \u001B[38;5;28;01mNone\u001B[39;00m, \u001B[38;5;28;01mNone\u001B[39;00m, \u001B[38;5;28;01mNone\u001B[39;00m, \u001B[38;5;28;01mNone\u001B[39;00m, \u001B[38;5;28;01mNone\u001B[39;00m, \u001B[38;5;28;01mNone\u001B[39;00m)\n",
      "File \u001B[0;32m~/opt/anaconda3/envs/neo4j-graphrag-python-example/lib/python3.11/site-packages/neo4j/_sync/work/result.py:221\u001B[0m, in \u001B[0;36mResult._run\u001B[0;34m(self, query, parameters, db, imp_user, access_mode, bookmarks, notifications_min_severity, notifications_disabled_classifications)\u001B[0m\n\u001B[1;32m    220\u001B[0m \u001B[38;5;28mself\u001B[39m\u001B[38;5;241m.\u001B[39m_connection\u001B[38;5;241m.\u001B[39msend_all()\n\u001B[0;32m--> 221\u001B[0m \u001B[38;5;28mself\u001B[39m\u001B[38;5;241m.\u001B[39m_attach()\n",
      "File \u001B[0;32m~/opt/anaconda3/envs/neo4j-graphrag-python-example/lib/python3.11/site-packages/neo4j/_sync/work/result.py:409\u001B[0m, in \u001B[0;36mResult._attach\u001B[0;34m(self)\u001B[0m\n\u001B[1;32m    408\u001B[0m \u001B[38;5;28;01mwhile\u001B[39;00m \u001B[38;5;28mself\u001B[39m\u001B[38;5;241m.\u001B[39m_attached \u001B[38;5;129;01mis\u001B[39;00m \u001B[38;5;28;01mFalse\u001B[39;00m:\n\u001B[0;32m--> 409\u001B[0m     \u001B[38;5;28mself\u001B[39m\u001B[38;5;241m.\u001B[39m_connection\u001B[38;5;241m.\u001B[39mfetch_message()\n",
      "File \u001B[0;32m~/opt/anaconda3/envs/neo4j-graphrag-python-example/lib/python3.11/site-packages/neo4j/_sync/io/_common.py:178\u001B[0m, in \u001B[0;36mConnectionErrorHandler.__getattr__.<locals>.outer.<locals>.inner\u001B[0;34m(*args, **kwargs)\u001B[0m\n\u001B[1;32m    177\u001B[0m \u001B[38;5;28;01mtry\u001B[39;00m:\n\u001B[0;32m--> 178\u001B[0m     func(\u001B[38;5;241m*\u001B[39margs, \u001B[38;5;241m*\u001B[39m\u001B[38;5;241m*\u001B[39mkwargs)\n\u001B[1;32m    179\u001B[0m \u001B[38;5;28;01mexcept\u001B[39;00m (Neo4jError, ServiceUnavailable, SessionExpired) \u001B[38;5;28;01mas\u001B[39;00m exc:\n",
      "File \u001B[0;32m~/opt/anaconda3/envs/neo4j-graphrag-python-example/lib/python3.11/site-packages/neo4j/_sync/io/_bolt.py:860\u001B[0m, in \u001B[0;36mBolt.fetch_message\u001B[0;34m(self)\u001B[0m\n\u001B[1;32m    857\u001B[0m tag, fields \u001B[38;5;241m=\u001B[39m \u001B[38;5;28mself\u001B[39m\u001B[38;5;241m.\u001B[39minbox\u001B[38;5;241m.\u001B[39mpop(\n\u001B[1;32m    858\u001B[0m     hydration_hooks\u001B[38;5;241m=\u001B[39m\u001B[38;5;28mself\u001B[39m\u001B[38;5;241m.\u001B[39mresponses[\u001B[38;5;241m0\u001B[39m]\u001B[38;5;241m.\u001B[39mhydration_hooks\n\u001B[1;32m    859\u001B[0m )\n\u001B[0;32m--> 860\u001B[0m res \u001B[38;5;241m=\u001B[39m \u001B[38;5;28mself\u001B[39m\u001B[38;5;241m.\u001B[39m_process_message(tag, fields)\n\u001B[1;32m    861\u001B[0m \u001B[38;5;28mself\u001B[39m\u001B[38;5;241m.\u001B[39midle_since \u001B[38;5;241m=\u001B[39m monotonic()\n",
      "File \u001B[0;32m~/opt/anaconda3/envs/neo4j-graphrag-python-example/lib/python3.11/site-packages/neo4j/_sync/io/_bolt5.py:370\u001B[0m, in \u001B[0;36mBolt5x0._process_message\u001B[0;34m(self, tag, fields)\u001B[0m\n\u001B[1;32m    369\u001B[0m \u001B[38;5;28;01mtry\u001B[39;00m:\n\u001B[0;32m--> 370\u001B[0m     response\u001B[38;5;241m.\u001B[39mon_failure(summary_metadata \u001B[38;5;129;01mor\u001B[39;00m {})\n\u001B[1;32m    371\u001B[0m \u001B[38;5;28;01mexcept\u001B[39;00m (ServiceUnavailable, DatabaseUnavailable):\n",
      "File \u001B[0;32m~/opt/anaconda3/envs/neo4j-graphrag-python-example/lib/python3.11/site-packages/neo4j/_sync/io/_common.py:245\u001B[0m, in \u001B[0;36mResponse.on_failure\u001B[0;34m(self, metadata)\u001B[0m\n\u001B[1;32m    244\u001B[0m Util\u001B[38;5;241m.\u001B[39mcallback(handler)\n\u001B[0;32m--> 245\u001B[0m \u001B[38;5;28;01mraise\u001B[39;00m Neo4jError\u001B[38;5;241m.\u001B[39mhydrate(\u001B[38;5;241m*\u001B[39m\u001B[38;5;241m*\u001B[39mmetadata)\n",
      "\u001B[0;31mClientError\u001B[0m: {code: Neo.ClientError.Schema.EquivalentSchemaRuleAlreadyExists} {message: An equivalent index already exists, 'Index( id=3, name='text_embeddings', type='VECTOR', schema=(:Chunk {embedding}), indexProvider='vector-2.0' )'.}",
      "\nThe above exception was the direct cause of the following exception:\n",
      "\u001B[0;31mNeo4jIndexError\u001B[0m                           Traceback (most recent call last)",
      "Cell \u001B[0;32mIn[7], line 3\u001B[0m\n\u001B[1;32m      1\u001B[0m \u001B[38;5;28;01mfrom\u001B[39;00m \u001B[38;5;21;01mneo4j_graphrag\u001B[39;00m\u001B[38;5;21;01m.\u001B[39;00m\u001B[38;5;21;01mindexes\u001B[39;00m \u001B[38;5;28;01mimport\u001B[39;00m create_vector_index\n\u001B[0;32m----> 3\u001B[0m create_vector_index(driver, name\u001B[38;5;241m=\u001B[39m\u001B[38;5;124m\"\u001B[39m\u001B[38;5;124mtext_embeddings\u001B[39m\u001B[38;5;124m\"\u001B[39m, label\u001B[38;5;241m=\u001B[39m\u001B[38;5;124m\"\u001B[39m\u001B[38;5;124mChunk\u001B[39m\u001B[38;5;124m\"\u001B[39m,\n\u001B[1;32m      4\u001B[0m                     embedding_property\u001B[38;5;241m=\u001B[39m\u001B[38;5;124m\"\u001B[39m\u001B[38;5;124membedding\u001B[39m\u001B[38;5;124m\"\u001B[39m, dimensions\u001B[38;5;241m=\u001B[39m\u001B[38;5;241m1536\u001B[39m, similarity_fn\u001B[38;5;241m=\u001B[39m\u001B[38;5;124m\"\u001B[39m\u001B[38;5;124mcosine\u001B[39m\u001B[38;5;124m\"\u001B[39m)\n",
      "File \u001B[0;32m~/opt/anaconda3/envs/neo4j-graphrag-python-example/lib/python3.11/site-packages/neo4j_graphrag/indexes.py:118\u001B[0m, in \u001B[0;36mcreate_vector_index\u001B[0;34m(driver, name, label, embedding_property, dimensions, similarity_fn, neo4j_database)\u001B[0m\n\u001B[1;32m    112\u001B[0m     driver\u001B[38;5;241m.\u001B[39mexecute_query(\n\u001B[1;32m    113\u001B[0m         query,\n\u001B[1;32m    114\u001B[0m         {\u001B[38;5;124m\"\u001B[39m\u001B[38;5;124mname\u001B[39m\u001B[38;5;124m\"\u001B[39m: name, \u001B[38;5;124m\"\u001B[39m\u001B[38;5;124mdimensions\u001B[39m\u001B[38;5;124m\"\u001B[39m: dimensions, \u001B[38;5;124m\"\u001B[39m\u001B[38;5;124msimilarity_fn\u001B[39m\u001B[38;5;124m\"\u001B[39m: similarity_fn},\n\u001B[1;32m    115\u001B[0m         database_\u001B[38;5;241m=\u001B[39mneo4j_database,\n\u001B[1;32m    116\u001B[0m     )\n\u001B[1;32m    117\u001B[0m \u001B[38;5;28;01mexcept\u001B[39;00m neo4j\u001B[38;5;241m.\u001B[39mexceptions\u001B[38;5;241m.\u001B[39mClientError \u001B[38;5;28;01mas\u001B[39;00m e:\n\u001B[0;32m--> 118\u001B[0m     \u001B[38;5;28;01mraise\u001B[39;00m Neo4jIndexError(\u001B[38;5;124mf\u001B[39m\u001B[38;5;124m\"\u001B[39m\u001B[38;5;124mNeo4j vector index creation failed: \u001B[39m\u001B[38;5;132;01m{\u001B[39;00me\u001B[38;5;241m.\u001B[39mmessage\u001B[38;5;132;01m}\u001B[39;00m\u001B[38;5;124m\"\u001B[39m) \u001B[38;5;28;01mfrom\u001B[39;00m \u001B[38;5;21;01me\u001B[39;00m\n",
      "\u001B[0;31mNeo4jIndexError\u001B[0m: Neo4j vector index creation failed: An equivalent index already exists, 'Index( id=3, name='text_embeddings', type='VECTOR', schema=(:Chunk {embedding}), indexProvider='vector-2.0' )'."
     ]
    }
   ],
   "execution_count": 7
  },
  {
   "metadata": {},
   "cell_type": "markdown",
   "source": "Now that the index is set up we will start simple with a VectorRetriever.  The VectorRetriever just queries Chunk nodes, brining back the text and some metadata",
   "id": "ec95391c989ee694"
  },
  {
   "metadata": {
    "ExecuteTime": {
     "end_time": "2024-10-12T21:20:53.023662Z",
     "start_time": "2024-10-12T21:20:52.536850Z"
    }
   },
   "cell_type": "code",
   "source": [
    "from neo4j_graphrag.retrievers import VectorRetriever\n",
    "\n",
    "vector_retriever = VectorRetriever(\n",
    "    driver,\n",
    "    index_name=\"text_embeddings\",\n",
    "    embedder=embedder,\n",
    "    return_properties=[\"text\"],\n",
    ")"
   ],
   "id": "eeda7e519c60a02b",
   "outputs": [],
   "execution_count": 8
  },
  {
   "metadata": {
    "ExecuteTime": {
     "end_time": "2024-10-12T21:20:54.489550Z",
     "start_time": "2024-10-12T21:20:53.892686Z"
    }
   },
   "cell_type": "code",
   "source": [
    "vector_res = vector_retriever.get_search_results(query_text = \"How is precision medicine applied to Lupus?\", \n",
    "                                                 top_k=3)\n",
    "for i in vector_res.records: print(\"====\\n\" + '...' + i.data()['node']['text'][500:700] + '...')"
   ],
   "id": "ca27731a1f99d71d",
   "outputs": [
    {
     "name": "stdout",
     "output_type": "stream",
     "text": [
      "====\n",
      "...y amongst its clinical features and immunological abnormalities. In this review, we\n",
      "attempt to capture the major immunological changes linked to the pathophysiology of lupus\n",
      "and discuss the challenge ...\n",
      "====\n",
      "...efore predicting risk\n",
      "of speci ﬁc organ damage, most adequate treatment, and\n",
      "would allow better follow-up and ﬂare prediction.\n",
      "In this review, we will outline the pathological processes\n",
      "in lupus in ge...\n",
      "====\n",
      "...hritis, lupus\n",
      "genetics, immunosuppression\n",
      "Introduction\n",
      "Systemic lupus erythematosus (SLE) is a chronic, complex, auto-immune disease of\n",
      "unknown origin with multiorgan involvement. Knowledge of its epi...\n"
     ]
    }
   ],
   "execution_count": 9
  },
  {
   "metadata": {},
   "cell_type": "markdown",
   "source": [
    "The GraphRAG Python Package offers a whole host of other useful retrieval covering different patterns.\n",
    "\n",
    "Below we will use the VectorCypherRetriever which allows you to run a graph traversal after finding text chunks.  We will use the Cypher Query language to define the logic to traverse the graph.  \n",
    "\n",
    "As a simple starting point, lets traverse up to 2 hops out from each chunk and textualize the different relationships we pick up.  We will use something called a quantified path pattern to accomplish in this. "
   ],
   "id": "2b2ee3da2339365f"
  },
  {
   "metadata": {
    "ExecuteTime": {
     "end_time": "2024-10-12T21:31:05.654961Z",
     "start_time": "2024-10-12T21:31:05.229638Z"
    }
   },
   "cell_type": "code",
   "source": [
    "from neo4j_graphrag.retrievers import VectorCypherRetriever\n",
    "\n",
    "vc_retriever = VectorCypherRetriever(\n",
    "    driver,\n",
    "    index_name=\"text_embeddings\",\n",
    "    embedder=embedder,\n",
    "    retrieval_query=\"\"\"\n",
    "//node = Chunk.  Go out 2-3 hops in the entity graph \n",
    "MATCH (node)<-[:FROM_CHUNK]-()-[rl:!FROM_CHUNK]-{1,2}()\n",
    "UNWIND rl AS r\n",
    "WITH DISTINCT r\n",
    "\n",
    "//Get the source document(s) from which each entity set was extracted (could be multiple)\n",
    "MATCH (sourceDoc:Document)<-[FROM_DOCUMENT]-()<-[:FROM_CHUNK]-(n)-[r]->(m)\n",
    "WITH n,r,m, apoc.text.join(collect(DISTINCT sourceDoc.path), ', ') AS sources\n",
    "\n",
    "// return textualize relations/triples\n",
    "RETURN n.name +\n",
    "   ' - ' + type(r) + '(' + coalesce(r.details, '') + ')' +  ' -> ' +\n",
    "   m.name AS fact\n",
    "\"\"\"\n",
    ")\n",
    "\n"
   ],
   "id": "caf84995e4bc8d4",
   "outputs": [],
   "execution_count": 16
  },
  {
   "metadata": {
    "ExecuteTime": {
     "end_time": "2024-10-12T21:21:33.218374Z",
     "start_time": "2024-10-12T21:21:31.737084Z"
    }
   },
   "cell_type": "code",
   "source": [
    "vc_res = vc_retriever.get_search_results(query_text = \"How is precision medicine applied to Lupus?\")\n",
    "\n",
    "print(f\"Retrieved {len(vc_res.records)} records. Previewing the first 50:\\n\")\n",
    "for i in vc_res.records[:50]: print(\"====\\n\" + i.data()['fact']) "
   ],
   "id": "4a1df583f2450f35",
   "outputs": [
    {
     "name": "stdout",
     "output_type": "stream",
     "text": [
      "Retrieved 473 records. Previewing the first 50:\n",
      "\n",
      "====\n",
      "Towards Precision Medicine in Systemic Lupus Erythematosus(A review article discussing systemic lupus erythematosus and precision medicine.) - AUTHORED(Elliott Lever is an author of the article.) -> Elliott Lever(One of the authors of the article.) [sourced from: truncated-pdfs/pgpm-13-39-trunc.pdf]\n",
      "====\n",
      "Elliott Lever(One of the authors of the article.) - ASSOCIATED_WITH(Elliott Lever is associated with University College Hospital London.) -> University College Hospital London(An institution associated with one of the authors.) [sourced from: truncated-pdfs/pgpm-13-39-trunc.pdf]\n",
      "====\n",
      "Towards Precision Medicine in Systemic Lupus Erythematosus(A review article discussing systemic lupus erythematosus and precision medicine.) - AUTHORED(Marta R Alves is an author of the article.) -> Marta R Alves(One of the authors of the article.) [sourced from: truncated-pdfs/pgpm-13-39-trunc.pdf]\n",
      "====\n",
      "Marta R Alves(One of the authors of the article.) - ASSOCIATED_WITH(Marta R Alves is associated with Centro Hospitalar do Porto.) -> Centro Hospitalar do Porto(An institution associated with one of the authors.) [sourced from: truncated-pdfs/pgpm-13-39-trunc.pdf]\n",
      "====\n",
      "Towards Precision Medicine in Systemic Lupus Erythematosus(A review article discussing systemic lupus erythematosus and precision medicine.) - AUTHORED(David A Isenberg is an author of the article.) -> David A Isenberg(One of the authors of the article.) [sourced from: truncated-pdfs/pgpm-13-39-trunc.pdf]\n",
      "====\n",
      "David A Isenberg(One of the authors of the article.) - AUTHORED(David A Isenberg authored the article) -> Pharmacogenomics and Personalized Medicine 2020:13 39 –49(Specific article published in the journal) [sourced from: truncated-pdfs/pgpm-13-39-trunc.pdf]\n",
      "====\n",
      "University College Hospital London(Location of the Centre for Rheumatology) - INCLUDES(University College Hospital London includes David A Isenberg) -> David A Isenberg(One of the authors of the article.) [sourced from: truncated-pdfs/pgpm-13-39-trunc.pdf]\n",
      "====\n",
      "Towards Precision Medicine in Systemic Lupus Erythematosus(A review article discussing systemic lupus erythematosus and precision medicine.) - PUBLISHED_IN(The article was published in the journal.) -> Pharmacogenomics and Personalized Medicine(A journal where the article was published.) [sourced from: truncated-pdfs/pgpm-13-39-trunc.pdf]\n",
      "====\n",
      "Pharmacogenomics and Personalized Medicine(A journal where the article was published.) - AUTHORED(The research published in the journal discusses the use of Hydroxychloroquine.) -> Hydroxychloroquine(A medication commonly prescribed for the treatment of SLE.) [sourced from: truncated-pdfs/pgpm-13-39-trunc.pdf]\n",
      "====\n",
      "Pharmacogenomics and Personalized Medicine 2020:13 39 –49(Specific article published in the journal) - PUBLISHED_IN(Article published in Pharmacogenomics and Personalized Medicine) -> Pharmacogenomics and Personalized Medicine(A journal where the article was published.) [sourced from: truncated-pdfs/pgpm-13-39-trunc.pdf]\n",
      "====\n",
      "Pharmacogenomics and Personalized Medicine(A journal where the article was published.) - CITES(The journal discusses systemic lupus erythematosus.) -> Systemic Lupus Erythematosus (SLE)(A disease characterized by loss of self-immune tolerance, production of self-reacting antibodies, and formation of immune complexes that cause chronic systemic inflammation and organ damage.) [sourced from: truncated-pdfs/pgpm-13-39-trunc.pdf]\n",
      "====\n",
      "Towards Precision Medicine in Systemic Lupus Erythematosus(A review article discussing systemic lupus erythematosus and precision medicine.) - DESCRIBES(The article discusses systemic lupus erythematosus.) -> Systemic lupus erythematosus(A condition characterized by diversity in clinical features and immunological abnormalities.) [sourced from: truncated-pdfs/pgpm-13-39-trunc.pdf]\n",
      "====\n",
      "Hydroxychloroquine(A medication commonly prescribed for the treatment of SLE.) - USED_FOR(Hydroxychloroquine is used in conjunction with methotrexate.) -> Methotrexate(A chemotherapy agent and immune system suppressant.) [sourced from: truncated-pdfs/pgpm-13-39-trunc.pdf]\n",
      "====\n",
      "Hydroxychloroquine(A medication commonly prescribed for the treatment of SLE.) - USED_FOR(Hydroxychloroquine is used in conjunction with corticosteroids.) -> Corticosteroids(A class of steroid hormones that are produced in the adrenal cortex and used to treat various conditions.) [sourced from: truncated-pdfs/pgpm-13-39-trunc.pdf]\n",
      "====\n",
      "Hydroxychloroquine(A medication commonly prescribed for the treatment of SLE.) - TREATS(Hydroxychloroquine is used to treat lupus.) -> lupus(A chronic autoimmune disease that can affect various parts of the body.) [sourced from: truncated-pdfs/pgpm-13-39-trunc.pdf]\n",
      "====\n",
      "Hydroxychloroquine(A medication commonly prescribed for the treatment of SLE.) - TREATS(Hydroxychloroquine is used to treat lupus.) -> Lupus(A chronic autoimmune disease that can affect various parts of the body.) [sourced from: truncated-pdfs/pgpm-13-39-trunc.pdf]\n",
      "====\n",
      "Systemic Lupus Erythematosus (SLE)(An autoimmune disease that occurs when the body's immune system attacks its own tissues.) - TREATS(Hydroxychloroquine is used to treat Systemic Lupus Erythematosus.) -> Hydroxychloroquine(A medication commonly prescribed for the treatment of SLE.) [sourced from: truncated-pdfs/GAP-between-patients-and-clinicians_2023_Best-Practice-trunc.pdf, truncated-pdfs/pgpm-13-39-trunc.pdf, truncated-pdfs/biomolecules-11-00928-v2-trunc.pdf]\n",
      "====\n",
      "Systemic Lupus Erythematosus (SLE)(A disease characterized by loss of self-immune tolerance, production of self-reacting antibodies, and formation of immune complexes that cause chronic systemic inflammation and organ damage.) - ASSOCIATED_WITH(Anti-dsDNA antibodies are produced by patients with SLE.) -> Anti-dsDNA antibodies(Biomarkers associated with SLE disease activity.) [sourced from: truncated-pdfs/pgpm-13-39-trunc.pdf, truncated-pdfs/biomolecules-11-00928-v2-trunc.pdf]\n",
      "====\n",
      "Systemic Lupus Erythematosus (SLE)(A disease characterized by loss of self-immune tolerance, production of self-reacting antibodies, and formation of immune complexes that cause chronic systemic inflammation and organ damage.) - ASSOCIATED_WITH(SLE has an important genetic linkage.) -> Genetic Susceptibility(The increased likelihood of developing a disease based on genetic factors.) [sourced from: truncated-pdfs/pgpm-13-39-trunc.pdf, truncated-pdfs/biomolecules-11-00928-v2-trunc.pdf]\n",
      "====\n",
      "Anti-Sm antibodies(Antibodies correlated with SLE disease activity and a specific diagnostic biomarker for SLE.) - ASSOCIATED_WITH(Anti-Sm antibodies are correlated with SLE disease activity.) -> Systemic Lupus Erythematosus (SLE)(A disease characterized by loss of self-immune tolerance, production of self-reacting antibodies, and formation of immune complexes that cause chronic systemic inflammation and organ damage.) [sourced from: truncated-pdfs/pgpm-13-39-trunc.pdf, truncated-pdfs/biomolecules-11-00928-v2-trunc.pdf]\n",
      "====\n",
      "Anti-C1q antibodies(Antibodies associated with hereditary C1q deficiency and linked to SLE.) - ASSOCIATED_WITH(Anti-C1q antibodies are strongly associated with SLE.) -> Systemic Lupus Erythematosus (SLE)(A disease characterized by loss of self-immune tolerance, production of self-reacting antibodies, and formation of immune complexes that cause chronic systemic inflammation and organ damage.) [sourced from: truncated-pdfs/biomolecules-11-00928-v2-trunc.pdf]\n",
      "====\n",
      "Systemic Lupus Erythematosus (SLE)(A disease characterized by loss of self-immune tolerance, production of self-reacting antibodies, and formation of immune complexes that cause chronic systemic inflammation and organ damage.) - PRODUCES(SLE is characterized by the production of self-reacting antibodies.) -> Self-reacting Antibodies(Antibodies that mistakenly target and react with a person's own tissues.) [sourced from: truncated-pdfs/pgpm-13-39-trunc.pdf, truncated-pdfs/biomolecules-11-00928-v2-trunc.pdf]\n",
      "====\n",
      "Systemic Lupus Erythematosus (SLE)(A disease characterized by loss of self-immune tolerance, production of self-reacting antibodies, and formation of immune complexes that cause chronic systemic inflammation and organ damage.) - PRODUCES(SLE leads to the formation of immune complexes.) -> Immune Complexes(Clusters formed by the binding of antibodies to antigens, which can precipitate in tissues.) [sourced from: truncated-pdfs/pgpm-13-39-trunc.pdf, truncated-pdfs/biomolecules-11-00928-v2-trunc.pdf]\n",
      "====\n",
      "Systemic Lupus Erythematosus (SLE)(A disease characterized by loss of self-immune tolerance, production of self-reacting antibodies, and formation of immune complexes that cause chronic systemic inflammation and organ damage.) - AFFECTS(SLE primarily affects women.) -> Women(The gender primarily affected by SLE, with a prevalence of 90% during childbearing years.) [sourced from: truncated-pdfs/pgpm-13-39-trunc.pdf, truncated-pdfs/biomolecules-11-00928-v2-trunc.pdf]\n",
      "====\n",
      "Systemic Lupus Erythematosus (SLE)(A disease characterized by loss of self-immune tolerance, production of self-reacting antibodies, and formation of immune complexes that cause chronic systemic inflammation and organ damage.) - AFFECTS(SLE is more prevalent in non-white populations.) -> Non-white Populations(Groups that show higher prevalence of SLE.) [sourced from: truncated-pdfs/pgpm-13-39-trunc.pdf, truncated-pdfs/biomolecules-11-00928-v2-trunc.pdf]\n",
      "====\n",
      "Systemic Lupus Erythematosus (SLE)(A disease characterized by loss of self-immune tolerance, production of self-reacting antibodies, and formation of immune complexes that cause chronic systemic inflammation and organ damage.) - HAS_SYMPTOM(Concordance in monozygotic twins is higher than in dizygotic twins.) -> Monozygotic Twins(Twins that are genetically identical.) [sourced from: truncated-pdfs/pgpm-13-39-trunc.pdf, truncated-pdfs/biomolecules-11-00928-v2-trunc.pdf]\n",
      "====\n",
      "Systemic Lupus Erythematosus (SLE)(A disease characterized by loss of self-immune tolerance, production of self-reacting antibodies, and formation of immune complexes that cause chronic systemic inflammation and organ damage.) - HAS_SYMPTOM(Concordance in dizygotic twins is lower than in monozygotic twins.) -> Dizygotic Twins(Twins that are genetically different.) [sourced from: truncated-pdfs/pgpm-13-39-trunc.pdf, truncated-pdfs/biomolecules-11-00928-v2-trunc.pdf]\n",
      "====\n",
      "Systemic Lupus Erythematosus (SLE)(A disease characterized by loss of self-immune tolerance, production of self-reacting antibodies, and formation of immune complexes that cause chronic systemic inflammation and organ damage.) - RESULTS_IN(SLE can lead to the development of lupus nephritis.) -> Lupus Nephritis(A condition characterized by inflammation of the kidneys due to systemic lupus erythematosus.) [sourced from: truncated-pdfs/pgpm-13-39-trunc.pdf, truncated-pdfs/biomolecules-11-00928-v2-trunc.pdf]\n",
      "====\n",
      "Systemic Lupus Erythematosus (SLE)(A disease characterized by loss of self-immune tolerance, production of self-reacting antibodies, and formation of immune complexes that cause chronic systemic inflammation and organ damage.) - RESULTS_IN(SLE causes chronic systemic inflammation.) -> Chronic Systemic Inflammation(A prolonged inflammatory response that can lead to tissue damage.) [sourced from: truncated-pdfs/pgpm-13-39-trunc.pdf, truncated-pdfs/biomolecules-11-00928-v2-trunc.pdf]\n",
      "====\n",
      "Systemic Lupus Erythematosus (SLE)(A disease characterized by loss of self-immune tolerance, production of self-reacting antibodies, and formation of immune complexes that cause chronic systemic inflammation and organ damage.) - RESULTS_IN(SLE results in organ damage.) -> Organ Damage(Harm or injury to the organs as a result of disease processes.) [sourced from: truncated-pdfs/pgpm-13-39-trunc.pdf, truncated-pdfs/biomolecules-11-00928-v2-trunc.pdf]\n",
      "====\n",
      "Precision Medicine(An approach to disease treatment that considers individual variability.) - DESCRIBES(Precision medicine is a relevant approach for treating SLE.) -> Systemic Lupus Erythematosus (SLE)(A disease characterized by loss of self-immune tolerance, production of self-reacting antibodies, and formation of immune complexes that cause chronic systemic inflammation and organ damage.) [sourced from: truncated-pdfs/pgpm-13-39-trunc.pdf]\n",
      "====\n",
      "Anti-Sm antibodies(Antibodies correlated with SLE disease activity and a specific diagnostic biomarker for SLE.) - BIOMARKER_FOR(Anti-Sm antibodies are a highly specific diagnostic biomarker for SLE.) -> Systemic Lupus Erythematosus (SLE)(A disease characterized by loss of self-immune tolerance, production of self-reacting antibodies, and formation of immune complexes that cause chronic systemic inflammation and organ damage.) [sourced from: truncated-pdfs/pgpm-13-39-trunc.pdf, truncated-pdfs/biomolecules-11-00928-v2-trunc.pdf]\n",
      "====\n",
      "Benlysta(A medication used to treat systemic lupus erythematosus.) - TREATS(Benlysta is used to treat Systemic Lupus Erythematosus.) -> Systemic Lupus Erythematosus (SLE)(A disease characterized by loss of self-immune tolerance, production of self-reacting antibodies, and formation of immune complexes that cause chronic systemic inflammation and organ damage.) [sourced from: truncated-pdfs/pgpm-13-39-trunc.pdf]\n",
      "====\n",
      "University College Hospital London(An institution associated with one of the authors.) - LOCATED_IN(University College Hospital is located in London, UK.) -> London, UK(Location of University College Hospital.) [sourced from: truncated-pdfs/pgpm-13-39-trunc.pdf]\n",
      "====\n",
      "Centro Hospitalar do Porto(An institution associated with one of the authors.) - LOCATED_IN(Centro Hospitalar do Porto is located in Porto, Portugal.) -> Porto, Portugal(Location of Centro Hospitalar do Porto.) [sourced from: truncated-pdfs/pgpm-13-39-trunc.pdf]\n",
      "====\n",
      "Choi et al.(Researchers who reported findings related to SLE and ANA tests.) - AUTHORED(Choi et al. reported that 6.2% of patients with SLE were ANA-negative.) -> SLE(Systemic Lupus Erythematosus, an autoimmune disease.) [sourced from: truncated-pdfs/biomolecules-11-00928-v2-trunc.pdf]\n",
      "====\n",
      "SLE(Systemic Lupus Erythematosus, an autoimmune disease.) - ASSESSES(SLE is assessed using Health-Related Quality of Life metrics.) -> Health-Related Quality of Life(A multi-dimensional concept that includes subjective evaluations of both positive and negative aspects of life.) [sourced from: truncated-pdfs/GAP-between-patients-and-clinicians_2023_Best-Practice-trunc.pdf, truncated-pdfs/pgpm-13-39-trunc.pdf, truncated-pdfs/biomolecules-11-00928-v2-trunc.pdf]\n",
      "====\n",
      "Health-Related Quality of Life(A multi-dimensional concept that includes subjective evaluations of both positive and negative aspects of life.) - INCLUDES(Health-Related Quality of Life includes patient-reported outcomes.) -> patient-reported outcomes (PROs)(Reports coming directly from patients about how they feel or function in relation to a health condition.) [sourced from: truncated-pdfs/GAP-between-patients-and-clinicians_2023_Best-Practice-trunc.pdf]\n",
      "====\n",
      "SLE(Systemic Lupus Erythematosus, an autoimmune disease.) - ASSESSES(SLE is associated with disease burden.) -> disease burden(The impact of a disease on a patient's quality of life, including symptoms and treatment side effects.) [sourced from: truncated-pdfs/GAP-between-patients-and-clinicians_2023_Best-Practice-trunc.pdf, truncated-pdfs/pgpm-13-39-trunc.pdf, truncated-pdfs/biomolecules-11-00928-v2-trunc.pdf]\n",
      "====\n",
      "SLE(Systemic Lupus Erythematosus, an autoimmune disease.) - ASSESSES(SLE diagnosis is assessed through various criteria.) -> Diagnosis(The process of identifying a disease from its signs and symptoms.) [sourced from: truncated-pdfs/GAP-between-patients-and-clinicians_2023_Best-Practice-trunc.pdf, truncated-pdfs/pgpm-13-39-trunc.pdf, truncated-pdfs/biomolecules-11-00928-v2-trunc.pdf]\n",
      "====\n",
      "SLE(Systemic Lupus Erythematosus, an autoimmune disease that can affect various parts of the body.) - ASSESSES(SLE is assessed through various diagnostic processes.) -> Diagnosis(The process of identifying a disease from its signs and symptoms.) [sourced from: truncated-pdfs/GAP-between-patients-and-clinicians_2023_Best-Practice-trunc.pdf, truncated-pdfs/pgpm-13-39-trunc.pdf, truncated-pdfs/biomolecules-11-00928-v2-trunc.pdf]\n",
      "====\n",
      "Diagnosis(The process of identifying a disease from its signs and symptoms.) - AFFECTS(Diagnosis is affected by the sensitivity of biomarkers.) -> Sensitivity(The ability of a test to correctly identify those with the disease.) [sourced from: truncated-pdfs/biomolecules-11-00928-v2-trunc.pdf]\n",
      "====\n",
      "Diagnosis(The process of identifying a disease from its signs and symptoms.) - AFFECTS(Diagnosis is affected by the specificity of biomarkers.) -> Specificity(The ability of a test to correctly identify those without the disease.) [sourced from: truncated-pdfs/biomolecules-11-00928-v2-trunc.pdf]\n",
      "====\n",
      "Diagnosis(The process of identifying a disease from its signs and symptoms.) - REQUIRES(Diagnosis requires high levels of physician skill and experience.) -> Physician(A medical professional who diagnoses and treats patients.) [sourced from: truncated-pdfs/biomolecules-11-00928-v2-trunc.pdf]\n",
      "====\n",
      "treatment decisions(Decisions made regarding the management of a patient's condition.) - ASSESSES(Treatment decisions assess the management of SLE.) -> SLE(Systemic Lupus Erythematosus, an autoimmune disease.) [sourced from: truncated-pdfs/GAP-between-patients-and-clinicians_2023_Best-Practice-trunc.pdf]\n",
      "====\n",
      "physicians(Medical professionals who treat patients.) - INTERACTS_WITH(Physicians interact with treatment decisions in managing SLE.) -> treatment decisions(Decisions made regarding the management of a patient's condition.) [sourced from: truncated-pdfs/GAP-between-patients-and-clinicians_2023_Best-Practice-trunc.pdf]\n",
      "====\n",
      "physicians(Medical professionals who treat patients.) - ASSESSES(Physicians assess the management of SLE.) -> SLE(Systemic Lupus Erythematosus, an autoimmune disease.) [sourced from: truncated-pdfs/GAP-between-patients-and-clinicians_2023_Best-Practice-trunc.pdf]\n",
      "====\n",
      "physicians(Medical professionals who treat patients.) - ASSESSES(Physicians assess the management of disease.) -> disease(A disease is a pathological condition of a bodily part, an organism, or system resulting from various causes.) [sourced from: truncated-pdfs/GAP-between-patients-and-clinicians_2023_Best-Practice-trunc.pdf]\n",
      "====\n",
      "physicians(Medical professionals who treat patients.) - AFFECTS(Physicians' lack of time affects the use of PROs.) -> PROs(Patient-reported outcomes.) [sourced from: truncated-pdfs/GAP-between-patients-and-clinicians_2023_Best-Practice-trunc.pdf]\n",
      "====\n",
      "evaluation of disease activity(Assessment of the severity and progression of a disease) - ASSESSES(Evaluation of disease activity is key in assessing SLE) -> SLE(Systemic Lupus Erythematosus, an autoimmune disease.) [sourced from: truncated-pdfs/GAP-between-patients-and-clinicians_2023_Best-Practice-trunc.pdf]\n"
     ]
    }
   ],
   "execution_count": 12
  },
  {
   "metadata": {
    "ExecuteTime": {
     "end_time": "2024-10-12T21:33:57.941752Z",
     "start_time": "2024-10-12T21:33:55.911050Z"
    }
   },
   "cell_type": "code",
   "source": [
    "vc_res = vc_retriever.get_search_results(query_text = \"How is precision medicine applied to Lupus?\")\n",
    "\n",
    "print(f\"Retrieved {len(vc_res.records)} records. Previewing the first 50:\\n\")\n",
    "for i in vc_res.records[:50]: print(\"====\\n\" + i.data()['fact'])"
   ],
   "id": "e17c3fe3cbfb18f6",
   "outputs": [
    {
     "name": "stdout",
     "output_type": "stream",
     "text": [
      "Retrieved 473 records. Previewing the first 50:\n",
      "\n",
      "====\n",
      "Towards Precision Medicine in Systemic Lupus Erythematosus - AUTHORED(Elliott Lever is an author of the article.) -> Elliott Lever\n",
      "====\n",
      "Elliott Lever - ASSOCIATED_WITH(Elliott Lever is associated with University College Hospital London.) -> University College Hospital London\n",
      "====\n",
      "Towards Precision Medicine in Systemic Lupus Erythematosus - AUTHORED(Marta R Alves is an author of the article.) -> Marta R Alves\n",
      "====\n",
      "Marta R Alves - ASSOCIATED_WITH(Marta R Alves is associated with Centro Hospitalar do Porto.) -> Centro Hospitalar do Porto\n",
      "====\n",
      "Towards Precision Medicine in Systemic Lupus Erythematosus - AUTHORED(David A Isenberg is an author of the article.) -> David A Isenberg\n",
      "====\n",
      "David A Isenberg - AUTHORED(David A Isenberg authored the article) -> Pharmacogenomics and Personalized Medicine 2020:13 39 –49\n",
      "====\n",
      "University College Hospital London - INCLUDES(University College Hospital London includes David A Isenberg) -> David A Isenberg\n",
      "====\n",
      "Towards Precision Medicine in Systemic Lupus Erythematosus - PUBLISHED_IN(The article was published in the journal.) -> Pharmacogenomics and Personalized Medicine\n",
      "====\n",
      "Pharmacogenomics and Personalized Medicine - AUTHORED(The research published in the journal discusses the use of Hydroxychloroquine.) -> Hydroxychloroquine\n",
      "====\n",
      "Pharmacogenomics and Personalized Medicine 2020:13 39 –49 - PUBLISHED_IN(Article published in Pharmacogenomics and Personalized Medicine) -> Pharmacogenomics and Personalized Medicine\n",
      "====\n",
      "Pharmacogenomics and Personalized Medicine - CITES(The journal discusses systemic lupus erythematosus.) -> Systemic Lupus Erythematosus (SLE)\n",
      "====\n",
      "Towards Precision Medicine in Systemic Lupus Erythematosus - DESCRIBES(The article discusses systemic lupus erythematosus.) -> Systemic lupus erythematosus\n",
      "====\n",
      "Hydroxychloroquine - USED_FOR(Hydroxychloroquine is used in conjunction with methotrexate.) -> Methotrexate\n",
      "====\n",
      "Hydroxychloroquine - USED_FOR(Hydroxychloroquine is used in conjunction with corticosteroids.) -> Corticosteroids\n",
      "====\n",
      "Hydroxychloroquine - TREATS(Hydroxychloroquine is used to treat lupus.) -> lupus\n",
      "====\n",
      "Hydroxychloroquine - TREATS(Hydroxychloroquine is used to treat lupus.) -> Lupus\n",
      "====\n",
      "Systemic Lupus Erythematosus (SLE) - TREATS(Hydroxychloroquine is used to treat Systemic Lupus Erythematosus.) -> Hydroxychloroquine\n",
      "====\n",
      "Systemic Lupus Erythematosus (SLE) - ASSOCIATED_WITH(Anti-dsDNA antibodies are produced by patients with SLE.) -> Anti-dsDNA antibodies\n",
      "====\n",
      "Systemic Lupus Erythematosus (SLE) - ASSOCIATED_WITH(SLE has an important genetic linkage.) -> Genetic Susceptibility\n",
      "====\n",
      "Anti-Sm antibodies - ASSOCIATED_WITH(Anti-Sm antibodies are correlated with SLE disease activity.) -> Systemic Lupus Erythematosus (SLE)\n",
      "====\n",
      "Anti-C1q antibodies - ASSOCIATED_WITH(Anti-C1q antibodies are strongly associated with SLE.) -> Systemic Lupus Erythematosus (SLE)\n",
      "====\n",
      "Systemic Lupus Erythematosus (SLE) - PRODUCES(SLE is characterized by the production of self-reacting antibodies.) -> Self-reacting Antibodies\n",
      "====\n",
      "Systemic Lupus Erythematosus (SLE) - PRODUCES(SLE leads to the formation of immune complexes.) -> Immune Complexes\n",
      "====\n",
      "Systemic Lupus Erythematosus (SLE) - AFFECTS(SLE primarily affects women.) -> Women\n",
      "====\n",
      "Systemic Lupus Erythematosus (SLE) - AFFECTS(SLE is more prevalent in non-white populations.) -> Non-white Populations\n",
      "====\n",
      "Systemic Lupus Erythematosus (SLE) - HAS_SYMPTOM(Concordance in monozygotic twins is higher than in dizygotic twins.) -> Monozygotic Twins\n",
      "====\n",
      "Systemic Lupus Erythematosus (SLE) - HAS_SYMPTOM(Concordance in dizygotic twins is lower than in monozygotic twins.) -> Dizygotic Twins\n",
      "====\n",
      "Systemic Lupus Erythematosus (SLE) - RESULTS_IN(SLE can lead to the development of lupus nephritis.) -> Lupus Nephritis\n",
      "====\n",
      "Systemic Lupus Erythematosus (SLE) - RESULTS_IN(SLE causes chronic systemic inflammation.) -> Chronic Systemic Inflammation\n",
      "====\n",
      "Systemic Lupus Erythematosus (SLE) - RESULTS_IN(SLE results in organ damage.) -> Organ Damage\n",
      "====\n",
      "Precision Medicine - DESCRIBES(Precision medicine is a relevant approach for treating SLE.) -> Systemic Lupus Erythematosus (SLE)\n",
      "====\n",
      "Anti-Sm antibodies - BIOMARKER_FOR(Anti-Sm antibodies are a highly specific diagnostic biomarker for SLE.) -> Systemic Lupus Erythematosus (SLE)\n",
      "====\n",
      "Benlysta - TREATS(Benlysta is used to treat Systemic Lupus Erythematosus.) -> Systemic Lupus Erythematosus (SLE)\n",
      "====\n",
      "University College Hospital London - LOCATED_IN(University College Hospital is located in London, UK.) -> London, UK\n",
      "====\n",
      "Centro Hospitalar do Porto - LOCATED_IN(Centro Hospitalar do Porto is located in Porto, Portugal.) -> Porto, Portugal\n",
      "====\n",
      "Choi et al. - AUTHORED(Choi et al. reported that 6.2% of patients with SLE were ANA-negative.) -> SLE\n",
      "====\n",
      "SLE - ASSESSES(SLE is assessed using Health-Related Quality of Life metrics.) -> Health-Related Quality of Life\n",
      "====\n",
      "Health-Related Quality of Life - INCLUDES(Health-Related Quality of Life includes patient-reported outcomes.) -> patient-reported outcomes (PROs)\n",
      "====\n",
      "SLE - ASSESSES(SLE is associated with disease burden.) -> disease burden\n",
      "====\n",
      "SLE - ASSESSES(SLE diagnosis is assessed through various criteria.) -> Diagnosis\n",
      "====\n",
      "SLE - ASSESSES(SLE is assessed through various diagnostic processes.) -> Diagnosis\n",
      "====\n",
      "Diagnosis - AFFECTS(Diagnosis is affected by the sensitivity of biomarkers.) -> Sensitivity\n",
      "====\n",
      "Diagnosis - AFFECTS(Diagnosis is affected by the specificity of biomarkers.) -> Specificity\n",
      "====\n",
      "Diagnosis - REQUIRES(Diagnosis requires high levels of physician skill and experience.) -> Physician\n",
      "====\n",
      "treatment decisions - ASSESSES(Treatment decisions assess the management of SLE.) -> SLE\n",
      "====\n",
      "physicians - INTERACTS_WITH(Physicians interact with treatment decisions in managing SLE.) -> treatment decisions\n",
      "====\n",
      "physicians - ASSESSES(Physicians assess the management of SLE.) -> SLE\n",
      "====\n",
      "physicians - ASSESSES(Physicians assess the management of disease.) -> disease\n",
      "====\n",
      "physicians - AFFECTS(Physicians' lack of time affects the use of PROs.) -> PROs\n",
      "====\n",
      "evaluation of disease activity - ASSESSES(Evaluation of disease activity is key in assessing SLE) -> SLE\n"
     ]
    }
   ],
   "execution_count": 20
  },
  {
   "metadata": {},
   "cell_type": "markdown",
   "source": [
    "## GraphRAG \n",
    " You can construct GraphRAG pipelines with the `GraphRAG` class.  At minimum, you will need to pass the constructor an LLM and a retriever. You can also pass a custom prompt template, but for now we will just use the default.\n",
    " "
   ],
   "id": "f2e55b8b3511cf1"
  },
  {
   "metadata": {
    "ExecuteTime": {
     "end_time": "2024-10-12T21:52:37.580115Z",
     "start_time": "2024-10-12T21:52:37.529005Z"
    }
   },
   "cell_type": "code",
   "source": [
    "\n",
    "from neo4j_graphrag.llm import OpenAILLM as LLM\n",
    "from neo4j_graphrag.generation.graphrag import GraphRAG\n",
    "\n",
    "llm = LLM(model_name=\"gpt-4o\",  model_params={\"temperature\": 0.0})\n",
    "\n",
    "v_rag  = GraphRAG(llm=llm, retriever=vector_retriever)\n",
    "vc_rag = GraphRAG(llm=llm, retriever=vc_retriever)"
   ],
   "id": "8e2cf317a83d59ae",
   "outputs": [],
   "execution_count": 22
  },
  {
   "metadata": {
    "ExecuteTime": {
     "end_time": "2024-10-12T22:52:37.913707Z",
     "start_time": "2024-10-12T22:52:31.619714Z"
    }
   },
   "cell_type": "code",
   "source": [
    "q = \"How is precision medicine applied to Lupus?\"\n",
    "print(f\"Vector Response: \\n{v_rag.search(q, retriever_config={'top_k':5}).answer}\")\n",
    "print(\"\\n===========================\\n\")\n",
    "print(f\"Vector + Cypher Response: \\n{vc_rag.search(q, retriever_config={'top_k':5}).answer}\")"
   ],
   "id": "4d0aff643e689611",
   "outputs": [
    {
     "name": "stdout",
     "output_type": "stream",
     "text": [
      "Vector Response: \n",
      "Precision medicine in systemic lupus erythematosus (SLE) involves a tailored approach to each patient based on their genetic and epigenetic characteristics, which influence disease pathophysiology and drug response. The goal is to optimally assess SLE patients, predict disease course, and determine treatment response at diagnosis. Ideally, each patient would undergo an initial evaluation to profile their disease, assess the main pathophysiologic pathways through biomarkers, predict the risk of specific organ damage, identify the most suitable treatment, and allow for better follow-up and flare prediction. However, due to the diverse immunopathological abnormalities in different organs/systems in lupus patients, fully applying precision medicine to SLE is still a challenge. Current treatments often involve broadly similar types of drugs, such as steroids, immunosuppressives, and hydroxychloroquine, despite the differences in disease presentation. Future care is expected to involve molecular diagnostics throughout the patient's time course to drive the least toxic combination of therapies.\n",
      "\n",
      "===========================\n",
      "\n",
      "Vector + Cypher Response: \n",
      "Precision medicine is applied to lupus, specifically systemic lupus erythematosus (SLE), by tailoring treatment strategies to the individual characteristics of each patient. This approach considers the genetic, environmental, and lifestyle factors that contribute to the disease. Precision medicine in SLE involves the use of biomarkers to predict disease activity, treatment response, and potential organ damage. It also includes the integration of patient-reported outcomes (PROs) to better understand the patient's health status and to guide treatment decisions. The goal is to improve disease management by providing more personalized and effective therapies, ultimately aiming for remission and preventing organ damage.\n"
     ]
    }
   ],
   "execution_count": 45
  },
  {
   "metadata": {
    "ExecuteTime": {
     "end_time": "2024-10-12T22:54:16.573425Z",
     "start_time": "2024-10-12T22:54:04.105728Z"
    }
   },
   "cell_type": "code",
   "source": [
    "q = \"Can you summarize systemic lupus erythematosus (SLE)? including common effects, biomarkers, treatments, and current challenges faced by Physicians and patients? provide in detailed list format.\"\n",
    "print(f\"Vector Response: \\n{v_rag.search(q, retriever_config={'top_k': 5}).answer}\")\n",
    "print(\"\\n===========================\\n\")\n",
    "print(f\"Vector + Cypher Response: \\n{vc_rag.search(q, retriever_config={'top_k': 5}).answer}\")"
   ],
   "id": "d8afa42fcc8a475a",
   "outputs": [
    {
     "name": "stdout",
     "output_type": "stream",
     "text": [
      "Vector Response: \n",
      "Certainly! Here's a detailed summary of systemic lupus erythematosus (SLE), including its common effects, biomarkers, treatments, and current challenges faced by physicians and patients:\n",
      "\n",
      "### Common Effects of SLE:\n",
      "1. **Immune System Dysfunction**: SLE is characterized by aberrant activity of the immune system.\n",
      "2. **Clinical Heterogeneity**: The disease presents with a wide range of clinical manifestations.\n",
      "3. **Organ Involvement**:\n",
      "   - **Renal**: Kidney-related symptoms.\n",
      "   - **Dermatological**: Skin-related symptoms.\n",
      "   - **Neuropsychiatric**: Symptoms affecting the nervous system and mental health.\n",
      "   - **Cardiovascular**: Heart and blood vessel-related symptoms.\n",
      "\n",
      "### Biomarkers for SLE:\n",
      "1. **Clinical Biomarkers**: Used for diagnosing and monitoring disease activity.\n",
      "2. **Immunological Biomarkers**: Help in assessing pathophysiological processes.\n",
      "3. **Novel Biomarkers**: Discovered through \"omics\" research, providing new insights into disease mechanisms.\n",
      "\n",
      "### Treatments for SLE:\n",
      "1. **Treat-to-Target Strategy**: Aims to achieve remission and low disease activity.\n",
      "2. **Precision Medicine**: Efforts are being made to tailor treatments based on individual patient characteristics and immunological changes.\n",
      "\n",
      "### Current Challenges:\n",
      "1. **Diagnosis and Assessment**:\n",
      "   - Clinical and physiological assessments are often inadequate for diagnosing and assessing SLE.\n",
      "   - There is a need for better biomarkers to improve diagnosis and monitoring.\n",
      "\n",
      "2. **Patient Management**:\n",
      "   - SLE is not a single-target disease, requiring consideration of multiple aspects in its management.\n",
      "   - Physicians focus on preventing organ damage, while patients are concerned with overall quality of life.\n",
      "\n",
      "3. **Health-Related Quality of Life (HRQoL)**:\n",
      "   - Achieving clinical targets does not always correlate with improved HRQoL.\n",
      "   - Patients' perception of health status is influenced by various factors beyond clinical measures.\n",
      "\n",
      "4. **Communication Gap**:\n",
      "   - There is a need for better communication strategies between patients and healthcare providers.\n",
      "   - Patients desire to be seen as whole individuals, with consideration of how they feel and function.\n",
      "\n",
      "5. **Increasing Prevalence**:\n",
      "   - There is a trend of increasing SLE prevalence over time, adding to healthcare-related costs.\n",
      "\n",
      "6. **Complexity and Heterogeneity**:\n",
      "   - SLE's unpredictable relapsing and remitting course makes management challenging.\n",
      "   - The disease's complexity requires a comprehensive approach to treatment and care.\n",
      "\n",
      "These points highlight the multifaceted nature of SLE and the ongoing efforts to improve patient outcomes through better diagnostic tools, personalized treatment strategies, and enhanced patient-physician communication.\n",
      "\n",
      "===========================\n",
      "\n",
      "Vector + Cypher Response: \n",
      "Certainly! Here's a detailed summary of systemic lupus erythematosus (SLE) including its common effects, biomarkers, treatments, and current challenges faced by physicians and patients:\n",
      "\n",
      "### Common Effects of SLE:\n",
      "1. **Multi-organ Involvement**: SLE is associated with multi-organ involvement, affecting various systems in the body.\n",
      "2. **Clinical Manifestations**: SLE presents a complex clinical picture with a wide range of manifestations.\n",
      "3. **Symptoms**:\n",
      "   - **Fatigue**: A common symptom associated with SLE.\n",
      "   - **Generalized Pain**: Often experienced by patients.\n",
      "   - **Depression and Anxiety**: Psychological symptoms associated with SLE.\n",
      "   - **Cognitive Dysfunction**: Impacts mental processes.\n",
      "   - **Sleep Disturbance**: Affects sleep quality.\n",
      "   - **Skin Lesions**: Includes subacute cutaneous lupus.\n",
      "   - **Renal Symptoms**: Such as lupus nephritis.\n",
      "   - **Dermatological Symptoms**: Skin-related issues.\n",
      "   - **Neuropsychiatric Symptoms**: Affects the nervous system.\n",
      "   - **Cardiovascular Symptoms**: Heart-related issues.\n",
      "4. **Immune System Dysfunction**: Characterized by immune system abnormalities.\n",
      "5. **Quality of Life**: SLE significantly impacts the health-related quality of life (HRQoL) of patients.\n",
      "\n",
      "### Biomarkers for SLE:\n",
      "1. **Anticardiolipin Antibodies**: A biomarker for the immunologic criteria of SLE.\n",
      "2. **Anti-Sm Antibodies**: Highly specific diagnostic biomarker for SLE.\n",
      "3. **Antinuclear Antibody (ANA)**: Commonly used in diagnosis.\n",
      "4. **Double-stranded DNA Antibodies**: Associated with disease activity.\n",
      "5. **Complement (C2, C3, C4)**: Included as laboratory biomarkers.\n",
      "6. **Proteinuria and Urinary Casts**: Indicators of kidney involvement.\n",
      "7. **Hemolytic Anemia and Reticulocytosis**: Blood-related biomarkers.\n",
      "8. **Lupus Erythematosus (LE) Cells**: Used in laboratory assessments.\n",
      "\n",
      "### Treatments for SLE:\n",
      "1. **Hydroxychloroquine**: Used for mild disease and skin-limited disease.\n",
      "2. **Steroids (e.g., Prednisolone)**: Used to manage inflammation.\n",
      "3. **Immunosuppressives**: Help control the immune response.\n",
      "4. **Benlysta**: A biologic treatment option.\n",
      "5. **Precision Medicine**: An emerging approach for personalized treatment.\n",
      "\n",
      "### Current Challenges:\n",
      "1. **Unpredictable Course**: SLE has an unpredictable relapsing and remitting course.\n",
      "2. **Disease Management**: Requires effective patient-physician communication and a treat-to-target strategy.\n",
      "3. **Organ Damage Prevention**: A key focus for clinicians.\n",
      "4. **Quality of Life**: Managing the impact on patients' quality of life remains a challenge.\n",
      "5. **Patient Concerns**: Patients often have concerns related to their health, joints, skin, and overall quality of life.\n",
      "6. **Adherence to Treatment**: Ensuring patients adhere to prescribed treatments is crucial.\n",
      "7. **Monitoring Disease Activity**: Continuous monitoring is essential for effective management.\n",
      "8. **Healthcare Costs**: SLE severity affects healthcare-related costs.\n",
      "\n",
      "These points provide a comprehensive overview of systemic lupus erythematosus, highlighting its complexity and the multifaceted approach required for its management.\n"
     ]
    }
   ],
   "execution_count": 46
  },
  {
   "metadata": {},
   "cell_type": "code",
   "outputs": [],
   "execution_count": null,
   "source": "",
   "id": "580d794c094f9ee3"
  }
 ],
 "metadata": {
  "kernelspec": {
   "display_name": "Python 3",
   "language": "python",
   "name": "python3"
  },
  "language_info": {
   "codemirror_mode": {
    "name": "ipython",
    "version": 2
   },
   "file_extension": ".py",
   "mimetype": "text/x-python",
   "name": "python",
   "nbconvert_exporter": "python",
   "pygments_lexer": "ipython2",
   "version": "2.7.6"
  }
 },
 "nbformat": 4,
 "nbformat_minor": 5
}
