{
 "cells": [
  {
   "metadata": {},
   "cell_type": "markdown",
   "source": [
    "# GraphRAG Python package\n",
    "End-to-end-example on research papers. "
   ],
   "id": "cf0be1ddc2bd2434"
  },
  {
   "metadata": {},
   "cell_type": "code",
   "source": [
    "%%capture\n",
    "%pip install fsspec langchain-text-splitters openai python-dotenv numpy torch neo4j-graphrag-python"
   ],
   "id": "9820f541adf30bfd",
   "outputs": [],
   "execution_count": null
  },
  {
   "metadata": {
    "ExecuteTime": {
     "end_time": "2024-10-12T23:37:53.429006Z",
     "start_time": "2024-10-12T23:37:53.420785Z"
    }
   },
   "cell_type": "code",
   "source": [
    "from dotenv import load_dotenv\n",
    "import os\n",
    "\n",
    "# load neo4j credentials (and openai api key in background)\n",
    "load_dotenv('.env', override=True)\n",
    "NEO4J_URI = os.getenv('NEO4J_URI')\n",
    "NEO4J_USERNAME = os.getenv('NEO4J_USERNAME')\n",
    "NEO4J_PASSWORD = os.getenv('NEO4J_PASSWORD')"
   ],
   "id": "a023c71324bf6e7f",
   "outputs": [],
   "execution_count": 1
  },
  {
   "metadata": {},
   "cell_type": "markdown",
   "source": "## Knowledge Graph Building\n",
   "id": "418bd212bae7f492"
  },
  {
   "metadata": {
    "ExecuteTime": {
     "end_time": "2024-10-12T23:37:54.152596Z",
     "start_time": "2024-10-12T23:37:53.430163Z"
    }
   },
   "cell_type": "code",
   "source": [
    "import neo4j\n",
    "from neo4j_graphrag.llm import OpenAILLM\n",
    "from neo4j_graphrag.embeddings.openai import OpenAIEmbeddings\n",
    "\n",
    "driver = neo4j.GraphDatabase.driver(NEO4J_URI, auth=(NEO4J_USERNAME, NEO4J_PASSWORD))\n",
    "\n",
    "ex_llm=OpenAILLM(\n",
    "    model_name=\"gpt-4o-mini\",\n",
    "    model_params={\n",
    "        \"response_format\": {\"type\": \"json_object\"}, # use json_object formatting for best results\n",
    "        \"temperature\": 0 # turning temperature down for more deterministic results\n",
    "    }\n",
    ")\n",
    "\n",
    "#create text embedder\n",
    "embedder = OpenAIEmbeddings()"
   ],
   "id": "fd60a2f512b9701d",
   "outputs": [],
   "execution_count": 2
  },
  {
   "metadata": {
    "ExecuteTime": {
     "end_time": "2024-10-12T23:37:54.156139Z",
     "start_time": "2024-10-12T23:37:54.153649Z"
    }
   },
   "cell_type": "code",
   "source": [
    "#define node labels\n",
    "basic_node_labels = [\"Object\", \"Entity\", \"Group\", \"Person\", \"Organization\", \"Place\"]\n",
    "\n",
    "academic_node_labels = [\"ArticleOrPaper\", \"PublicationOrJournal\"]\n",
    "\n",
    "medical_node_labels = [\"Anatomy\", \"BiologicalProcess\", \"Cell\", \"CellularComponent\", \n",
    "                       \"CellType\", \"Condition\", \"Disease\", \"Drug\",\n",
    "                       \"EffectOrPhenotype\", \"Exposure\", \"GeneOrProtein\", \"Molecule\",\n",
    "                       \"MolecularFunction\", \"Pathway\"]\n",
    "\n",
    "node_labels = basic_node_labels + academic_node_labels + medical_node_labels\n",
    "\n",
    "# define relationship types\n",
    "rel_types = [\"ACTIVATES\", \"AFFECTS\", \"ASSESSES\", \"ASSOCIATED_WITH\", \"AUTHORED\",\n",
    "    \"BIOMARKER_FOR\", \"CAUSES\", \"CITES\", \"CONTRIBUTES_TO\", \"DESCRIBES\", \"EXPRESSES\",\n",
    "    \"HAS_REACTION\", \"HAS_SYMPTOM\", \"INCLUDES\", \"INTERACTS_WITH\", \"PRESCRIBED\",\n",
    "    \"PRODUCES\", \"RECEIVED\", \"RESULTS_IN\", \"TREATS\", \"USED_FOR\"]\n"
   ],
   "id": "6cba83fa4638e21d",
   "outputs": [],
   "execution_count": 3
  },
  {
   "metadata": {
    "ExecuteTime": {
     "end_time": "2024-10-12T23:37:55.823499Z",
     "start_time": "2024-10-12T23:37:55.820159Z"
    }
   },
   "cell_type": "code",
   "source": [
    "prompt_template = '''\n",
    "You are a medical researcher tasks with extracting information from papers \n",
    "and structuring it in a property graph to inform further medical and research Q&A.\n",
    "\n",
    "Extract the entities (nodes) and specify their type from the following Input text.\n",
    "Also extract the relationships between these nodes. the relationship direction goes from the start node to the end node. \n",
    "\n",
    "\n",
    "Return result as JSON using the following format:\n",
    "{{\"nodes\": [ {{\"id\": \"0\", \"label\": \"the type of entity\", \"properties\": {{\"name\": \"name of entity\" }} }}],\n",
    "  \"relationships\": [{{\"type\": \"TYPE_OF_RELATIONSHIP\", \"start_node_id\": \"0\", \"end_node_id\": \"1\", \"properties\": {{\"details\": \"Description of the relationship\"}} }}] }}\n",
    "\n",
    "- Use only the information from the Input text.  Do not add any additional information.  \n",
    "- If the input text is empty, return empty Json. \n",
    "- Make sure to create as many nodes and relationships as needed to offer rich medical context for further research.\n",
    "- An AI knowledge assistant must be able to read this graph and immediately understand the context to inform detailed research questions. \n",
    "- Multiple documents will be ingested from different sources and we are using this property graph to connect information, so make sure entity types are fairly general. \n",
    "\n",
    "Use only fhe following nodes and relationships (if provided):\n",
    "{schema}\n",
    "\n",
    "Assign a unique ID (string) to each node, and reuse it to define relationships.\n",
    "Do respect the source and target node types for relationship and\n",
    "the relationship direction.\n",
    "\n",
    "Do not return any additional information other than the JSON in it.\n",
    "\n",
    "Examples:\n",
    "{examples}\n",
    "\n",
    "Input text:\n",
    "\n",
    "{text}\n",
    "'''"
   ],
   "id": "8cbcdedcd1757b1d",
   "outputs": [],
   "execution_count": 4
  },
  {
   "metadata": {
    "ExecuteTime": {
     "end_time": "2024-10-13T01:01:36.779724Z",
     "start_time": "2024-10-13T01:01:36.419703Z"
    }
   },
   "cell_type": "code",
   "source": [
    "from neo4j_graphrag.experimental.components.text_splitters.fixed_size_splitter import FixedSizeSplitter\n",
    "#from langchain_text_splitters import TokenTextSplitter(chunk_size=200, chunk_overlap=20)\n",
    "from neo4j_graphrag.experimental.pipeline.kg_builder import SimpleKGPipeline\n",
    "\n",
    "kg_builder_pdf = SimpleKGPipeline(\n",
    "    llm=ex_llm,\n",
    "    driver=driver,\n",
    "    text_splitter=FixedSizeSplitter(chunk_size=500, chunk_overlap=100),\n",
    "    embedder=embedder,\n",
    "    entities=node_labels,\n",
    "    relations=rel_types,\n",
    "    prompt_template=prompt_template,\n",
    "    from_pdf=True\n",
    ")"
   ],
   "id": "94e1dfac980e6527",
   "outputs": [],
   "execution_count": 45
  },
  {
   "metadata": {
    "ExecuteTime": {
     "end_time": "2024-10-12T23:46:37.876109Z",
     "start_time": "2024-10-12T23:37:59.301142Z"
    }
   },
   "cell_type": "code",
   "source": [
    "pdf_file_paths = ['truncated-pdfs/biomolecules-11-00928-v2-trunc.pdf', \n",
    "             'truncated-pdfs/GAP-between-patients-and-clinicians_2023_Best-Practice-trunc.pdf', \n",
    "             'truncated-pdfs/pgpm-13-39-trunc.pdf']\n",
    "\n",
    "for path in pdf_file_paths:\n",
    "    print(f\"Processing : {path}\")\n",
    "    pdf_result = await kg_builder_pdf.run_async(file_path=path)\n",
    "    print(f\"PDF Processing Result: {pdf_result}\")"
   ],
   "id": "edeee98826a970a8",
   "outputs": [
    {
     "name": "stdout",
     "output_type": "stream",
     "text": [
      "Processing : truncated-pdfs/biomolecules-11-00928-v2-trunc.pdf\n",
      "PDF Processing Result: run_id='6f09563e-c0ba-44ce-bd7c-a8ce553f6d59' result={'resolver': {'number_of_nodes_to_resolve': 954, 'number_of_created_nodes': 732}}\n",
      "Processing : truncated-pdfs/GAP-between-patients-and-clinicians_2023_Best-Practice-trunc.pdf\n",
      "PDF Processing Result: run_id='1b000f65-2a5d-4c07-aeb6-1f3cd3df8ab8' result={'resolver': {'number_of_nodes_to_resolve': 1042, 'number_of_created_nodes': 968}}\n",
      "Processing : truncated-pdfs/pgpm-13-39-trunc.pdf\n",
      "PDF Processing Result: run_id='260c1760-a78d-45ab-9d37-1b78ac8778e1' result={'resolver': {'number_of_nodes_to_resolve': 1814, 'number_of_created_nodes': 1621}}\n"
     ]
    }
   ],
   "execution_count": 6
  },
  {
   "metadata": {},
   "cell_type": "markdown",
   "source": "## Knowledge Graph Retrieval",
   "id": "a9c0fd965b15b143"
  },
  {
   "metadata": {},
   "cell_type": "markdown",
   "source": "We will leverage Neo4j's vector search capabilities here. To do this we need to begin by creating a vector index on the text in our Chunk nodes",
   "id": "4d7b98e310104246"
  },
  {
   "metadata": {
    "ExecuteTime": {
     "end_time": "2024-10-12T23:46:38.533305Z",
     "start_time": "2024-10-12T23:46:37.876977Z"
    }
   },
   "cell_type": "code",
   "source": [
    "from neo4j_graphrag.indexes import create_vector_index\n",
    "\n",
    "create_vector_index(driver, name=\"text_embeddings\", label=\"Chunk\",\n",
    "                    embedding_property=\"embedding\", dimensions=1536, similarity_fn=\"cosine\")"
   ],
   "id": "940b051107b89204",
   "outputs": [
    {
     "ename": "Neo4jIndexError",
     "evalue": "Neo4j vector index creation failed: An equivalent index already exists, 'Index( id=3, name='text_embeddings', type='VECTOR', schema=(:Chunk {embedding}), indexProvider='vector-2.0' )'.",
     "output_type": "error",
     "traceback": [
      "\u001B[0;31m---------------------------------------------------------------------------\u001B[0m",
      "\u001B[0;31mClientError\u001B[0m                               Traceback (most recent call last)",
      "File \u001B[0;32m~/opt/anaconda3/envs/neo4j-graphrag-python-example/lib/python3.11/site-packages/neo4j_graphrag/indexes.py:112\u001B[0m, in \u001B[0;36mcreate_vector_index\u001B[0;34m(driver, name, label, embedding_property, dimensions, similarity_fn, neo4j_database)\u001B[0m\n\u001B[1;32m    111\u001B[0m     logger\u001B[38;5;241m.\u001B[39minfo(\u001B[38;5;124mf\u001B[39m\u001B[38;5;124m\"\u001B[39m\u001B[38;5;124mCreating vector index named \u001B[39m\u001B[38;5;124m'\u001B[39m\u001B[38;5;132;01m{\u001B[39;00mname\u001B[38;5;132;01m}\u001B[39;00m\u001B[38;5;124m'\u001B[39m\u001B[38;5;124m\"\u001B[39m)\n\u001B[0;32m--> 112\u001B[0m     driver\u001B[38;5;241m.\u001B[39mexecute_query(\n\u001B[1;32m    113\u001B[0m         query,\n\u001B[1;32m    114\u001B[0m         {\u001B[38;5;124m\"\u001B[39m\u001B[38;5;124mname\u001B[39m\u001B[38;5;124m\"\u001B[39m: name, \u001B[38;5;124m\"\u001B[39m\u001B[38;5;124mdimensions\u001B[39m\u001B[38;5;124m\"\u001B[39m: dimensions, \u001B[38;5;124m\"\u001B[39m\u001B[38;5;124msimilarity_fn\u001B[39m\u001B[38;5;124m\"\u001B[39m: similarity_fn},\n\u001B[1;32m    115\u001B[0m         database_\u001B[38;5;241m=\u001B[39mneo4j_database,\n\u001B[1;32m    116\u001B[0m     )\n\u001B[1;32m    117\u001B[0m \u001B[38;5;28;01mexcept\u001B[39;00m neo4j\u001B[38;5;241m.\u001B[39mexceptions\u001B[38;5;241m.\u001B[39mClientError \u001B[38;5;28;01mas\u001B[39;00m e:\n",
      "File \u001B[0;32m~/opt/anaconda3/envs/neo4j-graphrag-python-example/lib/python3.11/site-packages/neo4j/_sync/driver.py:959\u001B[0m, in \u001B[0;36mDriver.execute_query\u001B[0;34m(self, query_, parameters_, routing_, database_, impersonated_user_, bookmark_manager_, auth_, result_transformer_, **kwargs)\u001B[0m\n\u001B[1;32m    958\u001B[0m \u001B[38;5;28;01mwith\u001B[39;00m session\u001B[38;5;241m.\u001B[39m_pipelined_begin:\n\u001B[0;32m--> 959\u001B[0m     \u001B[38;5;28;01mreturn\u001B[39;00m session\u001B[38;5;241m.\u001B[39m_run_transaction(\n\u001B[1;32m    960\u001B[0m         access_mode, TelemetryAPI\u001B[38;5;241m.\u001B[39mDRIVER,\n\u001B[1;32m    961\u001B[0m         work, (query_str, parameters, result_transformer_), {}\n\u001B[1;32m    962\u001B[0m     )\n",
      "File \u001B[0;32m~/opt/anaconda3/envs/neo4j-graphrag-python-example/lib/python3.11/site-packages/neo4j/_sync/work/session.py:554\u001B[0m, in \u001B[0;36mSession._run_transaction\u001B[0;34m(self, access_mode, api, transaction_function, args, kwargs)\u001B[0m\n\u001B[1;32m    553\u001B[0m \u001B[38;5;28;01mtry\u001B[39;00m:\n\u001B[0;32m--> 554\u001B[0m     result \u001B[38;5;241m=\u001B[39m transaction_function(tx, \u001B[38;5;241m*\u001B[39margs, \u001B[38;5;241m*\u001B[39m\u001B[38;5;241m*\u001B[39mkwargs)\n\u001B[1;32m    555\u001B[0m \u001B[38;5;28;01mexcept\u001B[39;00m asyncio\u001B[38;5;241m.\u001B[39mCancelledError:\n\u001B[1;32m    556\u001B[0m     \u001B[38;5;66;03m# if cancellation callback has not been called yet:\u001B[39;00m\n",
      "File \u001B[0;32m~/opt/anaconda3/envs/neo4j-graphrag-python-example/lib/python3.11/site-packages/neo4j/_sync/driver.py:1290\u001B[0m, in \u001B[0;36m_work\u001B[0;34m(tx, query, parameters, transformer)\u001B[0m\n\u001B[1;32m   1284\u001B[0m \u001B[38;5;28;01mdef\u001B[39;00m \u001B[38;5;21m_work\u001B[39m(\n\u001B[1;32m   1285\u001B[0m     tx: ManagedTransaction,\n\u001B[1;32m   1286\u001B[0m     query: te\u001B[38;5;241m.\u001B[39mLiteralString,\n\u001B[1;32m   1287\u001B[0m     parameters: t\u001B[38;5;241m.\u001B[39mDict[\u001B[38;5;28mstr\u001B[39m, t\u001B[38;5;241m.\u001B[39mAny],\n\u001B[1;32m   1288\u001B[0m     transformer: t\u001B[38;5;241m.\u001B[39mCallable[[Result], t\u001B[38;5;241m.\u001B[39mUnion[_T]]\n\u001B[1;32m   1289\u001B[0m ) \u001B[38;5;241m-\u001B[39m\u001B[38;5;241m>\u001B[39m _T:\n\u001B[0;32m-> 1290\u001B[0m     res \u001B[38;5;241m=\u001B[39m tx\u001B[38;5;241m.\u001B[39mrun(query, parameters)\n\u001B[1;32m   1291\u001B[0m     \u001B[38;5;28;01mreturn\u001B[39;00m transformer(res)\n",
      "File \u001B[0;32m~/opt/anaconda3/envs/neo4j-graphrag-python-example/lib/python3.11/site-packages/neo4j/_sync/work/transaction.py:172\u001B[0m, in \u001B[0;36mTransactionBase.run\u001B[0;34m(self, query, parameters, **kwparameters)\u001B[0m\n\u001B[1;32m    171\u001B[0m parameters \u001B[38;5;241m=\u001B[39m \u001B[38;5;28mdict\u001B[39m(parameters \u001B[38;5;129;01mor\u001B[39;00m {}, \u001B[38;5;241m*\u001B[39m\u001B[38;5;241m*\u001B[39mkwparameters)\n\u001B[0;32m--> 172\u001B[0m result\u001B[38;5;241m.\u001B[39m_tx_ready_run(query, parameters)\n\u001B[1;32m    174\u001B[0m \u001B[38;5;28;01mreturn\u001B[39;00m result\n",
      "File \u001B[0;32m~/opt/anaconda3/envs/neo4j-graphrag-python-example/lib/python3.11/site-packages/neo4j/_sync/work/result.py:171\u001B[0m, in \u001B[0;36mResult._tx_ready_run\u001B[0;34m(self, query, parameters)\u001B[0m\n\u001B[1;32m    167\u001B[0m \u001B[38;5;28;01mdef\u001B[39;00m \u001B[38;5;21m_tx_ready_run\u001B[39m(\u001B[38;5;28mself\u001B[39m, query, parameters):\n\u001B[1;32m    168\u001B[0m     \u001B[38;5;66;03m# BEGIN+RUN does not carry any extra on the RUN message.\u001B[39;00m\n\u001B[1;32m    169\u001B[0m     \u001B[38;5;66;03m# BEGIN {extra}\u001B[39;00m\n\u001B[1;32m    170\u001B[0m     \u001B[38;5;66;03m# RUN \"query\" {parameters} {extra}\u001B[39;00m\n\u001B[0;32m--> 171\u001B[0m     \u001B[38;5;28mself\u001B[39m\u001B[38;5;241m.\u001B[39m_run(query, parameters, \u001B[38;5;28;01mNone\u001B[39;00m, \u001B[38;5;28;01mNone\u001B[39;00m, \u001B[38;5;28;01mNone\u001B[39;00m, \u001B[38;5;28;01mNone\u001B[39;00m, \u001B[38;5;28;01mNone\u001B[39;00m, \u001B[38;5;28;01mNone\u001B[39;00m)\n",
      "File \u001B[0;32m~/opt/anaconda3/envs/neo4j-graphrag-python-example/lib/python3.11/site-packages/neo4j/_sync/work/result.py:221\u001B[0m, in \u001B[0;36mResult._run\u001B[0;34m(self, query, parameters, db, imp_user, access_mode, bookmarks, notifications_min_severity, notifications_disabled_classifications)\u001B[0m\n\u001B[1;32m    220\u001B[0m \u001B[38;5;28mself\u001B[39m\u001B[38;5;241m.\u001B[39m_connection\u001B[38;5;241m.\u001B[39msend_all()\n\u001B[0;32m--> 221\u001B[0m \u001B[38;5;28mself\u001B[39m\u001B[38;5;241m.\u001B[39m_attach()\n",
      "File \u001B[0;32m~/opt/anaconda3/envs/neo4j-graphrag-python-example/lib/python3.11/site-packages/neo4j/_sync/work/result.py:409\u001B[0m, in \u001B[0;36mResult._attach\u001B[0;34m(self)\u001B[0m\n\u001B[1;32m    408\u001B[0m \u001B[38;5;28;01mwhile\u001B[39;00m \u001B[38;5;28mself\u001B[39m\u001B[38;5;241m.\u001B[39m_attached \u001B[38;5;129;01mis\u001B[39;00m \u001B[38;5;28;01mFalse\u001B[39;00m:\n\u001B[0;32m--> 409\u001B[0m     \u001B[38;5;28mself\u001B[39m\u001B[38;5;241m.\u001B[39m_connection\u001B[38;5;241m.\u001B[39mfetch_message()\n",
      "File \u001B[0;32m~/opt/anaconda3/envs/neo4j-graphrag-python-example/lib/python3.11/site-packages/neo4j/_sync/io/_common.py:178\u001B[0m, in \u001B[0;36mConnectionErrorHandler.__getattr__.<locals>.outer.<locals>.inner\u001B[0;34m(*args, **kwargs)\u001B[0m\n\u001B[1;32m    177\u001B[0m \u001B[38;5;28;01mtry\u001B[39;00m:\n\u001B[0;32m--> 178\u001B[0m     func(\u001B[38;5;241m*\u001B[39margs, \u001B[38;5;241m*\u001B[39m\u001B[38;5;241m*\u001B[39mkwargs)\n\u001B[1;32m    179\u001B[0m \u001B[38;5;28;01mexcept\u001B[39;00m (Neo4jError, ServiceUnavailable, SessionExpired) \u001B[38;5;28;01mas\u001B[39;00m exc:\n",
      "File \u001B[0;32m~/opt/anaconda3/envs/neo4j-graphrag-python-example/lib/python3.11/site-packages/neo4j/_sync/io/_bolt.py:860\u001B[0m, in \u001B[0;36mBolt.fetch_message\u001B[0;34m(self)\u001B[0m\n\u001B[1;32m    857\u001B[0m tag, fields \u001B[38;5;241m=\u001B[39m \u001B[38;5;28mself\u001B[39m\u001B[38;5;241m.\u001B[39minbox\u001B[38;5;241m.\u001B[39mpop(\n\u001B[1;32m    858\u001B[0m     hydration_hooks\u001B[38;5;241m=\u001B[39m\u001B[38;5;28mself\u001B[39m\u001B[38;5;241m.\u001B[39mresponses[\u001B[38;5;241m0\u001B[39m]\u001B[38;5;241m.\u001B[39mhydration_hooks\n\u001B[1;32m    859\u001B[0m )\n\u001B[0;32m--> 860\u001B[0m res \u001B[38;5;241m=\u001B[39m \u001B[38;5;28mself\u001B[39m\u001B[38;5;241m.\u001B[39m_process_message(tag, fields)\n\u001B[1;32m    861\u001B[0m \u001B[38;5;28mself\u001B[39m\u001B[38;5;241m.\u001B[39midle_since \u001B[38;5;241m=\u001B[39m monotonic()\n",
      "File \u001B[0;32m~/opt/anaconda3/envs/neo4j-graphrag-python-example/lib/python3.11/site-packages/neo4j/_sync/io/_bolt5.py:370\u001B[0m, in \u001B[0;36mBolt5x0._process_message\u001B[0;34m(self, tag, fields)\u001B[0m\n\u001B[1;32m    369\u001B[0m \u001B[38;5;28;01mtry\u001B[39;00m:\n\u001B[0;32m--> 370\u001B[0m     response\u001B[38;5;241m.\u001B[39mon_failure(summary_metadata \u001B[38;5;129;01mor\u001B[39;00m {})\n\u001B[1;32m    371\u001B[0m \u001B[38;5;28;01mexcept\u001B[39;00m (ServiceUnavailable, DatabaseUnavailable):\n",
      "File \u001B[0;32m~/opt/anaconda3/envs/neo4j-graphrag-python-example/lib/python3.11/site-packages/neo4j/_sync/io/_common.py:245\u001B[0m, in \u001B[0;36mResponse.on_failure\u001B[0;34m(self, metadata)\u001B[0m\n\u001B[1;32m    244\u001B[0m Util\u001B[38;5;241m.\u001B[39mcallback(handler)\n\u001B[0;32m--> 245\u001B[0m \u001B[38;5;28;01mraise\u001B[39;00m Neo4jError\u001B[38;5;241m.\u001B[39mhydrate(\u001B[38;5;241m*\u001B[39m\u001B[38;5;241m*\u001B[39mmetadata)\n",
      "\u001B[0;31mClientError\u001B[0m: {code: Neo.ClientError.Schema.EquivalentSchemaRuleAlreadyExists} {message: An equivalent index already exists, 'Index( id=3, name='text_embeddings', type='VECTOR', schema=(:Chunk {embedding}), indexProvider='vector-2.0' )'.}",
      "\nThe above exception was the direct cause of the following exception:\n",
      "\u001B[0;31mNeo4jIndexError\u001B[0m                           Traceback (most recent call last)",
      "Cell \u001B[0;32mIn[7], line 3\u001B[0m\n\u001B[1;32m      1\u001B[0m \u001B[38;5;28;01mfrom\u001B[39;00m \u001B[38;5;21;01mneo4j_graphrag\u001B[39;00m\u001B[38;5;21;01m.\u001B[39;00m\u001B[38;5;21;01mindexes\u001B[39;00m \u001B[38;5;28;01mimport\u001B[39;00m create_vector_index\n\u001B[0;32m----> 3\u001B[0m create_vector_index(driver, name\u001B[38;5;241m=\u001B[39m\u001B[38;5;124m\"\u001B[39m\u001B[38;5;124mtext_embeddings\u001B[39m\u001B[38;5;124m\"\u001B[39m, label\u001B[38;5;241m=\u001B[39m\u001B[38;5;124m\"\u001B[39m\u001B[38;5;124mChunk\u001B[39m\u001B[38;5;124m\"\u001B[39m,\n\u001B[1;32m      4\u001B[0m                     embedding_property\u001B[38;5;241m=\u001B[39m\u001B[38;5;124m\"\u001B[39m\u001B[38;5;124membedding\u001B[39m\u001B[38;5;124m\"\u001B[39m, dimensions\u001B[38;5;241m=\u001B[39m\u001B[38;5;241m1536\u001B[39m, similarity_fn\u001B[38;5;241m=\u001B[39m\u001B[38;5;124m\"\u001B[39m\u001B[38;5;124mcosine\u001B[39m\u001B[38;5;124m\"\u001B[39m)\n",
      "File \u001B[0;32m~/opt/anaconda3/envs/neo4j-graphrag-python-example/lib/python3.11/site-packages/neo4j_graphrag/indexes.py:118\u001B[0m, in \u001B[0;36mcreate_vector_index\u001B[0;34m(driver, name, label, embedding_property, dimensions, similarity_fn, neo4j_database)\u001B[0m\n\u001B[1;32m    112\u001B[0m     driver\u001B[38;5;241m.\u001B[39mexecute_query(\n\u001B[1;32m    113\u001B[0m         query,\n\u001B[1;32m    114\u001B[0m         {\u001B[38;5;124m\"\u001B[39m\u001B[38;5;124mname\u001B[39m\u001B[38;5;124m\"\u001B[39m: name, \u001B[38;5;124m\"\u001B[39m\u001B[38;5;124mdimensions\u001B[39m\u001B[38;5;124m\"\u001B[39m: dimensions, \u001B[38;5;124m\"\u001B[39m\u001B[38;5;124msimilarity_fn\u001B[39m\u001B[38;5;124m\"\u001B[39m: similarity_fn},\n\u001B[1;32m    115\u001B[0m         database_\u001B[38;5;241m=\u001B[39mneo4j_database,\n\u001B[1;32m    116\u001B[0m     )\n\u001B[1;32m    117\u001B[0m \u001B[38;5;28;01mexcept\u001B[39;00m neo4j\u001B[38;5;241m.\u001B[39mexceptions\u001B[38;5;241m.\u001B[39mClientError \u001B[38;5;28;01mas\u001B[39;00m e:\n\u001B[0;32m--> 118\u001B[0m     \u001B[38;5;28;01mraise\u001B[39;00m Neo4jIndexError(\u001B[38;5;124mf\u001B[39m\u001B[38;5;124m\"\u001B[39m\u001B[38;5;124mNeo4j vector index creation failed: \u001B[39m\u001B[38;5;132;01m{\u001B[39;00me\u001B[38;5;241m.\u001B[39mmessage\u001B[38;5;132;01m}\u001B[39;00m\u001B[38;5;124m\"\u001B[39m) \u001B[38;5;28;01mfrom\u001B[39;00m \u001B[38;5;21;01me\u001B[39;00m\n",
      "\u001B[0;31mNeo4jIndexError\u001B[0m: Neo4j vector index creation failed: An equivalent index already exists, 'Index( id=3, name='text_embeddings', type='VECTOR', schema=(:Chunk {embedding}), indexProvider='vector-2.0' )'."
     ]
    }
   ],
   "execution_count": 7
  },
  {
   "metadata": {},
   "cell_type": "markdown",
   "source": "Now that the index is set up we will start simple with a VectorRetriever.  The VectorRetriever just queries Chunk nodes, brining back the text and some metadata",
   "id": "ec95391c989ee694"
  },
  {
   "metadata": {
    "ExecuteTime": {
     "end_time": "2024-10-12T23:49:41.996319Z",
     "start_time": "2024-10-12T23:49:41.483980Z"
    }
   },
   "cell_type": "code",
   "source": [
    "from neo4j_graphrag.retrievers import VectorRetriever\n",
    "\n",
    "vector_retriever = VectorRetriever(\n",
    "    driver,\n",
    "    index_name=\"text_embeddings\",\n",
    "    embedder=embedder,\n",
    "    return_properties=[\"text\"],\n",
    ")"
   ],
   "id": "eeda7e519c60a02b",
   "outputs": [],
   "execution_count": 8
  },
  {
   "metadata": {
    "ExecuteTime": {
     "end_time": "2024-10-12T23:51:21.382860Z",
     "start_time": "2024-10-12T23:51:20.783265Z"
    }
   },
   "cell_type": "code",
   "source": [
    "vector_res = vector_retriever.get_search_results(query_text = \"How is precision medicine applied to Lupus?\", \n",
    "                                                 top_k=3)\n",
    "for i in vector_res.records: print(\"====\\n\" + i.data()['node']['text'])"
   ],
   "id": "ca27731a1f99d71d",
   "outputs": [
    {
     "name": "stdout",
     "output_type": "stream",
     "text": [
      "====\n",
      "precise and systematic fashion as suggested here.\n",
      "Future care will involve molecular diagnostics throughout\n",
      "the patient timecourse to drive the least toxic combination\n",
      "of therapies. Recent evidence suggests a paradigm shift is\n",
      "on the way but it is hard to predict how fast it will come.\n",
      "Disclosure\n",
      "The authors report no con ﬂicts of interest in this work.\n",
      "References\n",
      "1. Lisnevskaia L, Murphy G, Isenberg DA. Systemic lupus\n",
      "erythematosus. Lancet .2014 ;384:1878 –1888. doi:10.1016/S0140-\n",
      "6736(14)60128\n",
      "====\n",
      "d IS agents.\n",
      "Precision medicine consists of a tailored approach to\n",
      "each patient, based on genetic and epigenetic singularities,\n",
      "which in ﬂuence disease pathophysiology and drug\n",
      "response. Precision medicine in SLE is trying to address\n",
      "the need to assess SLE patients optimally, predict disease\n",
      "course and treatment response at diagnosis. Ideally every\n",
      "patient would undergo an initial evaluation that would\n",
      "proﬁle his/her disease, assessing the main pathophysiolo-\n",
      "gic pathway through biomarkers, ther\n",
      "====\n",
      "REVIEW\n",
      "T owards Precision Medicine in Systemic Lupus\n",
      "Erythematosus\n",
      "This article was published in the following Dove Press journal:\n",
      "Pharmacogenomics and Personalized Medicine\n",
      "Elliott Lever1\n",
      "Marta R Alves2\n",
      "David A Isenberg1\n",
      "1Centre for Rheumatology, Division of\n",
      "Medicine, University College Hospital\n",
      "London, London, UK;2Internal Medicine,\n",
      "Department of Medicine, Centro\n",
      "Hospitalar do Porto, Porto, PortugalAbstract: Systemic lupus erythematosus (SLE) is a remarkable condition characterised by\n",
      "diversit\n"
     ]
    }
   ],
   "execution_count": 11
  },
  {
   "metadata": {},
   "cell_type": "markdown",
   "source": [
    "The GraphRAG Python Package offers a whole host of other useful retrieval covering different patterns.\n",
    "\n",
    "Below we will use the VectorCypherRetriever which allows you to run a graph traversal after finding text chunks.  We will use the Cypher Query language to define the logic to traverse the graph.  \n",
    "\n",
    "As a simple starting point, lets traverse up to 2 hops out from each chunk and textualize the different relationships we pick up.  We will use something called a quantified path pattern to accomplish in this. "
   ],
   "id": "2b2ee3da2339365f"
  },
  {
   "metadata": {
    "ExecuteTime": {
     "end_time": "2024-10-12T23:51:41.858446Z",
     "start_time": "2024-10-12T23:51:41.565371Z"
    }
   },
   "cell_type": "code",
   "source": [
    "from neo4j_graphrag.retrievers import VectorCypherRetriever\n",
    "\n",
    "vc_retriever = VectorCypherRetriever(\n",
    "    driver,\n",
    "    index_name=\"text_embeddings\",\n",
    "    embedder=embedder,\n",
    "    retrieval_query=\"\"\"\n",
    "//node = Chunk.  Go out 2-3 hops in the entity graph \n",
    "MATCH (node)<-[:FROM_CHUNK]-()-[rl:!FROM_CHUNK]-{1,2}()\n",
    "UNWIND rl AS r\n",
    "WITH DISTINCT r\n",
    "\n",
    "//Get the source document(s) from which each entity set was extracted (could be multiple)\n",
    "MATCH (sourceDoc:Document)<-[FROM_DOCUMENT]-()<-[:FROM_CHUNK]-(n)-[r]->(m)\n",
    "WITH n,r,m, apoc.text.join(collect(DISTINCT sourceDoc.path), ', ') AS sources\n",
    "\n",
    "// return textualize relations/triples\n",
    "RETURN n.name +\n",
    "   ' - ' + type(r) + '(' + coalesce(r.details, '') + ')' +  ' -> ' +\n",
    "   m.name AS fact\n",
    "\"\"\"\n",
    ")\n",
    "\n"
   ],
   "id": "caf84995e4bc8d4",
   "outputs": [],
   "execution_count": 12
  },
  {
   "metadata": {},
   "cell_type": "code",
   "outputs": [],
   "execution_count": null,
   "source": [
    "from neo4j_graphrag.retrievers import VectorCypherRetriever\n",
    "\n",
    "vc_retriever = VectorCypherRetriever(\n",
    "    driver,\n",
    "    index_name=\"text_embeddings\",\n",
    "    embedder=embedder,\n",
    "    retrieval_query=\"\"\"\n",
    "//node = Chunk.  Go out 2-3 hops in the entity graph \n",
    "MATCH  (sourceDoc:Document)<-[FROM_DOCUMENT]-(node)<-[:FROM_CHUNK]-()-[rl:!FROM_CHUNK]-{1,2}()\n",
    "UNWIND rl AS r\n",
    "WITH DISTINCT r, apoc.text.join(collect(DISTINCT sourceDoc.path), ', ') AS sources\n",
    "\n",
    "MATCH (n)-[r]->(m)\n",
    "\n",
    "// return textualize relations/triples\n",
    "RETURN n.name +\n",
    "   ' - ' + type(r) + '(' + coalesce(r.details, '') + ')' +  ' -> ' +\n",
    "   m.name AS fact\n",
    "\"\"\"\n",
    ")"
   ],
   "id": "2c81ad815a7b1bf9"
  },
  {
   "metadata": {
    "ExecuteTime": {
     "end_time": "2024-10-12T23:51:46.539231Z",
     "start_time": "2024-10-12T23:51:45.239355Z"
    }
   },
   "cell_type": "code",
   "source": [
    "vc_res = vc_retriever.get_search_results(query_text = \"How is precision medicine applied to Lupus?\")\n",
    "\n",
    "print(f\"Retrieved {len(vc_res.records)} records. Previewing the first 50:\\n\")\n",
    "for i in vc_res.records[:50]: print(\"====\\n\" + i.data()['fact']) "
   ],
   "id": "4a1df583f2450f35",
   "outputs": [
    {
     "name": "stdout",
     "output_type": "stream",
     "text": [
      "Retrieved 764 records. Previewing the first 50:\n",
      "\n",
      "====\n",
      "Systemic lupus erythematosus - AUTHORED(Published in) -> N. Engl. J. Med.\n",
      "====\n",
      "Lisnevskaia L - AUTHORED() -> Systemic lupus erythematosus\n",
      "====\n",
      "Murphy G - AUTHORED() -> Systemic lupus erythematosus\n",
      "====\n",
      "Isenberg DA - AUTHORED() -> Systemic lupus erythematosus\n",
      "====\n",
      "Systemic lupus erythematosus - CITES(Published in) -> Lancet\n",
      "====\n",
      "Systemic lupus erythematosus - CITES(Systemic lupus erythematosus is discussed in the Lancet publication.) -> Lancet\n",
      "====\n",
      "Systemic lupus erythematosus - ASSOCIATED_WITH(SLE is characterized by aberrant activity of the immune system) -> Aberrant activity of the immune system\n",
      "====\n",
      "Immunological biomarkers - USED_FOR(Immunological biomarkers could diagnose and monitor disease activity in SLE) -> Systemic lupus erythematosus\n",
      "====\n",
      "Novel SLE biomarkers - DESCRIBES(Novel SLE biomarkers have been discovered through omics research) -> Systemic lupus erythematosus\n",
      "====\n",
      "Lindblom et al. post-hoc analysis of BLISS-52 and BLISS-76 - AUTHORED(Lindblom et al. performed analysis on SLE patients) -> SLE\n",
      "====\n",
      "Lindblom et al. post-hoc analysis of BLISS-52 and BLISS-76 - AFFECTS(Association found between EQ-5D Full Health State and organ damage accrual) -> reduced subsequent organ damage accrual\n",
      "====\n",
      "Lindblom et al. post-hoc analysis of BLISS-52 and BLISS-76 - RESULTS_IN(Follow-up duration of 8 years for SLE patients receiving belimumab) -> 8 years of follow-up\n",
      "====\n",
      "current study - AUTHORED(Current study authored on SLE) -> SLE\n",
      "====\n",
      "SLE - INCLUDES(SLE includes QoL considerations in management) -> QoL\n",
      "====\n",
      "SLE - INCLUDES(Common biomarkers for SLE) -> biomarkers\n",
      "====\n",
      "biomarkers - ASSOCIATED_WITH(Biomarkers play a crucial role in diagnosing SLE.) -> SLE\n",
      "====\n",
      "biomarkers - ASSOCIATED_WITH(Biomarkers are used in the diagnosis process.) -> diagnosis\n",
      "====\n",
      "biomarkers - ASSOCIATED_WITH(Biomarkers are used in the context of diabetes.) -> diabetes\n",
      "====\n",
      "biomarkers - ASSOCIATED_WITH(Biomarkers are used in the context of heart disease.) -> heart disease\n",
      "====\n",
      "biomarkers - ASSOCIATED_WITH(Biomarkers are used in the context of cancer.) -> cancer\n",
      "====\n",
      "biomarkers - ASSOCIATED_WITH(Biomarkers are used in the prediction process.) -> prediction\n",
      "====\n",
      "biomarkers - ASSOCIATED_WITH(Biomarkers are used in the assessment process.) -> assessment\n",
      "====\n",
      "biomarkers - ASSOCIATED_WITH(Biomarkers are used in the management process.) -> management\n",
      "====\n",
      "biomarkers - ASSESSES(Biomarkers could assess organ-speciﬁc involvement in patients with SLE.) -> organ-speciﬁc involvement\n",
      "====\n",
      "assessing pathophysiologic pathway - PRODUCES(Assessing pathophysiologic pathway produces biomarkers) -> biomarkers\n",
      "====\n",
      "biomarkers - USED_FOR(Biomarkers are used for diagnosis) -> diagnosis\n",
      "====\n",
      "pathophysiologic pathway - RESULTS_IN(predicting risk of specific organ damage) -> biomarkers\n",
      "====\n",
      "Table 2 - CITES(Table 2 shows clinical and immunological biomarkers.) -> biomarkers\n",
      "====\n",
      "biomarkers - BIOMARKER_FOR(Biomarkers for SLE.) -> SLE\n",
      "====\n",
      "SLE - INCLUDES(B cells are responsible for antigen response in SLE.) -> B cells\n",
      "====\n",
      "B cells - ASSOCIATED_WITH(B cells are associated with double-negative B cells) -> double-negative B cells\n",
      "====\n",
      "B cells - ASSOCIATED_WITH(B cells are associated with ABC-like B cells) -> ABC-like B cells\n",
      "====\n",
      "SLE (Systemic Lupus Erythematosus) - ASSOCIATED_WITH(SLE is associated with lower CR2 expression) -> B cells\n",
      "====\n",
      "Systemic Lupus Erythematosus (SLE) - INCLUDES(SLE includes B cells) -> B cells\n",
      "====\n",
      "cellular recruitment - INCLUDES(cellular recruitment includes B cells.) -> B cells\n",
      "====\n",
      "Transcriptome in SLE - INCLUDES(The article includes analysis of B cells.) -> B cells\n",
      "====\n",
      "B cells - PRODUCES(B cells are responsible for antigen response.) -> antigen response\n",
      "====\n",
      "B cells - PRODUCES(B cells are responsible for cytokine production.) -> cytokine production\n",
      "====\n",
      "B cells - PRODUCES(B cells are responsible for the regulation of other cells.) -> regulation of other cells\n",
      "====\n",
      "B cells - EXPRESSES(B cells express somatic hypermutation.) -> somatic hypermutation\n",
      "====\n",
      "B cells - EXPRESSES(B cells express clonal expansion.) -> clonal expansion\n",
      "====\n",
      "complement receptor 2 (CR2) - EXPRESSES(CR2 is expressed on B cells) -> B cells\n",
      "====\n",
      "activated SLE B cells - EXPRESSES(activated SLE B cells express self-antigen presentation capability) -> B cells\n",
      "====\n",
      "early immature B cells - EXPRESSES(early immature B cells show increased activity) -> B cells\n",
      "====\n",
      "B cells - AFFECTS(B cells have impaired regulation in SLE) -> impaired regulation\n",
      "====\n",
      "B cells - AFFECTS(B cells have altered activation status in SLE) -> altered activation status\n",
      "====\n",
      "B cells - AFFECTS(B cells have altered response to antigen stimulation in SLE) -> altered response to antigen stimulation\n",
      "====\n",
      "B cells - INTERACTS_WITH(B cells interact with macrophages) -> macrophages\n",
      "====\n",
      "B cells - ACTIVATES(Local activation of B cells is correlated with an age-associated B-cell signature.) -> age-associated B-cell signature\n",
      "====\n",
      "B cells - COMPARED_WITH(SLE B cells are compared with healthy controls) -> healthy controls\n"
     ]
    }
   ],
   "execution_count": 13
  },
  {
   "metadata": {},
   "cell_type": "markdown",
   "source": [
    "## GraphRAG \n",
    " You can construct GraphRAG pipelines with the `GraphRAG` class.  At minimum, you will need to pass the constructor an LLM and a retriever. You can also pass a custom prompt template, but for now we will just use the default.\n",
    " "
   ],
   "id": "f2e55b8b3511cf1"
  },
  {
   "metadata": {
    "ExecuteTime": {
     "end_time": "2024-10-12T23:57:58.847761Z",
     "start_time": "2024-10-12T23:57:58.813012Z"
    }
   },
   "cell_type": "code",
   "source": [
    "from neo4j_graphrag.llm import OpenAILLM as LLM\n",
    "from neo4j_graphrag.generation.graphrag import GraphRAG\n",
    "\n",
    "llm = LLM(model_name=\"gpt-4o\",  model_params={\"temperature\": 0.0})\n",
    "\n",
    "v_rag  = GraphRAG(llm=llm, retriever=vector_retriever)\n",
    "vc_rag = GraphRAG(llm=llm, retriever=vc_retriever)"
   ],
   "id": "8e2cf317a83d59ae",
   "outputs": [],
   "execution_count": 27
  },
  {
   "metadata": {
    "ExecuteTime": {
     "end_time": "2024-10-12T23:55:17.821573Z",
     "start_time": "2024-10-12T23:55:11.465254Z"
    }
   },
   "cell_type": "code",
   "source": [
    "q = \"How is precision medicine applied to Lupus?\"\n",
    "print(f\"Vector Response: \\n{v_rag.search(q, retriever_config={'top_k':5}).answer}\")\n",
    "print(\"\\n===========================\\n\")\n",
    "print(f\"Vector + Cypher Response: \\n{vc_rag.search(q, retriever_config={'top_k':5}).answer}\")"
   ],
   "id": "4d0aff643e689611",
   "outputs": [
    {
     "name": "stdout",
     "output_type": "stream",
     "text": [
      "Vector Response: \n",
      "Precision medicine in systemic lupus erythematosus (SLE) involves a tailored approach to each patient, based on their genetic and epigenetic characteristics, which influence disease pathophysiology and drug response. This approach aims to optimally assess SLE patients, predict disease course, and determine treatment response at diagnosis. Ideally, every patient would undergo an initial evaluation to profile their disease, assessing the main pathophysiologic pathway through biomarkers. The goal is to minimize the use of potent medications and their side effects while proactively treating autoimmunity and preventing damage. Future care is expected to involve molecular diagnostics throughout the patient's time course to drive the least toxic combination of therapies.\n",
      "\n",
      "===========================\n",
      "\n",
      "Vector + Cypher Response: \n",
      "Precision medicine is applied to lupus, specifically systemic lupus erythematosus (SLE), by utilizing biomarkers to assess organ-specific involvement, which is crucial for precision medicine. The development of new strategies for monitoring and treating SLE contributes to precision medicine. Omics approaches, including transcriptome, epigenome, genome, and metabolome, provide opportunities for revealing new biomarkers for SLE, which are essential for precision medicine. Additionally, precision medicine involves the initial evaluation of profiling disease and assessing pathophysiologic pathways. The application of precision medicine in SLE is also associated with the analysis of B cell subsets and the use of multi-omics data from T cells.\n"
     ]
    }
   ],
   "execution_count": 23
  },
  {
   "metadata": {
    "ExecuteTime": {
     "end_time": "2024-10-12T23:55:31.581436Z",
     "start_time": "2024-10-12T23:55:17.824218Z"
    }
   },
   "cell_type": "code",
   "source": [
    "q = \"Can you summarize systemic lupus erythematosus (SLE)? including common effects, biomarkers, treatments, and current challenges faced by Physicians and patients? provide in list format with details for each item.\"\n",
    "print(f\"Vector Response: \\n{v_rag.search(q, retriever_config={'top_k': 5}).answer}\")\n",
    "print(\"\\n===========================\\n\")\n",
    "print(f\"Vector + Cypher Response: \\n{vc_rag.search(q, retriever_config={'top_k': 5}).answer}\")"
   ],
   "id": "d8afa42fcc8a475a",
   "outputs": [
    {
     "name": "stdout",
     "output_type": "stream",
     "text": [
      "Vector Response: \n",
      "Certainly! Here's a summary of Systemic Lupus Erythematosus (SLE) including its common effects, biomarkers, treatments, and current challenges faced by physicians and patients:\n",
      "\n",
      "1. **Common Effects:**\n",
      "   - SLE imposes a significant burden on patients' lives, affecting their Health-Related Quality of Life (HRQoL).\n",
      "   - It is characterized by a wide range of symptoms due to immune reactivity and inflammation in various organs.\n",
      "\n",
      "2. **Biomarkers:**\n",
      "   - SLE is diagnosed and classified based on clinical symptoms, signs, and laboratory biomarkers.\n",
      "   - Common biomarkers reflect immune reactivity and inflammation, and are used to assess disease activity and therapeutic effects.\n",
      "   - Ideal biomarkers should reflect the underlying pathophysiology, have high reliability, validity, predictive values, sensitivity, and specificity.\n",
      "\n",
      "3. **Treatments:**\n",
      "   - A \"treat-to-target\" strategy is applied, aiming for remission and low disease activity.\n",
      "   - Despite this strategy, achieving these targets is not strongly associated with improved patient perception of health status.\n",
      "\n",
      "4. **Current Challenges:**\n",
      "   - There is a significant patient-clinician communication gap, with physicians focusing on disease activity control and patients on symptoms affecting HRQoL.\n",
      "   - The need for consistent classification criteria for research and clinical diagnosis.\n",
      "   - The challenge of finding ideal biomarkers that meet all necessary characteristics.\n",
      "   - Increasing patient engagement in disease management is recognized as important for improving health status perception.\n",
      "\n",
      "These points highlight the complexity of managing SLE and the need for improved communication and patient involvement in treatment strategies.\n",
      "\n",
      "===========================\n",
      "\n",
      "Vector + Cypher Response: \n",
      "Certainly! Here's a summary of Systemic Lupus Erythematosus (SLE) including its common effects, biomarkers, treatments, and current challenges faced by physicians and patients:\n",
      "\n",
      "**Common Effects of SLE:**\n",
      "1. **Chronic Systemic Inflammation:** SLE causes widespread inflammation affecting multiple organs.\n",
      "2. **Organ Damage:** It can lead to damage in organs such as kidneys, heart, and skin.\n",
      "3. **Symptoms:** Common symptoms include fatigue, malar rash, diffuse alopecia, myalgia, fever, rash, cutaneous vasculitis, renal issues, pleurisy, and pericarditis.\n",
      "4. **Neuropsychiatric Symptoms:** SLE can cause cognitive dysfunction, mood disorders, and psychosis.\n",
      "5. **Cardiovascular Disease (CVD):** SLE is associated with increased risk of CVD due to endothelial damage and premature atherosclerosis.\n",
      "\n",
      "**Biomarkers for SLE:**\n",
      "1. **Anti-dsDNA Antibodies:** Used for diagnosis and monitoring disease activity.\n",
      "2. **Antiphospholipid Antibodies:** Associated with neuropsychiatric manifestations.\n",
      "3. **Complement Proteins (C3, C4):** Low levels are indicative of disease activity.\n",
      "4. **Anti-Sm Antibodies:** Highly specific for SLE diagnosis.\n",
      "5. **ANA (Antinuclear Antibodies):** Commonly used for screening and classification.\n",
      "6. **IFN, IL, IP-10, MCP-1:** Inflammatory markers associated with SLE activity.\n",
      "\n",
      "**Treatments for SLE:**\n",
      "1. **Antimalarials:** Used to manage symptoms and prevent flares.\n",
      "2. **Glucocorticoids (GC):** For controlling inflammation.\n",
      "3. **Immunosuppressants (IS):** To reduce immune system activity.\n",
      "4. **Biologics (e.g., Belimumab, Rituximab):** Target specific immune pathways.\n",
      "5. **Multidisciplinary Approach:** Involves various specialists to manage the disease comprehensively.\n",
      "\n",
      "**Current Challenges:**\n",
      "1. **Physicians:**\n",
      "   - **Disease Activity Control:** Focus on controlling disease activity and preventing damage accrual.\n",
      "   - **Communication Gap:** Ensuring effective communication with patients to align treatment goals.\n",
      "   - **Complex Pathophysiology:** Understanding the complex and heterogeneous nature of SLE.\n",
      "\n",
      "2. **Patients:**\n",
      "   - **Health-Related Quality of Life (HRQoL):** Managing symptoms and improving quality of life.\n",
      "   - **Treatment Side Effects:** Dealing with potential side effects and risks of long-term therapies.\n",
      "   - **Disease Burden:** Coping with the physical and emotional burden of chronic illness.\n",
      "\n",
      "**Current Research and Developments:**\n",
      "1. **Biomarker Studies:** Ongoing research to identify reliable biomarkers for diagnosis and monitoring.\n",
      "2. **Precision Medicine:** Efforts to tailor treatments based on individual genetic and biomarker profiles.\n",
      "3. **Patient-Reported Outcomes (PROs):** Increasing focus on incorporating patient perspectives in treatment plans.\n",
      "\n",
      "These points provide a comprehensive overview of SLE, highlighting its impact, diagnostic tools, therapeutic options, and the challenges faced by both healthcare providers and patients.\n"
     ]
    }
   ],
   "execution_count": 24
  },
  {
   "metadata": {
    "ExecuteTime": {
     "end_time": "2024-10-13T00:36:25.376089Z",
     "start_time": "2024-10-13T00:36:10.833366Z"
    }
   },
   "cell_type": "code",
   "source": [
    "q = \"Can you summarize systemic lupus erythematosus (SLE)? including common effects, biomarkers, and treatments? Provide in detailed list format\"\n",
    "print(f\"Vector Response: \\n{v_rag.search(q, retriever_config={'top_k': 5}).answer}\")\n",
    "print(\"\\n===========================\\n\")\n",
    "print(f\"Vector + Cypher Response: \\n{vc_rag.search(q, retriever_config={'top_k': 5}).answer}\")"
   ],
   "id": "a2c44f834bdb13ad",
   "outputs": [
    {
     "name": "stdout",
     "output_type": "stream",
     "text": [
      "Vector Response: \n",
      "Certainly! Here's a detailed summary of systemic lupus erythematosus (SLE), including its common effects, biomarkers, and treatments:\n",
      "\n",
      "### Common Effects of SLE:\n",
      "1. **Immune System Dysfunction**: SLE is characterized by aberrant activity of the immune system.\n",
      "2. **Clinical Manifestations**:\n",
      "   - **Renal Symptoms**: Kidney involvement is common, leading to lupus nephritis.\n",
      "   - **Dermatological Symptoms**: Skin rashes, including the classic butterfly rash on the face.\n",
      "   - **Neuropsychiatric Symptoms**: Cognitive dysfunction, headaches, and mood disorders.\n",
      "   - **Cardiovascular Symptoms**: Increased risk of heart disease and inflammation of the heart or blood vessels.\n",
      "\n",
      "### Biomarkers for SLE:\n",
      "1. **Clinical and Immunological Biomarkers**:\n",
      "   - Used for diagnosing and monitoring disease activity.\n",
      "   - Reflect immune reactivity and inflammation in various organs.\n",
      "2. **Common Biomarkers**:\n",
      "   - **Anti-dsDNA**: Antibodies against double-stranded DNA.\n",
      "   - **Anti-SSA**: Antibodies against Sjogren’s syndrome A.\n",
      "   - **Anti-NMDAR**: Antibodies against N-methyl-D-aspartate receptor.\n",
      "   - **Anti-RibP**: Antibodies against ribosomal proteins.\n",
      "   - **IgG**: Immunoglobulin G levels.\n",
      "   - **AhR Ratio**: The ratio of aryl hydrocarbon receptor in Th17 cells to that in Treg cells.\n",
      "\n",
      "### Treatments for SLE:\n",
      "1. **Treat-to-Target Strategy**:\n",
      "   - Aims to achieve remission or low disease activity.\n",
      "   - Focuses on preventing organ damage.\n",
      "2. **Precision Medicine**:\n",
      "   - Tailors treatment based on individual patient characteristics and immunological abnormalities.\n",
      "3. **Patient Engagement**:\n",
      "   - Involves patients in the management of their disease to improve health status perception.\n",
      "\n",
      "### Additional Considerations:\n",
      "- **Prevalence**: The incidence of SLE is 0.3–31.5 in 100,000 per year, with a trend of increasing prevalence.\n",
      "- **Healthcare Costs**: Related to disease severity and type of organ involvement.\n",
      "- **Health-Related Quality of Life (HRQoL)**: Not strongly associated with remission or low disease activity, influenced by various factors beyond clinical symptoms.\n",
      "\n",
      "This summary provides an overview of SLE, highlighting its complexity and the importance of personalized approaches in its management.\n",
      "\n",
      "===========================\n",
      "\n",
      "Vector + Cypher Response: \n",
      "Certainly! Here's a detailed summary of systemic lupus erythematosus (SLE), including its common effects, biomarkers, and treatments:\n",
      "\n",
      "### Common Effects of SLE:\n",
      "1. **Immune System Dysfunction:**\n",
      "   - Aberrant activity of the immune system.\n",
      "   - Altered interactions between T and B cells.\n",
      "   - Increased auto-reactivity of B cells.\n",
      "\n",
      "2. **Clinical Manifestations:**\n",
      "   - Renal symptoms (e.g., lupus nephritis).\n",
      "   - Dermatological symptoms.\n",
      "   - Neuropsychiatric symptoms.\n",
      "   - Cardiovascular symptoms.\n",
      "   - Generalized pain, fatigue, depression, anxiety, cognitive dysfunction, and sleep disturbance.\n",
      "\n",
      "3. **Disease Characteristics:**\n",
      "   - Chronic inflammatory systemic disease.\n",
      "   - Multi-organ involvement.\n",
      "   - Clinically heterogeneous with a wide range of manifestations.\n",
      "   - Unpredictable relapsing and remitting course.\n",
      "\n",
      "4. **Health-Related Quality of Life (HRQoL):**\n",
      "   - SLE impacts HRQoL, with patients often experiencing limitations in daily life activities.\n",
      "\n",
      "### Biomarkers for SLE:\n",
      "1. **Antibodies:**\n",
      "   - Anti-dsDNA antibodies.\n",
      "   - Anti-Sm antibodies.\n",
      "   - Anti-C1q antibodies.\n",
      "   - Antinuclear Antibody (ANA).\n",
      "\n",
      "2. **Complement Levels:**\n",
      "   - Decreased levels of C3 and C4.\n",
      "\n",
      "3. **Other Biomarkers:**\n",
      "   - IgG, IgA, IgM.\n",
      "   - IFN, IL, IP-10, MCP-1, MHR, nLHR, PON1, TNF.\n",
      "   - Laboratory biomarkers include proteinuria, urinary casts, hemolytic anemia with reticulocytosis, white blood cells, lymphocytes, platelets, Smith (Sm) antibody, and total complement activity.\n",
      "\n",
      "### Treatments for SLE:\n",
      "1. **Medications:**\n",
      "   - Hydroxychloroquine.\n",
      "   - Corticosteroids (e.g., Prednisolone).\n",
      "   - Immunosuppressives (e.g., Mycophenolate Mofetil, Cyclophosphamide).\n",
      "   - Belimumab (used as an add-on treatment).\n",
      "   - Anifrolumab.\n",
      "   - Rituximab.\n",
      "   - Antimalarials and glucocorticoids.\n",
      "\n",
      "2. **Treatment Strategies:**\n",
      "   - Treat-to-target strategy aiming for remission or low disease activity.\n",
      "   - Management includes a focus on preventing organ damage and improving patient outcomes.\n",
      "\n",
      "3. **Complications Management:**\n",
      "   - Warfarin and Low Molecular Weight Heparin (LMWH) for associated complications.\n",
      "\n",
      "### Additional Considerations:\n",
      "- **Risk Factors:**\n",
      "  - Genetic factors (e.g., HLA genes).\n",
      "  - Environmental factors (e.g., ultraviolet light, toxins, infections).\n",
      "\n",
      "- **Patient Management:**\n",
      "  - Importance of patient participation and trust in the physician.\n",
      "  - Use of Patient Reported Outcomes (PROs) in management.\n",
      "\n",
      "This summary provides an overview of the key aspects of SLE, including its effects, biomarkers, and treatment options.\n"
     ]
    }
   ],
   "execution_count": 42
  },
  {
   "metadata": {
    "ExecuteTime": {
     "end_time": "2024-10-13T00:39:03.889804Z",
     "start_time": "2024-10-13T00:38:50.714678Z"
    }
   },
   "cell_type": "code",
   "source": [
    "q = \"Can you summarize systemic lupus erythematosus (SLE)? including common effects, biomarkers, treatments, and current challenges faced by Physicians and patients? provide in list format with details for each item.\"\n",
    "print(f\"Vector Response: \\n{v_rag.search(q, retriever_config={'top_k': 5}).answer}\")\n",
    "print(\"\\n===========================\\n\")\n",
    "print(f\"Vector + Cypher Response: \\n{vc_rag.search(q, retriever_config={'top_k': 5}).answer}\")"
   ],
   "id": "d03ec43f6f02f608",
   "outputs": [
    {
     "name": "stdout",
     "output_type": "stream",
     "text": [
      "Vector Response: \n",
      "Certainly! Here's a summary of systemic lupus erythematosus (SLE) including its common effects, biomarkers, treatments, and current challenges faced by physicians and patients:\n",
      "\n",
      "1. **Common Effects:**\n",
      "   - SLE is a systemic autoimmune disease characterized by immune system dysfunction.\n",
      "   - It presents with a wide range of clinical manifestations, including renal, dermatological, neuropsychiatric, and cardiovascular symptoms.\n",
      "   - The disease is chronic, inflammatory, and involves multiple organs with varying severity.\n",
      "   - SLE has an unpredictable relapsing and remitting course.\n",
      "\n",
      "2. **Biomarkers:**\n",
      "   - Clinical and immunological biomarkers are critical for diagnosing and monitoring disease activity in SLE.\n",
      "   - These biomarkers help assess pathophysiological processes and control the disease, with or without organ-specific injury.\n",
      "   - Novel biomarkers discovered through \"omics\" research are being reviewed for their potential use in SLE management.\n",
      "\n",
      "3. **Treatments:**\n",
      "   - A \"treat-to-target\" strategy is applied to SLE, aiming for remission and low disease activity.\n",
      "   - Treatment focuses on preventing organ damage and managing symptoms.\n",
      "   - Precision medicine is being explored to tailor treatments based on individual patient characteristics and immunological changes.\n",
      "\n",
      "4. **Current Challenges:**\n",
      "   - Reaching treatment targets is not strongly associated with improved Health-Related Quality of Life (HRQoL) due to the influence of many other factors.\n",
      "   - Physicians often focus on preventing organ damage, while patients are more concerned with their overall well-being and daily functioning.\n",
      "   - There is a communication gap between patients and healthcare providers, with a need for better use of time during visits, preparation for consultations, and use of understandable language.\n",
      "   - The complexity and heterogeneity of SLE make it difficult to manage as it is not a single-target disease.\n",
      "   - Increasing prevalence and healthcare-related costs are additional challenges.\n",
      "\n",
      "These points highlight the multifaceted nature of SLE and the ongoing efforts to improve diagnosis, treatment, and patient care.\n",
      "\n",
      "===========================\n",
      "\n",
      "Vector + Cypher Response: \n",
      "Certainly! Here's a summary of systemic lupus erythematosus (SLE) including its common effects, biomarkers, treatments, and current challenges faced by physicians and patients:\n",
      "\n",
      "**Common Effects of SLE:**\n",
      "1. **Chronic Inflammatory Systemic Disease:** SLE is characterized by chronic inflammation affecting multiple organs.\n",
      "2. **Multi-Organ Involvement:** It involves various organs, leading to a complex clinical picture with a wide range of manifestations.\n",
      "3. **Symptoms:** Common symptoms include skin lesions, kidney and renal symptoms, generalized pain, fatigue, depression, anxiety, cognitive dysfunction, sleep disturbance, and widespread body pain.\n",
      "4. **Type 1 Manifestations:** Includes nephritis, arthritis, and vasculitis.\n",
      "5. **Type 2 Manifestations:** Includes symptoms like fatigue and depression.\n",
      "6. **Health-Related Quality of Life (HRQoL):** SLE significantly impacts HRQoL, with patients often reporting fair or not-so-good health.\n",
      "\n",
      "**Biomarkers for SLE:**\n",
      "1. **Antinuclear Antibody (ANA):** Used as a biomarker for SLE, though it can occur in healthy controls.\n",
      "2. **Anti-dsDNA Antibodies:** Correlate with SLE disease activity.\n",
      "3. **Anti-Sm Antibodies:** Included in SLE classification criteria and serve as a biomarker for SLE classification.\n",
      "4. **Complement Consumption:** A marker for SLE activity.\n",
      "5. **Laboratory Biomarkers:** Include proteinuria, urinary casts, hemolytic anemia with reticulocytosis, white blood cells, lymphocytes, platelets, Smith (Sm) antibody, DNA antibody, and total complement activity.\n",
      "\n",
      "**Treatments for SLE:**\n",
      "1. **Hydroxychloroquine:** Commonly used to treat SLE, including mild and skin-limited disease.\n",
      "2. **Corticosteroids:** Used to manage inflammation and symptoms.\n",
      "3. **Immunosuppressives:** Such as cyclophosphamide and mycophenolate mofetil, used to treat SLE.\n",
      "4. **Belimumab:** Used as an add-on treatment for SLE patients.\n",
      "5. **Warfarin and Low Molecular Weight Heparin:** Used to treat complications associated with SLE.\n",
      "\n",
      "**Current Challenges:**\n",
      "1. **Diagnosis and Classification:** SLE is diagnosed based on clinical symptoms and signs, with various classification criteria (e.g., ACR-1997, SLICC-2012, EULAR/ACR-2019) that have different sensitivity and specificity.\n",
      "2. **Patient-Clinician Communication:** Effective communication is crucial for managing symptoms and preventing organ damage, but clinicians often find it challenging to interpret validated questionnaires and subjective measures.\n",
      "3. **Disease Management:** SLE has an unpredictable relapsing and remitting course, making disease management complex.\n",
      "4. **Quality of Life:** Patients often focus on managing symptoms to improve their quality of life, which is significantly impacted by the disease.\n",
      "5. **Healthcare-Related Costs:** The severity of SLE is related to increased healthcare costs, posing a financial burden on patients and healthcare systems.\n",
      "\n",
      "These points provide a comprehensive overview of SLE, highlighting its effects, biomarkers, treatments, and challenges.\n"
     ]
    }
   ],
   "execution_count": 43
  }
 ],
 "metadata": {
  "kernelspec": {
   "display_name": "Python 3",
   "language": "python",
   "name": "python3"
  },
  "language_info": {
   "codemirror_mode": {
    "name": "ipython",
    "version": 2
   },
   "file_extension": ".py",
   "mimetype": "text/x-python",
   "name": "python",
   "nbconvert_exporter": "python",
   "pygments_lexer": "ipython2",
   "version": "2.7.6"
  }
 },
 "nbformat": 4,
 "nbformat_minor": 5
}
