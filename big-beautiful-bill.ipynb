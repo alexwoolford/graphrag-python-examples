{
 "cells": [
  {
   "cell_type": "markdown",
   "id": "cf0be1ddc2bd2434",
   "metadata": {},
   "source": [
    "# GraphRAG Python package End-to-End Example\n",
    "\n",
    "This notebook contains an end-to-end worked example using the [GraphRAG Python package](https://neo4j.com/docs/neo4j-graphrag-python/current/index.html) for Neo4j. It starts with unstructured documents (in this case pdfs), and progresses through knowledge graph construction, knowledge graph retriever design, and complete GraphRAG pipelines. \n",
    "\n",
    "Research papers on Lupus are used as the data source. We design a couple of different retrievers based on different knowledge graph retrieval patterns. \n",
    "\n",
    "For more details and explanations around each of the below steps, see the [corresponding blog post](https://neo4j.com/blog/graphrag-python-package/) which contains a full write-up, in-depth comparison of the retrieval patterns, and additional learning resources."
   ]
  },
  {
   "cell_type": "markdown",
   "id": "a02f7521592f344f",
   "metadata": {},
   "source": [
    "Setup the LLM endpoints on the GPU workstation:\n",
    "\n",
    "    # 1. vLLM (real 4-bit)\n",
    "    docker run -d --rm --gpus all -p 8001:8000 \\\n",
    "      -v $PWD/cache:/root/.cache/huggingface \\\n",
    "      vllm/vllm-openai:latest \\\n",
    "      --model Qwen/Qwen2-7B-Instruct-AWQ \\\n",
    "      --quantization awq \\\n",
    "      --served-model-name qwen2 \\\n",
    "      --dtype float16 \\\n",
    "      --port 8000\n",
    "\n",
    "    # 2. Infinity (smaller warm-up)\n",
    "    docker run -d --rm --gpus all -p 7997:7997 \\\n",
    "      -v $PWD/cache:/app/.cache \\\n",
    "      michaelf34/infinity:latest-trt-onnx \\\n",
    "      v2 --model-id BAAI/bge-large-en-v1.5 \\\n",
    "      --served-model-name bge \\\n",
    "      --batch-size 8 \\\n",
    "      --dtype float16 --device cuda --port 7997\n"
   ]
  },
  {
   "cell_type": "markdown",
   "id": "5648c7bad3f5d926",
   "metadata": {},
   "source": [
    "Confirm that the endpoints work:\n",
    "\n",
    "    % http POST http://10.0.1.37:8001/v1/chat/completions \\\n",
    "         model=qwen2 \\\n",
    "         messages:='[\n",
    "           {\"role\": \"system\", \"content\": \"You are a helpful assistant.\"},\n",
    "           {\"role\": \"user\",   \"content\": \"Hello, world!\"}\n",
    "         ]' \\\n",
    "         temperature:=0.2 \\\n",
    "         max_tokens:=128\n",
    "\n",
    "    {\n",
    "        \"choices\": [\n",
    "            {\n",
    "                ...\n",
    "                \"message\": {\n",
    "                    \"content\": \"Hello! It's nice to meet you. How can I assist you today?\",\n",
    "                    ...\n",
    "                },\n",
    "                ...\n",
    "            }\n",
    "        ],\n",
    "        ...\n",
    "    }\n",
    "\n",
    "    % http POST http://10.0.1.37:7997/embeddings \\\n",
    "      model=bge \\\n",
    "      input:='[\"Natural-language string …\"]'\n",
    "\n",
    "    {\n",
    "        \"created\": 1749391848,\n",
    "        \"data\": [\n",
    "            {\n",
    "                \"embedding\": [\n",
    "                    0.02315451204776764,\n",
    "                    -0.02632719837129116,\n",
    "        -0.01859377510845661,\n",
    "                    0.018731053918600082,\n",
    "                    0.07425306737422943,\n",
    "                    -0.0092587536200881,\n",
    "                    ...\n",
    "                    0.00983075238764286,\n",
    "                    0.007191931363195181\n",
    "                ],\n",
    "                \"index\": 0,\n",
    "                \"object\": \"embedding\"\n",
    "            }\n",
    "        ],\n",
    "        \"id\": \"infinity-247581f8-4ae2-46f5-b62b-359eb461df7f\",\n",
    "        \"model\": \"bge\",\n",
    "        \"object\": \"list\",\n",
    "        \"usage\": {\n",
    "            \"prompt_tokens\": 25,\n",
    "            \"total_tokens\": 25\n",
    "        }\n",
    "    }\n",
    "\n"
   ]
  },
  {
   "cell_type": "code",
   "id": "9820f541adf30bfd",
   "metadata": {
    "ExecuteTime": {
     "end_time": "2025-06-11T04:17:24.072128Z",
     "start_time": "2025-06-11T04:17:23.278836Z"
    }
   },
   "source": [
    "%%capture\n",
    "%pip install fsspec langchain-text-splitters tiktoken openai python-dotenv numpy torch neo4j-graphrag==1.7.0"
   ],
   "outputs": [],
   "execution_count": 1
  },
  {
   "cell_type": "code",
   "id": "48847ca8",
   "metadata": {
    "ExecuteTime": {
     "end_time": "2025-06-11T04:17:24.197770Z",
     "start_time": "2025-06-11T04:17:24.195902Z"
    }
   },
   "source": [
    "import os\n",
    "os.environ[\"OPENAI_API_BASE\"] = \"http://10.0.1.37:8001/v1\"\n",
    "os.environ[\"OPENAI_API_KEY\"] = \"dummy\"\n",
    "\n",
    "EMBEDDING_BASE  = \"http://10.0.1.37:7997\"\n",
    "EMBEDDING_MODEL = \"bge\""
   ],
   "outputs": [],
   "execution_count": 2
  },
  {
   "cell_type": "code",
   "id": "a023c71324bf6e7f",
   "metadata": {
    "ExecuteTime": {
     "end_time": "2025-06-11T04:17:24.209958Z",
     "start_time": "2025-06-11T04:17:24.202997Z"
    }
   },
   "source": [
    "from dotenv import load_dotenv\n",
    "import os\n",
    "\n",
    "# load neo4j credentials (and openai api key in background).\n",
    "load_dotenv('.env', override=True)\n",
    "NEO4J_URI = os.getenv('NEO4J_URI')\n",
    "NEO4J_USERNAME = os.getenv('NEO4J_USERNAME')\n",
    "NEO4J_PASSWORD = os.getenv('NEO4J_PASSWORD')\n",
    "NEO4J_DATABASE = os.getenv('NEO4J_DATABASE')\n",
    "\n",
    "#uncomment this line if you aren't using a .env file\n",
    "# os.environ['OPENAI_API_KEY'] = 'copy_paste_the_openai_key_here'"
   ],
   "outputs": [],
   "execution_count": 3
  },
  {
   "cell_type": "markdown",
   "id": "418bd212bae7f492",
   "metadata": {},
   "source": [
    "## Knowledge Graph Building\n",
    "\n",
    "The `SimpleKGPipeline` class allows you to automatically build a knowledge graph with a few key inputs, including\n",
    "- a driver to connect to Neo4j,\n",
    "- an LLM for entity extraction, and\n",
    "- an embedding model to create vectors on text chunks for similarity search.\n",
    "\n",
    "There are also some optional inputs, such as node labels, relationship types, and a custom prompt template, which we will use to improve the quality of the knowledge graph. For full details on this, see [the blog](https://neo4j.com/blog/graphrag-python-package/).\n"
   ]
  },
  {
   "cell_type": "code",
   "id": "3782c3fb",
   "metadata": {
    "ExecuteTime": {
     "end_time": "2025-06-11T04:17:26.326687Z",
     "start_time": "2025-06-11T04:17:24.215132Z"
    }
   },
   "source": [
    "from openai import OpenAI\n",
    "from neo4j_graphrag.llm import OpenAILLM\n",
    "from neo4j_graphrag.embeddings.openai import OpenAIEmbeddings\n",
    "\n",
    "LLM_BASE_URL = \"http://10.0.1.37:8001/v1\"   # vLLM server\n",
    "EMBEDDING_BASE_URL  = \"http://10.0.1.37:7997\"      # Infinity server\n",
    "EMBEDDING_MODEL = \"bge\"\n",
    "\n",
    "def make_clients():\n",
    "    # --- Embeddings ---------------------------------------------------------\n",
    "    embeddings = OpenAIEmbeddings(\n",
    "        EMBEDDING_MODEL,\n",
    "        base_url=EMBEDDING_BASE,   # http://10.0.1.37:7997\n",
    "        api_key=\"local\",           # dummy key; server ignores it\n",
    "        timeout=30.0, \n",
    "    )\n",
    "\n",
    "    # --- LLM ---------------------------------------------------------------\n",
    "    llm = OpenAILLM(\n",
    "        \"qwen2\",\n",
    "        base_url=os.environ[\"OPENAI_API_BASE\"],\n",
    "        api_key=os.environ[\"OPENAI_API_KEY\"],\n",
    "        timeout=60.0 \n",
    "    )\n",
    "    return llm, embeddings"
   ],
   "outputs": [],
   "execution_count": 4
  },
  {
   "cell_type": "code",
   "id": "aa30e35165325ec1",
   "metadata": {
    "ExecuteTime": {
     "end_time": "2025-06-11T04:17:26.421518Z",
     "start_time": "2025-06-11T04:17:26.332569Z"
    }
   },
   "source": [
    "import neo4j\n",
    "from neo4j_graphrag.experimental.components.text_splitters.fixed_size_splitter import FixedSizeSplitter\n",
    "driver        = neo4j.GraphDatabase.driver(NEO4J_URI,\n",
    "                                              auth=(NEO4J_USERNAME, NEO4J_PASSWORD),\n",
    "                                              database=NEO4J_DATABASE)\n",
    "llm, embedder = make_clients()\n",
    "splitter      = FixedSizeSplitter(400, 40)"
   ],
   "outputs": [],
   "execution_count": 5
  },
  {
   "cell_type": "code",
   "id": "1f46a07eceb2bd99",
   "metadata": {
    "ExecuteTime": {
     "end_time": "2025-06-11T04:17:26.430344Z",
     "start_time": "2025-06-11T04:17:26.427627Z"
    }
   },
   "source": [
    "NODE_TYPES = [\n",
    "    \"Bill\", \"Title\", \"Subtitle\", \"Section\", \"Agency\", \"Program\",\n",
    "    \"Requirement\", \"Appropriation\", \"BeneficiaryGroup\",\n",
    "    \"Deadline\", \"Act\"\n",
    "]\n",
    "\n",
    "RELATIONSHIP_TYPES = [\n",
    "    \"HAS_TITLE\", \"HAS_SUBTITLE\", \"HAS_SECTION\", \"ESTABLISHES\",\n",
    "    \"AUTHORIZES_FUNDS\", \"APPROPRIATES_TO\", \"IMPOSES_REQUIREMENT\",\n",
    "    \"BENEFITS\", \"AMENDS\", \"ADMINISTERED_BY\", \"AFFECTS\",\n",
    "    \"APPLIES_TO\", \"EFFECTIVE_ON\"\n",
    "]\n",
    "\n",
    "PATTERNS = [\n",
    "    (\"Bill\", \"HAS_TITLE\", \"Title\"),\n",
    "    (\"Title\", \"HAS_SUBTITLE\", \"Subtitle\"),\n",
    "    (\"Subtitle\", \"HAS_SECTION\", \"Section\"),\n",
    "    (\"Section\", \"HAS_SECTION\", \"Section\"),          # nested §§\n",
    "    (\"Section\", \"ESTABLISHES\", \"Program\"),\n",
    "    (\"Section\", \"AUTHORIZES_FUNDS\", \"Appropriation\"),\n",
    "    (\"Section\", \"IMPOSES_REQUIREMENT\", \"Requirement\"),\n",
    "    (\"Section\", \"BENEFITS\", \"BeneficiaryGroup\"),\n",
    "    (\"Section\", \"AMENDS\", \"Act\"),\n",
    "    (\"Program\", \"ADMINISTERED_BY\", \"Agency\"),\n",
    "    (\"Program\", \"BENEFITS\", \"BeneficiaryGroup\"),\n",
    "    (\"Appropriation\", \"APPROPRIATES_TO\", \"Program\"),\n",
    "    (\"Requirement\", \"AFFECTS\", \"Agency\"),\n",
    "    (\"Requirement\", \"APPLIES_TO\", \"BeneficiaryGroup\"),\n",
    "    (\"Section\", \"EFFECTIVE_ON\", \"Deadline\"),\n",
    "]"
   ],
   "outputs": [],
   "execution_count": 6
  },
  {
   "cell_type": "code",
   "id": "ac291dfe269395fc",
   "metadata": {
    "ExecuteTime": {
     "end_time": "2025-06-11T04:17:26.437512Z",
     "start_time": "2025-06-11T04:17:26.435532Z"
    }
   },
   "source": [
    "def build_schema_section() -> str:\n",
    "    \"\"\"Yield a markdown bulleted list that the LLM will see.\"\"\"\n",
    "    nodes = \"\\n\".join(f\"* **{n}**\" for n in NODE_TYPES)\n",
    "    rels  = \"\\n\".join(f\"* `{r}`\"  for r in RELATIONSHIP_TYPES)\n",
    "    return f\"\"\"\n",
    "**Node labels**\n",
    "\n",
    "{nodes}\n",
    "\n",
    "**Relationship types**\n",
    "\n",
    "{rels}\n",
    "\"\"\".strip()"
   ],
   "outputs": [],
   "execution_count": 7
  },
  {
   "cell_type": "code",
   "id": "8cbcdedcd1757b1d",
   "metadata": {
    "ExecuteTime": {
     "end_time": "2025-06-11T04:17:26.444350Z",
     "start_time": "2025-06-11T04:17:26.442506Z"
    }
   },
   "source": [
    "prompt_template = \"\"\"\n",
    "You are a legislative analyst tasked with extracting structured information from U.S. federal bills and representing it as a property graph that will power a GraphRAG question-answering system.\n",
    "\n",
    "**Task**\n",
    "\n",
    "1. **Extract every entity** (node) the *Input text* clearly mentions and assign\n",
    "   it one of the allowed labels below.\n",
    "2. **Extract every relationship** that exists *within* the *Input text*, using\n",
    "   the correct direction (from the `start_node_id` to the `end_node_id`).\n",
    "\n",
    "**Output format**\n",
    "\n",
    "Return **only** a single JSON object in the form\n",
    "\n",
    "{{{{\n",
    "  \"nodes\": [\n",
    "    {{{{ \"id\": \"0\", \"label\": \"<NodeLabel>\", \"properties\": {{{{ \"name\": \"<entity name>\" }}}} }}}},\n",
    "    ...\n",
    "  ],\n",
    "  \"relationships\": [\n",
    "    {{{{ \"type\": \"<REL_TYPE>\", \"start_node_id\": \"0\", \"end_node_id\": \"1\", \"properties\": {{{{ \"details\": \"<optional short description>\" }}}} }}}},\n",
    "    ...\n",
    "  ]\n",
    "}}}}\n",
    "\n",
    "* Each `id` must be unique *within this chunk*.\n",
    "* Include only properties that appear literally in the text.\n",
    "* If the input is empty return `{{}}`.\n",
    "\n",
    "**Allowed node labels and relationship types**\n",
    "\n",
    "{schema}\n",
    "\n",
    "**Guidelines**\n",
    "\n",
    "* Do **not** invent information not present in the text.\n",
    "* Use the containment edges (`HAS_TITLE`, `HAS_SUBTITLE`, `HAS_SECTION`).\n",
    "* Use policy-specific edges (`APPROPRIATES_TO`, `EFFECTIVE_ON`, …) only when\n",
    "  the text supports them.\n",
    "* Keep entity types general so they can be reused across bills.\n",
    "\n",
    "**Few-shot examples**\n",
    "\n",
    "{examples}\n",
    "\n",
    "---\n",
    "\n",
    "**Input text**\n",
    "\n",
    "{text}\n",
    "\"\"\""
   ],
   "outputs": [],
   "execution_count": 8
  },
  {
   "cell_type": "code",
   "id": "e379933631018cfb",
   "metadata": {
    "ExecuteTime": {
     "end_time": "2025-06-11T04:17:26.452402Z",
     "start_time": "2025-06-11T04:17:26.450884Z"
    }
   },
   "source": [
    "prompt_ready = prompt_template.format(\n",
    "    schema=build_schema_section(),\n",
    "    examples=\"\",\n",
    "    text=\"{text}\"\n",
    ")"
   ],
   "outputs": [],
   "execution_count": 9
  },
  {
   "cell_type": "code",
   "id": "c88f868c1a2f184a",
   "metadata": {
    "ExecuteTime": {
     "end_time": "2025-06-11T04:17:26.459150Z",
     "start_time": "2025-06-11T04:17:26.457467Z"
    }
   },
   "source": [
    "print(prompt_ready)"
   ],
   "outputs": [
    {
     "name": "stdout",
     "output_type": "stream",
     "text": [
      "\n",
      "You are a legislative analyst tasked with extracting structured information from U.S. federal bills and representing it as a property graph that will power a GraphRAG question-answering system.\n",
      "\n",
      "**Task**\n",
      "\n",
      "1. **Extract every entity** (node) the *Input text* clearly mentions and assign\n",
      "   it one of the allowed labels below.\n",
      "2. **Extract every relationship** that exists *within* the *Input text*, using\n",
      "   the correct direction (from the `start_node_id` to the `end_node_id`).\n",
      "\n",
      "**Output format**\n",
      "\n",
      "Return **only** a single JSON object in the form\n",
      "\n",
      "{{\n",
      "  \"nodes\": [\n",
      "    {{ \"id\": \"0\", \"label\": \"<NodeLabel>\", \"properties\": {{ \"name\": \"<entity name>\" }} }},\n",
      "    ...\n",
      "  ],\n",
      "  \"relationships\": [\n",
      "    {{ \"type\": \"<REL_TYPE>\", \"start_node_id\": \"0\", \"end_node_id\": \"1\", \"properties\": {{ \"details\": \"<optional short description>\" }} }},\n",
      "    ...\n",
      "  ]\n",
      "}}\n",
      "\n",
      "* Each `id` must be unique *within this chunk*.\n",
      "* Include only properties that appear literally in the text.\n",
      "* If the input is empty return `{}`.\n",
      "\n",
      "**Allowed node labels and relationship types**\n",
      "\n",
      "**Node labels**\n",
      "\n",
      "* **Bill**\n",
      "* **Title**\n",
      "* **Subtitle**\n",
      "* **Section**\n",
      "* **Agency**\n",
      "* **Program**\n",
      "* **Requirement**\n",
      "* **Appropriation**\n",
      "* **BeneficiaryGroup**\n",
      "* **Deadline**\n",
      "* **Act**\n",
      "\n",
      "**Relationship types**\n",
      "\n",
      "* `HAS_TITLE`\n",
      "* `HAS_SUBTITLE`\n",
      "* `HAS_SECTION`\n",
      "* `ESTABLISHES`\n",
      "* `AUTHORIZES_FUNDS`\n",
      "* `APPROPRIATES_TO`\n",
      "* `IMPOSES_REQUIREMENT`\n",
      "* `BENEFITS`\n",
      "* `AMENDS`\n",
      "* `ADMINISTERED_BY`\n",
      "* `AFFECTS`\n",
      "* `APPLIES_TO`\n",
      "* `EFFECTIVE_ON`\n",
      "\n",
      "**Guidelines**\n",
      "\n",
      "* Do **not** invent information not present in the text.\n",
      "* Use the containment edges (`HAS_TITLE`, `HAS_SUBTITLE`, `HAS_SECTION`).\n",
      "* Use policy-specific edges (`APPROPRIATES_TO`, `EFFECTIVE_ON`, …) only when\n",
      "  the text supports them.\n",
      "* Keep entity types general so they can be reused across bills.\n",
      "\n",
      "**Few-shot examples**\n",
      "\n",
      "\n",
      "\n",
      "---\n",
      "\n",
      "**Input text**\n",
      "\n",
      "{text}\n",
      "\n"
     ]
    }
   ],
   "execution_count": 10
  },
  {
   "cell_type": "code",
   "id": "1c4fb1fbd97f7503",
   "metadata": {
    "ExecuteTime": {
     "end_time": "2025-06-11T04:17:28.065144Z",
     "start_time": "2025-06-11T04:17:26.465097Z"
    }
   },
   "source": [
    "from neo4j_graphrag.experimental.pipeline.kg_builder import SimpleKGPipeline\n",
    "\n",
    "kg_builder = SimpleKGPipeline(\n",
    "    llm=llm,\n",
    "    driver=driver,\n",
    "    text_splitter=FixedSizeSplitter(chunk_size=500, chunk_overlap=100),\n",
    "    embedder=embedder,\n",
    "    entities=NODE_TYPES,\n",
    "    relations=RELATIONSHIP_TYPES,\n",
    "    enforce_schema=\"STRICT\",\n",
    "    prompt_template=prompt_template,\n",
    "    from_pdf=True\n",
    ")"
   ],
   "outputs": [],
   "execution_count": 11
  },
  {
   "cell_type": "code",
   "id": "672cdd9cd894d530",
   "metadata": {
    "ExecuteTime": {
     "end_time": "2025-06-11T04:21:43.909904Z",
     "start_time": "2025-06-11T04:17:28.075273Z"
    }
   },
   "source": [
    "pdf_file_paths = ['BILLS-119hr1rh-sample.pdf']\n",
    "\n",
    "for path in pdf_file_paths:\n",
    "    print(f\"Processing : {path}\")\n",
    "    pdf_result = await kg_builder.run_async(file_path=path)\n",
    "    print(f\"Result: {pdf_result}\")\n"
   ],
   "outputs": [
    {
     "name": "stdout",
     "output_type": "stream",
     "text": [
      "Processing : BILLS-119hr1rh-sample.pdf\n"
     ]
    },
    {
     "name": "stderr",
     "output_type": "stream",
     "text": [
      "Received notification from DBMS server: {severity: WARNING} {code: Neo.ClientNotification.Statement.UnknownLabelWarning} {category: UNRECOGNIZED} {title: The provided label is not in the database.} {description: One of the labels in your query is not available in the database, make sure you didn't misspell it or that the label is available when you run this statement in your application (the missing label name is: __Entity__)} {position: line: 1, column: 15, offset: 14} for query: 'MATCH (entity:__Entity__)  RETURN count(entity) as c'\n"
     ]
    },
    {
     "name": "stdout",
     "output_type": "stream",
     "text": [
      "Result: run_id='1e25e71a-7677-4344-b0b0-8bc0189a5f78' result={'resolver': {'number_of_nodes_to_resolve': 0, 'number_of_created_nodes': None}}\n"
     ]
    }
   ],
   "execution_count": 12
  },
  {
   "cell_type": "code",
   "id": "dab8d7a27e0ae272",
   "metadata": {
    "ExecuteTime": {
     "end_time": "2025-06-11T04:21:44.008150Z",
     "start_time": "2025-06-11T04:21:43.947389Z"
    }
   },
   "source": [
    "from neo4j_graphrag.indexes import create_vector_index\n",
    "\n",
    "create_vector_index(driver, name=\"text_embeddings\", label=\"Chunk\",\n",
    "                    embedding_property=\"embedding\", dimensions=1024, similarity_fn=\"cosine\")"
   ],
   "outputs": [],
   "execution_count": 13
  },
  {
   "cell_type": "markdown",
   "id": "a49caea436c57181",
   "metadata": {},
   "source": [
    "# STOP"
   ]
  },
  {
   "cell_type": "markdown",
   "id": "efae0f207dbab678",
   "metadata": {},
   "source": [
    "## Knowledge Graph Retrieval"
   ]
  },
  {
   "cell_type": "code",
   "id": "b94dec882cb754ca",
   "metadata": {
    "ExecuteTime": {
     "end_time": "2025-06-11T04:21:44.135689Z",
     "start_time": "2025-06-11T04:21:44.015260Z"
    }
   },
   "source": [
    "from neo4j_graphrag.retrievers import VectorRetriever\n",
    "\n",
    "vector_retriever = VectorRetriever(\n",
    "    driver,\n",
    "    index_name=\"text_embeddings\",\n",
    "    embedder=embedder,\n",
    "    return_properties=[\"text\"],\n",
    ")"
   ],
   "outputs": [],
   "execution_count": 14
  },
  {
   "cell_type": "code",
   "id": "ac578277",
   "metadata": {
    "ExecuteTime": {
     "end_time": "2025-06-11T04:21:44.232768Z",
     "start_time": "2025-06-11T04:21:44.144194Z"
    }
   },
   "source": [
    "# … rest of your notebook stays unchanged …\n",
    "chunks  = splitter(text)\n",
    "vectors = embedder.embed([c.text for c in chunks])\n",
    "result  = await llm.ainvoke(prompt_template.format(text=text))"
   ],
   "outputs": [
    {
     "ename": "NameError",
     "evalue": "name 'text' is not defined",
     "output_type": "error",
     "traceback": [
      "\u001B[31m---------------------------------------------------------------------------\u001B[39m",
      "\u001B[31mNameError\u001B[39m                                 Traceback (most recent call last)",
      "\u001B[36mCell\u001B[39m\u001B[36m \u001B[39m\u001B[32mIn[15]\u001B[39m\u001B[32m, line 2\u001B[39m\n\u001B[32m      1\u001B[39m \u001B[38;5;66;03m# … rest of your notebook stays unchanged …\u001B[39;00m\n\u001B[32m----> \u001B[39m\u001B[32m2\u001B[39m chunks  = splitter(\u001B[43mtext\u001B[49m)\n\u001B[32m      3\u001B[39m vectors = embedder.embed([c.text \u001B[38;5;28;01mfor\u001B[39;00m c \u001B[38;5;129;01min\u001B[39;00m chunks])\n\u001B[32m      4\u001B[39m result  = \u001B[38;5;28;01mawait\u001B[39;00m llm.ainvoke(prompt_template.format(text=text))\n",
      "\u001B[31mNameError\u001B[39m: name 'text' is not defined"
     ]
    }
   ],
   "execution_count": 15
  },
  {
   "cell_type": "code",
   "id": "48e4bff5",
   "metadata": {},
   "source": [
    "prompt = prompt_template.format(text=some_text, schema=my_schema_json)\n",
    "result = await llm.ainvoke(prompt)"
   ],
   "outputs": [],
   "execution_count": null
  },
  {
   "cell_type": "code",
   "id": "529a3392",
   "metadata": {},
   "source": [
    "llm, embedder = make_clients()\n",
    "\n",
    "chunks  = splitter.split(text)\n",
    "vectors = embedder.embed([c.text for c in chunks])\n",
    "result  = await llm.ainvoke(prompt)"
   ],
   "outputs": [],
   "execution_count": null
  },
  {
   "cell_type": "code",
   "id": "94e1dfac980e6527",
   "metadata": {},
   "source": [
    "from neo4j_graphrag.experimental.components.text_splitters.fixed_size_splitter import FixedSizeSplitter\n",
    "from neo4j_graphrag.experimental.pipeline.kg_builder import SimpleKGPipeline\n",
    "\n",
    "kg_builder_pdf = SimpleKGPipeline(\n",
    "    llm=ex_llm,\n",
    "    driver=driver,\n",
    "    text_splitter=FixedSizeSplitter(chunk_size=500, chunk_overlap=100),\n",
    "    embedder=embedder,\n",
    "    entities=node_labels,\n",
    "    relations=rel_types,\n",
    "    prompt_template=prompt_template,\n",
    "    from_pdf=True\n",
    ")"
   ],
   "outputs": [],
   "execution_count": null
  },
  {
   "cell_type": "markdown",
   "id": "4d8ef81d0b5ac70c",
   "metadata": {},
   "source": [
    "Below, we run the `SimpleKGPipeline` to construct our knowledge graph from 3 pdf documents and store in Neo4j."
   ]
  },
  {
   "cell_type": "code",
   "id": "edeee98826a970a8",
   "metadata": {},
   "source": [
    "pdf_file_paths = ['BILLS-119hr1rh.pdf']\n",
    "\n",
    "for path in pdf_file_paths:\n",
    "    print(f\"Processing : {path}\")\n",
    "    pdf_result = await kg_builder_pdf.run_async(file_path=path)\n",
    "    print(f\"Result: {pdf_result}\")"
   ],
   "outputs": [],
   "execution_count": null
  },
  {
   "cell_type": "markdown",
   "id": "a9c0fd965b15b143",
   "metadata": {},
   "source": [
    "## Knowledge Graph Retrieval"
   ]
  },
  {
   "cell_type": "markdown",
   "id": "4d7b98e310104246",
   "metadata": {},
   "source": [
    "We will leverage Neo4j's vector search capabilities here. To do this, we need to begin by creating a vector index on the text chunks from the PDFs, which are stored on `Chunk` nodes in our knowledge graph."
   ]
  },
  {
   "cell_type": "code",
   "id": "940b051107b89204",
   "metadata": {},
   "source": [
    "from neo4j_graphrag.indexes import create_vector_index\n",
    "\n",
    "create_vector_index(driver, name=\"text_embeddings\", label=\"Chunk\",\n",
    "                    embedding_property=\"embedding\", dimensions=1536, similarity_fn=\"cosine\")"
   ],
   "outputs": [],
   "execution_count": null
  },
  {
   "cell_type": "markdown",
   "id": "ec95391c989ee694",
   "metadata": {},
   "source": [
    "Now that the index is set up, we will start simple with a __VectorRetriever__.  The __VectorRetriever__ just queries `Chunk` nodes via vector search, bringing back the text and some metadata."
   ]
  },
  {
   "cell_type": "code",
   "id": "eeda7e519c60a02b",
   "metadata": {},
   "source": [
    "from neo4j_graphrag.retrievers import VectorRetriever\n",
    "\n",
    "vector_retriever = VectorRetriever(\n",
    "    driver,\n",
    "    index_name=\"text_embeddings\",\n",
    "    embedder=embedder,\n",
    "    return_properties=[\"text\"],\n",
    ")"
   ],
   "outputs": [],
   "execution_count": null
  },
  {
   "cell_type": "markdown",
   "id": "982112cc273a472e",
   "metadata": {},
   "source": [
    "Below we visualize the context we get back when submitting a search prompt. "
   ]
  },
  {
   "cell_type": "code",
   "id": "ca27731a1f99d71d",
   "metadata": {},
   "source": [
    "import json\n",
    "\n",
    "vector_res = vector_retriever.get_search_results(query_text = \"How is precision medicine applied to Lupus?\", \n",
    "                                                 top_k=3)\n",
    "for i in vector_res.records: print(\"====\\n\" + json.dumps(i.data(), indent=4))"
   ],
   "outputs": [],
   "execution_count": null
  },
  {
   "cell_type": "markdown",
   "id": "2b2ee3da2339365f",
   "metadata": {},
   "source": [
    "The GraphRAG Python Package offers [a wide range of useful retrievers](https://neo4j.com/docs/neo4j-graphrag-python/current/user_guide_rag.html#retriever-configuration), each covering different knowledge graph retrieval patterns.\n",
    "\n",
    "Below we will use the __`VectorCypherRetriever`__, which allows you to run a graph traversal after finding nodes with vector search.  This uses Cypher, Neo4j's graph query language, to define the logic for traversing the graph. \n",
    "\n",
    "As a simple starting point, we'll traverse up to 3 hops out from each Chunk, capture the relationships encountered, and include them in the response alongside our text chunks.\n"
   ]
  },
  {
   "cell_type": "code",
   "id": "2c81ad815a7b1bf9",
   "metadata": {},
   "source": [
    "from neo4j_graphrag.retrievers import VectorCypherRetriever\n",
    "\n",
    "vc_retriever = VectorCypherRetriever(\n",
    "    driver,\n",
    "    index_name=\"text_embeddings\",\n",
    "    embedder=embedder,\n",
    "    retrieval_query=\"\"\"\n",
    "//1) Go out 2-3 hops in the entity graph and get relationships\n",
    "WITH node AS chunk\n",
    "MATCH (chunk)<-[:FROM_CHUNK]-()-[relList:!FROM_CHUNK]-{1,2}()\n",
    "UNWIND relList AS rel\n",
    "\n",
    "//2) collect relationships and text chunks\n",
    "WITH collect(DISTINCT chunk) AS chunks, \n",
    "  collect(DISTINCT rel) AS rels\n",
    "\n",
    "//3) format and return context\n",
    "RETURN '=== text ===\\n' + apoc.text.join([c in chunks | c.text], '\\n---\\n') + '\\n\\n=== kg_rels ===\\n' +\n",
    "  apoc.text.join([r in rels | startNode(r).name + ' - ' + type(r) + '(' + coalesce(r.details, '') + ')' +  ' -> ' + endNode(r).name ], '\\n---\\n') AS info\n",
    "\"\"\"\n",
    ")"
   ],
   "outputs": [],
   "execution_count": null
  },
  {
   "cell_type": "markdown",
   "id": "ef5183123679ca2d",
   "metadata": {},
   "source": [
    "Below we visualize the context we get back when submitting a search prompt. "
   ]
  },
  {
   "cell_type": "code",
   "id": "4a1df583f2450f35",
   "metadata": {},
   "source": [
    "vc_res = vc_retriever.get_search_results(query_text = \"How is precision medicine applied to Lupus?\", top_k=3)\n",
    "\n",
    "# print output\n",
    "kg_rel_pos = vc_res.records[0]['info'].find('\\n\\n=== kg_rels ===\\n')\n",
    "print(\"# Text Chunk Context:\")\n",
    "print(vc_res.records[0]['info'][:kg_rel_pos])\n",
    "print(\"# KG Context From Relationships:\")\n",
    "print(vc_res.records[0]['info'][kg_rel_pos:])"
   ],
   "outputs": [],
   "execution_count": null
  },
  {
   "cell_type": "markdown",
   "id": "f2e55b8b3511cf1",
   "metadata": {},
   "source": [
    "## GraphRAG\n",
    " \n",
    " You can construct GraphRAG pipelines with the `GraphRAG` class.  At a minimum, you will need to pass the constructor an LLM and a retriever. You can optionally pass a custom prompt template. We will do so here just to provide a bit more guidance for the LLM to stick to information from our data source.\n",
    " \n",
    "Below we create `GraphRAG` objects for both the vector and vector-cypher retrievers. "
   ]
  },
  {
   "cell_type": "code",
   "id": "8e2cf317a83d59ae",
   "metadata": {},
   "source": [
    "from neo4j_graphrag.llm import OpenAILLM as LLM\n",
    "from neo4j_graphrag.generation import RagTemplate\n",
    "from neo4j_graphrag.generation.graphrag import GraphRAG\n",
    "\n",
    "llm = LLM(model_name=\"qwen2\",  model_params={\"temperature\": 0.0})\n",
    "\n",
    "rag_template = RagTemplate(template='''Answer the Question using the following Context. Only respond with information mentioned in the Context. Do not inject any speculative information not mentioned. \n",
    "\n",
    "# Question:\n",
    "{query_text}\n",
    " \n",
    "# Context:\n",
    "{context}\n",
    "\n",
    "# Answer:\n",
    "''', expected_inputs=['query_text', 'context'])\n",
    "\n",
    "v_rag  = GraphRAG(llm=llm, retriever=vector_retriever, prompt_template=rag_template)\n",
    "vc_rag = GraphRAG(llm=llm, retriever=vc_retriever, prompt_template=rag_template)"
   ],
   "outputs": [],
   "execution_count": null
  },
  {
   "cell_type": "markdown",
   "id": "fc8e13302fdeadd3",
   "metadata": {},
   "source": [
    "Now we can run GraphRAG and examine the outputs. "
   ]
  },
  {
   "cell_type": "code",
   "id": "4d0aff643e689611",
   "metadata": {},
   "source": [
    "q = \"How is precision medicine applied to Lupus? provide in list format.\"\n",
    "print(f\"Vector Response: \\n{v_rag.search(q, retriever_config={'top_k':5}).answer}\")\n",
    "print(\"\\n===========================\\n\")\n",
    "print(f\"Vector + Cypher Response: \\n{vc_rag.search(q, retriever_config={'top_k':5}).answer}\")"
   ],
   "outputs": [],
   "execution_count": null
  },
  {
   "cell_type": "code",
   "id": "a2c44f834bdb13ad",
   "metadata": {},
   "source": [
    "q = \"Can you summarize systemic lupus erythematosus (SLE)? including common effects, biomarkers, and treatments? Provide in detailed list format.\"\n",
    "\n",
    "v_rag_result = v_rag.search(q, retriever_config={'top_k': 5}, return_context=True)\n",
    "vc_rag_result = vc_rag.search(q, retriever_config={'top_k': 5}, return_context=True)\n",
    "\n",
    "print(f\"Vector Response: \\n{v_rag_result.answer}\")\n",
    "print(\"\\n===========================\\n\")\n",
    "print(f\"Vector + Cypher Response: \\n{vc_rag_result.answer}\")"
   ],
   "outputs": [],
   "execution_count": null
  },
  {
   "cell_type": "code",
   "id": "1088766f7109b6b3",
   "metadata": {},
   "source": [
    "for i in v_rag_result.retriever_result.items: print(json.dumps(eval(i.content), indent=1))"
   ],
   "outputs": [],
   "execution_count": null
  },
  {
   "cell_type": "code",
   "id": "8b10fdab707a0d4a",
   "metadata": {},
   "source": [
    "vc_ls = vc_rag_result.retriever_result.items[0].content.split('\\\\n---\\\\n')\n",
    "for i in vc_ls:\n",
    "    if \"biomarker\" in i: print(i)"
   ],
   "outputs": [],
   "execution_count": null
  },
  {
   "cell_type": "code",
   "id": "7f1510ef53a9d253",
   "metadata": {},
   "source": [
    "vc_ls = vc_rag_result.retriever_result.items[0].content.split('\\\\n---\\\\n')\n",
    "for i in vc_ls:\n",
    "    if \"treat\" in i: print(i)"
   ],
   "outputs": [],
   "execution_count": null
  },
  {
   "cell_type": "code",
   "id": "d03ec43f6f02f608",
   "metadata": {},
   "source": [
    "q = \"Can you summarize systemic lupus erythematosus (SLE)? including common effects, biomarkers, treatments, and current challenges faced by Physicians and patients? provide in list format with details for each item.\"\n",
    "print(f\"Vector Response: \\n{v_rag.search(q, retriever_config={'top_k': 5}).answer}\")\n",
    "print(\"\\n===========================\\n\")\n",
    "print(f\"Vector + Cypher Response: \\n{vc_rag.search(q, retriever_config={'top_k': 5}).answer}\")"
   ],
   "outputs": [],
   "execution_count": null
  },
  {
   "cell_type": "code",
   "id": "c7d66300af9eac12",
   "metadata": {},
   "source": [],
   "outputs": [],
   "execution_count": null
  }
 ],
 "metadata": {
  "kernelspec": {
   "display_name": "neo4j",
   "language": "python",
   "name": "python3"
  },
  "language_info": {
   "codemirror_mode": {
    "name": "ipython",
    "version": 3
   },
   "file_extension": ".py",
   "mimetype": "text/x-python",
   "name": "python",
   "nbconvert_exporter": "python",
   "pygments_lexer": "ipython3",
   "version": "3.11.11"
  }
 },
 "nbformat": 4,
 "nbformat_minor": 5
}
