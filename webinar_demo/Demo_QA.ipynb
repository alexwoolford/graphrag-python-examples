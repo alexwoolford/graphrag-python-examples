{
 "cells": [
  {
   "cell_type": "markdown",
   "id": "f65863a3-47e2-4c55-899d-8902d21d614e",
   "metadata": {},
   "source": [
    "# GraphRAG Python package - From PDF to Q&A with LUPUS example\n",
    "\n",
    "In this notebook we will:\n",
    "\n",
    "- Implement GraphRAG with vector and vector cypher retrievers\n"
   ]
  },
  {
   "cell_type": "raw",
   "id": "55f89455-b55e-46af-95bc-ed8987eebbe2",
   "metadata": {},
   "source": [
    "!pip install python-dotenv neo4j-graphrag openai"
   ]
  },
  {
   "cell_type": "markdown",
   "id": "c2e0e26a-a334-4337-a6b6-c7dc3e8f286e",
   "metadata": {},
   "source": [
    "## Setup\n",
    "\n",
    "Define our variables:\n",
    "- Neo4j credentials"
   ]
  },
  {
   "cell_type": "code",
   "execution_count": 23,
   "id": "b827af0b-3ded-4667-88db-e6449a9444b3",
   "metadata": {},
   "outputs": [],
   "source": [
    "import os\n",
    "from dotenv import load_dotenv\n",
    "\n",
    "# load neo4j credentials (and openai api key in background)\n",
    "load_dotenv('.env', override=True)\n",
    "NEO4J_URI = os.getenv('NEO4J_URI', 'bolt://localhost:7687')\n",
    "NEO4J_USERNAME = os.getenv('NEO4J_USERNAME', 'neo4j')\n",
    "NEO4J_PASSWORD = os.getenv('NEO4J_PASSWORD')\n",
    "NEO4J_DATABASE = os.getenv('NEO4J_DATABASE', None)"
   ]
  },
  {
   "cell_type": "code",
   "execution_count": 24,
   "id": "6adb4306-9d15-46e1-8d29-665272786bfe",
   "metadata": {},
   "outputs": [],
   "source": [
    "import neo4j\n",
    "\n",
    "driver = neo4j.GraphDatabase.driver(NEO4J_URI, auth=(NEO4J_USERNAME, NEO4J_PASSWORD), database=NEO4J_DATABASE)"
   ]
  },
  {
   "cell_type": "markdown",
   "id": "08102bd4-a9a7-4455-bfd9-b4c0c4152ee2",
   "metadata": {},
   "source": [
    "## Knowledge Graph Retrieval\n",
    "\n",
    "In this section, we investigate several supported retrieval methods, starting with the VectorRetriever which is a simple vector search. For this, we need to add a vector index on Chunks' embeddings property that was created by the SimpleKGBuilder pipeline:"
   ]
  },
  {
   "cell_type": "code",
   "execution_count": 66,
   "id": "84032d14-e791-4ad2-bf0e-fc0eb79d0aad",
   "metadata": {},
   "outputs": [],
   "source": [
    "VECTOR_INDEX_NAME = \"text_embeddings\""
   ]
  },
  {
   "cell_type": "raw",
   "id": "65674ee2-2e9e-4967-8da5-96a876cd0262",
   "metadata": {},
   "source": [
    "from neo4j_graphrag.indexes import create_vector_index\n",
    "\n",
    "\n",
    "create_vector_index(\n",
    "    driver, \n",
    "    name=\"text_embeddings\", \n",
    "    label=\"Chunk\",\n",
    "    embedding_property=\"embedding\", \n",
    "    dimensions=1536,\n",
    "    similarity_fn=\"cosine\",\n",
    ")"
   ]
  },
  {
   "cell_type": "code",
   "execution_count": 25,
   "id": "1457d723-12dd-4f15-ae74-ec23f79d2379",
   "metadata": {},
   "outputs": [],
   "source": [
    "from neo4j_graphrag.embeddings import OpenAIEmbeddings\n",
    "embedder = OpenAIEmbeddings()"
   ]
  },
  {
   "cell_type": "code",
   "execution_count": 26,
   "id": "11cc975d-5fee-463f-84bb-74f067688b64",
   "metadata": {},
   "outputs": [],
   "source": [
    "from neo4j_graphrag.retrievers import VectorRetriever\n",
    "\n",
    "vector_retriever = VectorRetriever(\n",
    "    driver,\n",
    "    index_name=VECTOR_INDEX_NAME,\n",
    "    embedder=embedder,\n",
    "    return_properties=[\"text\"],\n",
    ")\n",
    "\n",
    "vector_res = vector_retriever.search(\n",
    "    query_text=\"How is precision medicine applied to Lupus?\", \n",
    "    top_k=3,\n",
    ")"
   ]
  },
  {
   "cell_type": "code",
   "execution_count": 68,
   "id": "d67d3a10-461c-466b-9c99-3846f1902c5d",
   "metadata": {},
   "outputs": [
    {
     "data": {
      "text/plain": [
       "3"
      ]
     },
     "execution_count": 68,
     "metadata": {},
     "output_type": "execute_result"
    }
   ],
   "source": [
    "len(vector_res.items)"
   ]
  },
  {
   "cell_type": "code",
   "execution_count": 28,
   "id": "ef0efb62-fa70-442d-a354-3ee0fdc5417a",
   "metadata": {},
   "outputs": [
    {
     "name": "stdout",
     "output_type": "stream",
     "text": [
      "====\n",
      "{'text': 'precise and systematic fashion as suggested here.\\nFuture care will involve molecular diagnostics throughout\\nthe patient timecourse to drive the least toxic combination\\nof therapies. Recent evidence suggests a paradigm shift is\\non the way but it is hard to predict how fast it will come.\\nDisclosure\\nThe authors report no con ﬂicts of interest in this work.\\nReferences\\n1. Lisnevskaia L, Murphy G, Isenberg DA. Systemic lupus\\nerythematosus. Lancet .2014 ;384:1878 –1888. doi:10.1016/S0140-\\n6736(14)60128'}\n",
      "====\n",
      "{'text': 'd IS agents.\\nPrecision medicine consists of a tailored approach to\\neach patient, based on genetic and epigenetic singularities,\\nwhich in ﬂuence disease pathophysiology and drug\\nresponse. Precision medicine in SLE is trying to address\\nthe need to assess SLE patients optimally, predict disease\\ncourse and treatment response at diagnosis. Ideally every\\npatient would undergo an initial evaluation that would\\nproﬁle his/her disease, assessing the main pathophysiolo-\\ngic pathway through biomarkers, ther'}\n",
      "====\n",
      "{'text': 'REVIEW\\nT owards Precision Medicine in Systemic Lupus\\nErythematosus\\nThis article was published in the following Dove Press journal:\\nPharmacogenomics and Personalized Medicine\\nElliott Lever1\\nMarta R Alves2\\nDavid A Isenberg1\\n1Centre for Rheumatology, Division of\\nMedicine, University College Hospital\\nLondon, London, UK;2Internal Medicine,\\nDepartment of Medicine, Centro\\nHospitalar do Porto, Porto, PortugalAbstract: Systemic lupus erythematosus (SLE) is a remarkable condition characterised by\\ndiversit'}\n"
     ]
    }
   ],
   "source": [
    "for i in vector_res.items: \n",
    "    print(\"====\\n\" + i.content)"
   ]
  },
  {
   "cell_type": "markdown",
   "id": "fb424faf-6af7-480e-973f-2819743643c7",
   "metadata": {},
   "source": [
    "The GraphRAG Python Package offers a whole host of other useful retrieval covering different patterns.\n",
    "\n",
    "Below we will use the VectorCypherRetriever which allows you to run a graph traversal after finding text chunks. We will use the Cypher Query language to define the logic to traverse the graph.\n",
    "\n",
    "As a simple starting point, lets traverse up to 2 hops out from each chunk and textualize the different relationships we pick up. We will use something called a quantified path pattern to accomplish in this.\n"
   ]
  },
  {
   "cell_type": "code",
   "execution_count": 29,
   "id": "f40e3595-94c9-47bc-a55b-b3a51b925609",
   "metadata": {},
   "outputs": [],
   "source": [
    "from neo4j_graphrag.retrievers import VectorCypherRetriever\n",
    "\n",
    "vc_retriever = VectorCypherRetriever(\n",
    "    driver,\n",
    "    index_name=\"text_embeddings\",\n",
    "    embedder=embedder,\n",
    "    retrieval_query=\"\"\"\n",
    "//1) Go out 2-3 hops in the entity graph and get relationships\n",
    "WITH node AS chunk\n",
    "MATCH (chunk)<-[:FROM_CHUNK]-()-[relList:!FROM_CHUNK]-{1,2}(:__Entity__)\n",
    "UNWIND relList AS rel\n",
    "\n",
    "//2) collect relationships and text chunks\n",
    "WITH collect(DISTINCT chunk) AS chunks, \n",
    "  collect(DISTINCT rel) AS rels\n",
    "\n",
    "//3) format and return context\n",
    "RETURN '=== text ===\\n' + apoc.text.join([c in chunks | c.text], '\\n---\\n') + '\\n\\n=== kg_rels ===\\n' +\n",
    "  apoc.text.join([r in rels | startNode(r).name + ' - ' + type(r) + '(' + coalesce(r.details, '') + ')' +  ' -> ' + endNode(r).name ], '\\n---\\n') AS info\n",
    "\"\"\"\n",
    ")"
   ]
  },
  {
   "cell_type": "code",
   "execution_count": 65,
   "id": "32875324-17f9-45a7-96dc-7111715ed831",
   "metadata": {},
   "outputs": [
    {
     "name": "stdout",
     "output_type": "stream",
     "text": [
      "# Text Chunk Context:\n",
      "<Record info=\"=== text ===\\nprecise and systematic fashion as suggested here.\\nFuture care will involve molecular diagnostics throughout\\nthe patient timecourse to drive the least toxic combination\\nof therapies. Recent evidence suggests a paradigm shift is\\non the way but it is hard to predict how fast it will come.\\nDisclosure\\nThe authors report no con ﬂicts of interest in this work.\\nReferences\\n1. Lisnevskaia L, Murphy G, Isenberg DA. Systemic lupus\\nerythematosus. Lancet .2014 ;384:1878 –1\n",
      "\n",
      "# KG Context From Relationships:\n",
      "\\n\\n=== kg_rels ===\\nSystemic lupus erythematosus - AUTHORED(Published in) -> N. Engl. J. Med.\\n---\\nLisnevskaia L - AUTHORED() -> Systemic lupus erythematosus\\n---\\nMurphy G - AUTHORED() -> Systemic lupus erythematosus\\n---\\nIsenberg DA - AUTHORED() -> Systemic lupus erythematosus\\n---\\nSystemic lupus erythematosus - CITES(Published in) -> Lancet\\n---\\nSystemic lupus erythematosus - CITES(Systemic lupus erythematosus is discussed in the Lancet publication.) -> Lancet\\n---\\nSystemic lupus erythe\n"
     ]
    }
   ],
   "source": [
    "vc_res = vc_retriever.search(query_text = \"How is precision medicine applied to Lupus?\", top_k=3)\n",
    "\n",
    "# print output\n",
    "context = vc_res.items[0].content\n",
    "kg_rel_pos = context.find('\\\\n\\\\n=== kg_rels ===\\\\n')\n",
    "print(\"# Text Chunk Context:\")\n",
    "print(context[:kg_rel_pos][:500])\n",
    "print()\n",
    "print(\"# KG Context From Relationships:\")\n",
    "print(context[kg_rel_pos:][:500])"
   ]
  },
  {
   "cell_type": "markdown",
   "id": "cd158191-903b-4ad4-9db6-120f1c1c9f55",
   "metadata": {},
   "source": [
    "## Q&A with GraphRAG\n",
    "\n",
    "You can construct GraphRAG pipelines with the GraphRAG class. At minimum, you will need to pass the constructor an LLM and a retriever. Optionally, you can also pass a custom prompt template."
   ]
  },
  {
   "cell_type": "code",
   "execution_count": 35,
   "id": "71c647ba-ac61-441c-9100-75dc825084ab",
   "metadata": {},
   "outputs": [],
   "source": [
    "from neo4j_graphrag.llm import OpenAILLM\n",
    "from neo4j_graphrag.generation import RagTemplate\n",
    "from neo4j_graphrag.generation.graphrag import GraphRAG\n",
    "\n",
    "llm = OpenAILLM(model_name=\"gpt-4o\",  model_params={\"temperature\": 0.0, \"seed\": 100})\n",
    "\n",
    "rag_template = RagTemplate(template='''Answer the Question using the following Context. Only respond with information mentioned in the Context. Do not inject any speculative information not mentioned. \n",
    "\n",
    "# Question:\n",
    "{query_text}\n",
    " \n",
    "# Context:\n",
    "{context}\n",
    "\n",
    "# Answer:\n",
    "''', expected_inputs=['query_text', 'context'])\n",
    "\n",
    "v_rag  = GraphRAG(llm=llm, retriever=vector_retriever, prompt_template=rag_template)\n",
    "vc_rag = GraphRAG(llm=llm, retriever=vc_retriever, prompt_template=rag_template)"
   ]
  },
  {
   "cell_type": "code",
   "execution_count": 70,
   "id": "b240a9e9-4cda-42da-b0fd-c2ed4a14e748",
   "metadata": {},
   "outputs": [
    {
     "name": "stdout",
     "output_type": "stream",
     "text": [
      "Vector Response: \n",
      "- Precision medicine in lupus involves a tailored approach based on genetic and epigenetic singularities.\n",
      "- It aims to assess lupus patients optimally and predict disease course and treatment response at diagnosis.\n",
      "- Ideally, each patient would undergo an initial evaluation to profile their disease, assessing the main pathophysiologic pathway through biomarkers.\n",
      "\n",
      "===========================\n",
      "\n",
      "Vector + Cypher Response: \n",
      "- Precision medicine in lupus involves a tailored approach to each patient based on genetic and epigenetic singularities.\n",
      "- It aims to assess lupus patients optimally, predict disease course, and treatment response at diagnosis.\n",
      "- Ideally, every patient would undergo an initial evaluation that profiles their disease, assessing the main pathophysiologic pathway through biomarkers.\n"
     ]
    }
   ],
   "source": [
    "q = \"How is precision medicine applied to Lupus? provide in list format.\"\n",
    "print(f\"Vector Response: \\n{v_rag.search(q, retriever_config={'top_k':5}).answer}\")\n",
    "print(\"\\n===========================\\n\")\n",
    "print(f\"Vector + Cypher Response: \\n{vc_rag.search(q, retriever_config={'top_k':5}).answer}\")"
   ]
  },
  {
   "cell_type": "code",
   "execution_count": null,
   "id": "19aa69d2-ecf9-44ee-b51f-21b9f9f4adb2",
   "metadata": {},
   "outputs": [],
   "source": []
  },
  {
   "cell_type": "code",
   "execution_count": 63,
   "id": "2e3998d5-ed7b-494e-9531-7c1fe3a6dc4e",
   "metadata": {},
   "outputs": [
    {
     "name": "stdout",
     "output_type": "stream",
     "text": [
      "Vector Response: \n",
      "- Most frequent symptoms of lupus:\n",
      "  - Generalized pain\n",
      "  - Fatigue\n",
      "  - Depression\n",
      "\n",
      "- Difficulty in diagnosing lupus:\n",
      "  - Symptoms like generalized pain, fatigue, and depression are often considered unrelated to SLE by physicians and may not be well addressed during clinical evaluations.\n",
      "  - Lupus has many different expressions, making it more complex to discuss and diagnose compared to simpler conditions like a cold.\n",
      "\n",
      "===========================\n",
      "\n",
      "Vector + Cypher Response: \n",
      "- Most frequent symptoms of lupus:\n",
      "  - Skin lesions\n",
      "  - Renal symptoms\n",
      "  - Dermatological symptoms\n",
      "  - Neuropsychiatric symptoms\n",
      "  - Cardiovascular symptoms\n",
      "  - Thrombocytopenia\n",
      "  - Haemolytic anaemia\n",
      "  - Accelerated atherosclerosis\n",
      "  - Active disease\n",
      "  - Previous damage\n",
      "  - Complications of therapy\n",
      "\n",
      "- Reasons for difficulty in diagnosing lupus:\n",
      "  - Symptoms like generalized pain, fatigue, and depression are often considered unrelated to SLE and not well addressed during clinical evaluation.\n",
      "  - The presence of ANA-negative cases, which can complicate diagnosis.\n",
      "  - Low specificity of ANA tests.\n",
      "  - The complexity of symptoms and their overlap with other conditions.\n"
     ]
    }
   ],
   "source": [
    "q = \"What are the most frequent symptoms of lupus and why is it difficult to diagnose? Show result in a list\"\n",
    "\n",
    "v_rag_result = v_rag.search(q, retriever_config={'top_k': 2}, return_context=True)\n",
    "vc_rag_result = vc_rag.search(q, retriever_config={'top_k': 2}, return_context=True)\n",
    "\n",
    "print(f\"Vector Response: \\n{v_rag_result.answer}\")\n",
    "print(\"\\n===========================\\n\")\n",
    "print(f\"Vector + Cypher Response: \\n{vc_rag_result.answer}\")"
   ]
  },
  {
   "cell_type": "code",
   "execution_count": null,
   "id": "6c11b31b-caa7-419a-bd5f-e4e2bd41b532",
   "metadata": {},
   "outputs": [],
   "source": []
  },
  {
   "cell_type": "code",
   "execution_count": 37,
   "id": "1b15d15b-fdd2-4275-9c06-764e1ece4ff5",
   "metadata": {},
   "outputs": [
    {
     "name": "stdout",
     "output_type": "stream",
     "text": [
      "Vector Response: \n",
      "- **Systemic Lupus Erythematosus (SLE) Overview:**\n",
      "  - SLE is a systemic autoimmune disease characterized by aberrant activity of the immune system.\n",
      "  - It presents with a wide range of clinical manifestations and can cause damage to various organs.\n",
      "\n",
      "- **Common Effects:**\n",
      "  - SLE imposes a significant burden on patients' lives.\n",
      "  - It affects health-related quality of life (HRQoL) due to its symptoms and disease activity.\n",
      "\n",
      "- **Biomarkers:**\n",
      "  - SLE is diagnosed and classified based on clinical symptoms, signs, and laboratory biomarkers.\n",
      "  - Biomarkers reflect immune reactivity and inflammation in various organs.\n",
      "  - Novel biomarkers have been discovered through \"omics\" research.\n",
      "  - One particular biomarker may only reflect a specific aspect of SLE and not the overall state of the disease.\n",
      "\n",
      "- **Treatments:**\n",
      "  - Physicians focus on controlling disease activity to prevent damage accrual.\n",
      "  - There is a gap between physicians' focus on disease control and patients' focus on symptoms affecting HRQoL.\n",
      "  - The role of Patient Reported Outcomes (PROs) is explored to bridge this gap.\n",
      "\n",
      "===========================\n",
      "\n",
      "Vector + Cypher Response: \n",
      "**Systemic Lupus Erythematosus (SLE) Summary:**\n",
      "\n",
      "**Common Effects:**\n",
      "- Multi-organ involvement\n",
      "- Complex clinical picture with a wide range of manifestations\n",
      "- Varying severity and unpredictable relapsing and remitting course\n",
      "- Chronic systemic inflammation\n",
      "- Organ damage\n",
      "- Symptoms include nephritis, arthritis, vasculitis, fatigue, widespread body pain, depression, anxiety, cognitive dysfunction, sleep disturbance, malar rash, diffuse alopecia, myalgia, fever, rash, cutaneous vasculitis, renal issues, pleurisy, pericarditis, thrombocytopenia, and haemolytic anaemia\n",
      "\n",
      "**Biomarkers:**\n",
      "- Antibodies against paraoxonase 1 and high-density lipoprotein for endothelial damage\n",
      "- Anti-Nucleosome Antibodies (ANuA) related to disease activity and glomerulonephritis\n",
      "- Anti-C1q antibodies as a non-invasive biomarker for predicting renal flares\n",
      "- ANA (Antinuclear Antibody) test\n",
      "- Anti-dsDNA antibodies\n",
      "- Anti-Sm antibodies\n",
      "- Complement proteins (C3 and C4 levels)\n",
      "- Various cytokines (INF type 1, TNF, IL1, IL4, IL17, INF γ)\n",
      "- Proteinuria, urinary casts, hemolytic anemia with reticulocytosis, white blood cell count\n",
      "\n",
      "**Treatments:**\n",
      "- Treat-to-target strategy aiming for remission or low disease activity\n",
      "- Antimalarials\n",
      "- Glucocorticoid therapy\n",
      "- Immunosuppressants (IS)\n",
      "- Biologics like Belimumab and Rituximab\n",
      "- Multidisciplinary approach including surgery, physiotherapy, non-prescription drugs, sports, family and peer support, diet, psychological aspects, and exercise\n",
      "\n",
      "**Additional Information:**\n",
      "- SLE is more prevalent in women and non-white populations\n",
      "- Risk factors include ultraviolet light, toxins, and infections\n",
      "- Genetic and epigenetic factors contribute to susceptibility\n",
      "- SLE affects health-related quality of life (HRQoL) and imposes a significant disease burden\n",
      "- Physicians focus on controlling disease activity and preventing damage accrual, while patients focus on symptoms impacting HRQoL\n"
     ]
    }
   ],
   "source": [
    "q = \"Can you summarize systemic lupus erythematosus (SLE)? including common effects, biomarkers, and treatments? Provide in detailed list format.\"\n",
    "\n",
    "v_rag_result = v_rag.search(q, retriever_config={'top_k': 5}, return_context=True)\n",
    "vc_rag_result = vc_rag.search(q, retriever_config={'top_k': 5}, return_context=True)\n",
    "\n",
    "print(f\"Vector Response: \\n{v_rag_result.answer}\")\n",
    "print(\"\\n===========================\\n\")\n",
    "print(f\"Vector + Cypher Response: \\n{vc_rag_result.answer}\")"
   ]
  },
  {
   "cell_type": "code",
   "execution_count": null,
   "id": "a1af214e-cdea-4889-8309-706e856a0215",
   "metadata": {},
   "outputs": [],
   "source": []
  }
 ],
 "metadata": {
  "kernelspec": {
   "display_name": "Python 3 (ipykernel)",
   "language": "python",
   "name": "python3"
  },
  "language_info": {
   "codemirror_mode": {
    "name": "ipython",
    "version": 3
   },
   "file_extension": ".py",
   "mimetype": "text/x-python",
   "name": "python",
   "nbconvert_exporter": "python",
   "pygments_lexer": "ipython3",
   "version": "3.12.3"
  }
 },
 "nbformat": 4,
 "nbformat_minor": 5
}
