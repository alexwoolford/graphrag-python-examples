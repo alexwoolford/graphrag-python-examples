{
 "cells": [
  {
   "cell_type": "markdown",
   "id": "f65863a3-47e2-4c55-899d-8902d21d614e",
   "metadata": {},
   "source": [
    "# GraphRAG Python package - From PDF to Q&A with LUPUS example\n",
    "\n",
    "In this notebook we will:\n",
    "\n",
    "- Ingest PDFs into neo4j:\n",
    "    - chunk PDFs into smaller pieces\n",
    "    - save each of this chunk in neo4j\n",
    "    - perform entity and relation extraction for each chunk and save them in the graph\n"
   ]
  },
  {
   "cell_type": "raw",
   "id": "55f89455-b55e-46af-95bc-ed8987eebbe2",
   "metadata": {},
   "source": [
    "!pip install python-dotenv neo4j-graphrag openai"
   ]
  },
  {
   "cell_type": "markdown",
   "id": "c2e0e26a-a334-4337-a6b6-c7dc3e8f286e",
   "metadata": {},
   "source": [
    "## Setup\n",
    "\n",
    "Define our variables:\n",
    "- Neo4j credentials\n",
    "- List of files to be processed\n",
    "- List of entities and relationships we are interested in and we will ask the LLM to find for us\n",
    "- The LLM and embedder we want to use: OpenAI for this demo, but others are supported (VertexAI, MistralAI, Anthropic...)\n",
    "  (note: OPENAI_API_KEY must be defined in the env vars)\n",
    "- We also decide to use a custom prompt for entity and relation extraction (instead of the default one), so it is also defined below."
   ]
  },
  {
   "cell_type": "code",
   "id": "b827af0b-3ded-4667-88db-e6449a9444b3",
   "metadata": {
    "ExecuteTime": {
     "end_time": "2024-10-18T09:48:26.018450Z",
     "start_time": "2024-10-18T09:48:26.004809Z"
    }
   },
   "source": [
    "import os\n",
    "from dotenv import load_dotenv\n",
    "\n",
    "# load neo4j credentials (and openai api key in background)\n",
    "load_dotenv('.env', override=True)\n",
    "NEO4J_URI = os.getenv('NEO4J_URI', 'bolt://localhost:7687')\n",
    "NEO4J_USERNAME = os.getenv('NEO4J_USERNAME', 'neo4j')\n",
    "NEO4J_PASSWORD = os.getenv('NEO4J_PASSWORD')\n",
    "NEO4J_DATABASE = os.getenv('NEO4J_DATABASE', 'neo4j')"
   ],
   "outputs": [],
   "execution_count": 1
  },
  {
   "cell_type": "code",
   "id": "099bcd3f-9cf9-4b50-98eb-38c0f0ddb20c",
   "metadata": {
    "ExecuteTime": {
     "end_time": "2024-10-18T09:48:26.051117Z",
     "start_time": "2024-10-18T09:48:26.047937Z"
    }
   },
   "source": [
    "FILE_PATHS = [\n",
    "    # \"Clinical and Immunological Biomarkers for Systemic Lupus Erythematosus\"\n",
    "    'truncated-pdfs/biomolecules-11-00928-v2-trunc.pdf', \n",
    "    ## \"The communication GAP between patients and clinicians and the importance of patient reported outcomes \n",
    "    ## in Systemic Lupus Erythematosus\"\n",
    "    # 'truncated-pdfs/GAP-between-patients-and-clinicians_2023_Best-Practice-trunc.pdf', \n",
    "    ## \"Towards Precision Medicine in Systemic Lupus Erythematosus\"\n",
    "    # 'truncated-pdfs/pgpm-13-39-trunc.pdf'\n",
    "]"
   ],
   "outputs": [],
   "execution_count": 2
  },
  {
   "cell_type": "code",
   "id": "3bcf12d1-8f12-4aaf-8534-3d44ba7f9e46",
   "metadata": {
    "ExecuteTime": {
     "end_time": "2024-10-18T09:48:26.147795Z",
     "start_time": "2024-10-18T09:48:26.144419Z"
    }
   },
   "source": [
    "#define node labels\n",
    "basic_node_labels = [\"Object\", \"Entity\", \"Group\", \"Person\", \"Organization\", \"Place\"]\n",
    "\n",
    "academic_node_labels = [\"ArticleOrPaper\", \"PublicationOrJournal\"]\n",
    "\n",
    "medical_node_labels = [\"Anatomy\", \"BiologicalProcess\", \"Cell\", \"CellularComponent\", \n",
    "                       \"CellType\", \"Condition\", \"Disease\", \"Drug\",\n",
    "                       \"EffectOrPhenotype\", \"Exposure\", \"GeneOrProtein\", \"Molecule\",\n",
    "                       \"MolecularFunction\", \"Pathway\"]\n",
    "\n",
    "node_labels = basic_node_labels + academic_node_labels + medical_node_labels\n",
    "\n",
    "# define relationship types\n",
    "rel_types = [\"ACTIVATES\", \"AFFECTS\", \"ASSESSES\", \"ASSOCIATED_WITH\", \"AUTHORED\",\n",
    "    \"BIOMARKER_FOR\", \"CAUSES\", \"CITES\", \"CONTRIBUTES_TO\", \"DESCRIBES\", \"EXPRESSES\",\n",
    "    \"HAS_REACTION\", \"HAS_SYMPTOM\", \"INCLUDES\", \"INTERACTS_WITH\", \"PRESCRIBED\",\n",
    "    \"PRODUCES\", \"RECEIVED\", \"RESULTS_IN\", \"TREATS\", \"USED_FOR\"]"
   ],
   "outputs": [],
   "execution_count": 3
  },
  {
   "cell_type": "code",
   "id": "acba4084-67bf-4706-b3ef-580d21ac1320",
   "metadata": {
    "ExecuteTime": {
     "end_time": "2024-10-18T09:48:26.615992Z",
     "start_time": "2024-10-18T09:48:26.189731Z"
    }
   },
   "source": [
    "from neo4j_graphrag.llm import OpenAILLM\n",
    "from neo4j_graphrag.embeddings.openai import OpenAIEmbeddings\n",
    "\n",
    "# create text embedder (for chunk text)\n",
    "embedder = OpenAIEmbeddings()\n",
    "\n",
    "# create a llm object (for entity and relation extraction)\n",
    "llm = OpenAILLM(\n",
    "    model_name=\"gpt-4o-mini\",\n",
    "    model_params={\n",
    "        \"response_format\": {\"type\": \"json_object\"}, # use json_object formatting for best results\n",
    "        \"temperature\": 0 # turning temperature down for more deterministic results\n",
    "    }\n",
    ")\n"
   ],
   "outputs": [
    {
     "ename": "OpenAIError",
     "evalue": "The api_key client option must be set either by passing api_key to the client or by setting the OPENAI_API_KEY environment variable",
     "output_type": "error",
     "traceback": [
      "\u001B[0;31m---------------------------------------------------------------------------\u001B[0m",
      "\u001B[0;31mOpenAIError\u001B[0m                               Traceback (most recent call last)",
      "Cell \u001B[0;32mIn[4], line 5\u001B[0m\n\u001B[1;32m      2\u001B[0m \u001B[38;5;28;01mfrom\u001B[39;00m \u001B[38;5;21;01mneo4j_graphrag\u001B[39;00m\u001B[38;5;21;01m.\u001B[39;00m\u001B[38;5;21;01membeddings\u001B[39;00m\u001B[38;5;21;01m.\u001B[39;00m\u001B[38;5;21;01mopenai\u001B[39;00m \u001B[38;5;28;01mimport\u001B[39;00m OpenAIEmbeddings\n\u001B[1;32m      4\u001B[0m \u001B[38;5;66;03m# create text embedder (for chunk text)\u001B[39;00m\n\u001B[0;32m----> 5\u001B[0m embedder \u001B[38;5;241m=\u001B[39m \u001B[43mOpenAIEmbeddings\u001B[49m\u001B[43m(\u001B[49m\u001B[43m)\u001B[49m\n\u001B[1;32m      7\u001B[0m \u001B[38;5;66;03m# create an llm object (for entity and relation extraction)\u001B[39;00m\n\u001B[1;32m      8\u001B[0m llm \u001B[38;5;241m=\u001B[39m OpenAILLM(\n\u001B[1;32m      9\u001B[0m     model_name\u001B[38;5;241m=\u001B[39m\u001B[38;5;124m\"\u001B[39m\u001B[38;5;124mgpt-4o-mini\u001B[39m\u001B[38;5;124m\"\u001B[39m,\n\u001B[1;32m     10\u001B[0m     model_params\u001B[38;5;241m=\u001B[39m{\n\u001B[0;32m   (...)\u001B[0m\n\u001B[1;32m     13\u001B[0m     }\n\u001B[1;32m     14\u001B[0m )\n",
      "File \u001B[0;32m~/PycharmProjects/graphrag-python-examples/.venv/lib/python3.12/site-packages/neo4j_graphrag/embeddings/openai.py:51\u001B[0m, in \u001B[0;36mOpenAIEmbeddings.__init__\u001B[0;34m(self, model, **kwargs)\u001B[0m\n\u001B[1;32m     49\u001B[0m \u001B[38;5;28;01mdef\u001B[39;00m \u001B[38;5;21m__init__\u001B[39m(\u001B[38;5;28mself\u001B[39m, model: \u001B[38;5;28mstr\u001B[39m \u001B[38;5;241m=\u001B[39m \u001B[38;5;124m\"\u001B[39m\u001B[38;5;124mtext-embedding-ada-002\u001B[39m\u001B[38;5;124m\"\u001B[39m, \u001B[38;5;241m*\u001B[39m\u001B[38;5;241m*\u001B[39mkwargs: Any) \u001B[38;5;241m-\u001B[39m\u001B[38;5;241m>\u001B[39m \u001B[38;5;28;01mNone\u001B[39;00m:\n\u001B[1;32m     50\u001B[0m     \u001B[38;5;28msuper\u001B[39m()\u001B[38;5;241m.\u001B[39m\u001B[38;5;21m__init__\u001B[39m(model, \u001B[38;5;241m*\u001B[39m\u001B[38;5;241m*\u001B[39mkwargs)\n\u001B[0;32m---> 51\u001B[0m     \u001B[38;5;28mself\u001B[39m\u001B[38;5;241m.\u001B[39mopenai_client \u001B[38;5;241m=\u001B[39m \u001B[43mopenai\u001B[49m\u001B[38;5;241;43m.\u001B[39;49m\u001B[43mOpenAI\u001B[49m\u001B[43m(\u001B[49m\u001B[38;5;241;43m*\u001B[39;49m\u001B[38;5;241;43m*\u001B[39;49m\u001B[43mkwargs\u001B[49m\u001B[43m)\u001B[49m\n",
      "File \u001B[0;32m~/PycharmProjects/graphrag-python-examples/.venv/lib/python3.12/site-packages/openai/_client.py:105\u001B[0m, in \u001B[0;36mOpenAI.__init__\u001B[0;34m(self, api_key, organization, project, base_url, timeout, max_retries, default_headers, default_query, http_client, _strict_response_validation)\u001B[0m\n\u001B[1;32m    103\u001B[0m     api_key \u001B[38;5;241m=\u001B[39m os\u001B[38;5;241m.\u001B[39menviron\u001B[38;5;241m.\u001B[39mget(\u001B[38;5;124m\"\u001B[39m\u001B[38;5;124mOPENAI_API_KEY\u001B[39m\u001B[38;5;124m\"\u001B[39m)\n\u001B[1;32m    104\u001B[0m \u001B[38;5;28;01mif\u001B[39;00m api_key \u001B[38;5;129;01mis\u001B[39;00m \u001B[38;5;28;01mNone\u001B[39;00m:\n\u001B[0;32m--> 105\u001B[0m     \u001B[38;5;28;01mraise\u001B[39;00m OpenAIError(\n\u001B[1;32m    106\u001B[0m         \u001B[38;5;124m\"\u001B[39m\u001B[38;5;124mThe api_key client option must be set either by passing api_key to the client or by setting the OPENAI_API_KEY environment variable\u001B[39m\u001B[38;5;124m\"\u001B[39m\n\u001B[1;32m    107\u001B[0m     )\n\u001B[1;32m    108\u001B[0m \u001B[38;5;28mself\u001B[39m\u001B[38;5;241m.\u001B[39mapi_key \u001B[38;5;241m=\u001B[39m api_key\n\u001B[1;32m    110\u001B[0m \u001B[38;5;28;01mif\u001B[39;00m organization \u001B[38;5;129;01mis\u001B[39;00m \u001B[38;5;28;01mNone\u001B[39;00m:\n",
      "\u001B[0;31mOpenAIError\u001B[0m: The api_key client option must be set either by passing api_key to the client or by setting the OPENAI_API_KEY environment variable"
     ]
    }
   ],
   "execution_count": 4
  },
  {
   "cell_type": "code",
   "execution_count": 5,
   "id": "1689f679-367c-490d-a9fa-f8da66ac974a",
   "metadata": {},
   "outputs": [],
   "source": [
    "# optional: define your own prompt template for entity/relation extraction\n",
    "# it must have 'text' placeholder and can use the 'schema' key\n",
    "\n",
    "prompt_template = '''\n",
    "You are a medical researcher tasks with extracting information from papers \n",
    "and structuring it in a property graph to inform further medical and research Q&A.\n",
    "\n",
    "Extract the entities (nodes) and specify their type from the following Input text.\n",
    "Also extract the relationships between these nodes. the relationship direction goes from the start node to the end node. \n",
    "\n",
    "\n",
    "Return result as JSON using the following format:\n",
    "{{\"nodes\": [ {{\"id\": \"0\", \"label\": \"the type of entity\", \"properties\": {{\"name\": \"name of entity\" }} }}],\n",
    "  \"relationships\": [{{\"type\": \"TYPE_OF_RELATIONSHIP\", \"start_node_id\": \"0\", \"end_node_id\": \"1\", \"properties\": {{\"details\": \"Description of the relationship\"}} }}] }}\n",
    "\n",
    "- Use only the information from the Input text.  Do not add any additional information.  \n",
    "- If the input text is empty, return empty Json. \n",
    "- Make sure to create as many nodes and relationships as needed to offer rich medical context for further research.\n",
    "- An AI knowledge assistant must be able to read this graph and immediately understand the context to inform detailed research questions. \n",
    "- Multiple documents will be ingested from different sources and we are using this property graph to connect information, so make sure entity types are fairly general. \n",
    "\n",
    "Use only fhe following nodes and relationships (if provided):\n",
    "{schema}\n",
    "\n",
    "Assign a unique ID (string) to each node, and reuse it to define relationships.\n",
    "Do respect the source and target node types for relationship and\n",
    "the relationship direction.\n",
    "\n",
    "Do not return any additional information other than the JSON in it.\n",
    "\n",
    "Input text:\n",
    "\n",
    "{text}\n",
    "'''"
   ]
  },
  {
   "cell_type": "markdown",
   "id": "e7b3b091-ef2c-4ad1-a75f-33aeccf04a3f",
   "metadata": {},
   "source": [
    "## Knowledge Graph Building\n",
    "\n",
    "We can finally create our Neo4j driver and `SimpleKGPipeline` and run the pipeline on the list of documents:"
   ]
  },
  {
   "cell_type": "code",
   "execution_count": 6,
   "id": "8b53738e-cf44-470a-95a2-5a66ee63db2a",
   "metadata": {},
   "outputs": [],
   "source": [
    "import neo4j\n",
    "\n",
    "driver = neo4j.GraphDatabase.driver(NEO4J_URI, auth=(NEO4J_USERNAME, NEO4J_PASSWORD), database=NEO4J_DATABASE)"
   ]
  },
  {
   "cell_type": "code",
   "execution_count": 7,
   "id": "0f1b9d59-3b8c-44b8-ba97-270eca07a7d7",
   "metadata": {},
   "outputs": [],
   "source": [
    "# from neo4j_graphrag.experimental.components.text_splitters.fixed_size_splitter import FixedSizeSplitter\n",
    "from neo4j_graphrag.experimental.pipeline.kg_builder import SimpleKGPipeline\n",
    "\n",
    "kg_builder_pdf = SimpleKGPipeline(\n",
    "    driver=driver,\n",
    "    llm=llm,\n",
    "    # text_splitter=FixedSizeSplitter(chunk_size=500, chunk_overlap=100),\n",
    "    embedder=embedder,\n",
    "    entities=node_labels,\n",
    "    relations=rel_types,\n",
    "    prompt_template=prompt_template,\n",
    "    from_pdf=True\n",
    ")"
   ]
  },
  {
   "cell_type": "code",
   "id": "edfe7434-00eb-4926-a094-a8f80fcaff47",
   "metadata": {
    "ExecuteTime": {
     "end_time": "2024-10-18T09:48:26.619385901Z",
     "start_time": "2024-10-18T09:47:41.302479Z"
    }
   },
   "source": [
    "for path in FILE_PATHS:\n",
    "    print(f\"Processing : {path}\")\n",
    "    pdf_result = await kg_builder_pdf.run_async(file_path=path)\n",
    "    print(f\"PDF Processing Result: {pdf_result}\")"
   ],
   "outputs": [
    {
     "name": "stdout",
     "output_type": "stream",
     "text": [
      "Processing : truncated-pdfs/biomolecules-11-00928-v2-trunc.pdf\n"
     ]
    },
    {
     "ename": "NameError",
     "evalue": "name 'kg_builder_pdf' is not defined",
     "output_type": "error",
     "traceback": [
      "\u001B[0;31m---------------------------------------------------------------------------\u001B[0m",
      "\u001B[0;31mNameError\u001B[0m                                 Traceback (most recent call last)",
      "Cell \u001B[0;32mIn[5], line 3\u001B[0m\n\u001B[1;32m      1\u001B[0m \u001B[38;5;28;01mfor\u001B[39;00m path \u001B[38;5;129;01min\u001B[39;00m FILE_PATHS:\n\u001B[1;32m      2\u001B[0m     \u001B[38;5;28mprint\u001B[39m(\u001B[38;5;124mf\u001B[39m\u001B[38;5;124m\"\u001B[39m\u001B[38;5;124mProcessing : \u001B[39m\u001B[38;5;132;01m{\u001B[39;00mpath\u001B[38;5;132;01m}\u001B[39;00m\u001B[38;5;124m\"\u001B[39m)\n\u001B[0;32m----> 3\u001B[0m     pdf_result \u001B[38;5;241m=\u001B[39m \u001B[38;5;28;01mawait\u001B[39;00m \u001B[43mkg_builder_pdf\u001B[49m\u001B[38;5;241m.\u001B[39mrun_async(file_path\u001B[38;5;241m=\u001B[39mpath)\n\u001B[1;32m      4\u001B[0m     \u001B[38;5;28mprint\u001B[39m(\u001B[38;5;124mf\u001B[39m\u001B[38;5;124m\"\u001B[39m\u001B[38;5;124mPDF Processing Result: \u001B[39m\u001B[38;5;132;01m{\u001B[39;00mpdf_result\u001B[38;5;132;01m}\u001B[39;00m\u001B[38;5;124m\"\u001B[39m)\n",
      "\u001B[0;31mNameError\u001B[0m: name 'kg_builder_pdf' is not defined"
     ]
    }
   ],
   "execution_count": 5
  },
  {
   "cell_type": "code",
   "execution_count": null,
   "id": "def87ea9-6569-4f12-8879-189b33d2a534",
   "metadata": {},
   "outputs": [],
   "source": []
  }
 ],
 "metadata": {
  "kernelspec": {
   "display_name": "Python 3 (ipykernel)",
   "language": "python",
   "name": "python3"
  },
  "language_info": {
   "codemirror_mode": {
    "name": "ipython",
    "version": 3
   },
   "file_extension": ".py",
   "mimetype": "text/x-python",
   "name": "python",
   "nbconvert_exporter": "python",
   "pygments_lexer": "ipython3",
   "version": "3.12.3"
  }
 },
 "nbformat": 4,
 "nbformat_minor": 5
}
