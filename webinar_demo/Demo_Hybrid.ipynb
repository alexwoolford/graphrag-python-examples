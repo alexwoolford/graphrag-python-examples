{
 "cells": [
  {
   "metadata": {},
   "cell_type": "markdown",
   "source": "# Demo: HybridRetriever\n",
   "id": "96ef8ad2442c6215"
  },
  {
   "metadata": {},
   "cell_type": "code",
   "outputs": [],
   "execution_count": 2,
   "source": [
    "import os\n",
    "from dotenv import load_dotenv\n",
    "\n",
    "# load neo4j credentials (and openai api key in background)\n",
    "load_dotenv('.env', override=True)\n",
    "NEO4J_URI = os.getenv('NEO4J_URI', 'bolt://localhost:7687')\n",
    "NEO4J_USERNAME = os.getenv('NEO4J_USERNAME', 'neo4j')\n",
    "NEO4J_PASSWORD = os.getenv('NEO4J_PASSWORD')\n",
    "NEO4J_DATABASE = os.getenv('NEO4J_DATABASE', None)"
   ],
   "id": "6dafc17f-9b7a-42d9-b85b-50b3d86747b4"
  },
  {
   "cell_type": "code",
   "execution_count": 7,
   "id": "5a48cba7-f135-45bd-89c4-d4d32462c75d",
   "metadata": {},
   "outputs": [],
   "source": [
    "import logging\n",
    "logging.getLogger(\"neo4j.notifications\").setLevel(logging.ERROR)"
   ]
  },
  {
   "cell_type": "code",
   "execution_count": 8,
   "id": "d9bf50ad-ad12-4d65-b808-c5af93c147be",
   "metadata": {},
   "outputs": [],
   "source": [
    "import neo4j\n",
    "\n",
    "driver = neo4j.GraphDatabase.driver(NEO4J_URI, auth=(NEO4J_USERNAME, NEO4J_PASSWORD), database=NEO4J_DATABASE)"
   ]
  },
  {
   "cell_type": "raw",
   "id": "f00673c8-9397-493e-b1ec-cbc439f937bb",
   "metadata": {},
   "source": [
    "from neo4j_graphrag.indexes import create_fulltext_index\n",
    "\n",
    "create_fulltext_index(\n",
    "    driver,\n",
    "    name=\"chunk_text\", \n",
    "    label=\"Chunk\",\n",
    "    node_properties=[\"text\"],\n",
    ")\n"
   ]
  },
  {
   "cell_type": "code",
   "execution_count": null,
   "id": "9466d87a-d5cd-4996-aeb3-a3be94f6d38f",
   "metadata": {},
   "outputs": [],
   "source": [
    "from neo4j_graphrag.retrievers import HybridRetriever\n",
    "from neo4j_graphrag.embeddings import OpenAIEmbeddings\n",
    "\n",
    "hybrid_retriever = HybridRetriever(\n",
    "    driver,\n",
    "    vector_index_name=\"text_embeddings\",\n",
    "    fulltext_index_name=\"chunk_text\",\n",
    "    embedder=OpenAIEmbeddings(),\n",
    "    return_properties=[\"text\"],\n",
    ")"
   ]
  },
  {
   "cell_type": "code",
   "execution_count": 6,
   "id": "da12efd6-e12d-478d-b888-226eb8fc89b7",
   "metadata": {},
   "outputs": [
    {
     "name": "stderr",
     "output_type": "stream",
     "text": [
      "Received notification from DBMS server: {severity: WARNING} {code: Neo.ClientNotification.Statement.FeatureDeprecationWarning} {category: DEPRECATION} {title: This feature is deprecated and will be removed in future versions.} {description: CALL subquery without a variable scope clause is now deprecated. Use CALL () { ... }} {position: line: 1, column: 1, offset: 0} for query: 'CALL { CALL db.index.vector.queryNodes($vector_index_name, $top_k, $query_vector) YIELD node, score WITH collect({node:node, score:score}) AS nodes, max(score) AS vector_index_max_score UNWIND nodes AS n RETURN n.node AS node, (n.score / vector_index_max_score) AS score UNION CALL db.index.fulltext.queryNodes($fulltext_index_name, $query_text, {limit: $top_k}) YIELD node, score WITH collect({node:node, score:score}) AS nodes, max(score) AS ft_index_max_score UNWIND nodes AS n RETURN n.node AS node, (n.score / ft_index_max_score) AS score } WITH node, max(score) AS score ORDER BY score DESC LIMIT $top_k RETURN node {.text} as node, score'\n"
     ]
    }
   ],
   "source": [
    "hybrid_res = hybrid_retriever.search(\n",
    "    query_text=\"How is precision medicine applied to Lupus? provide in list format\"\n",
    ")"
   ]
  },
  {
   "cell_type": "code",
   "execution_count": 23,
   "id": "7de1ac91-dfa9-406a-85bf-05811ce9234b",
   "metadata": {},
   "outputs": [
    {
     "data": {
      "text/plain": [
       "\"{'text': 'precise and systematic fashion as suggested here.\\\\nFuture care will involve molecular diagnostics throughout\\\\nthe patient timecourse to drive the least toxic combination\\\\nof therapies. Recent evidence suggests a paradigm shift is\\\\non the way but it is hard to predict how fast it will come.\\\\nDisclosure\\\\nThe authors report no con ﬂicts of interest in this work.\\\\nReferences\\\\n1. Lisnevskaia L, Murphy G, Isenberg DA. Systemic lupus\\\\nerythematosus. Lancet .2014 ;384:1878 –1888. doi:10.1016/S0140-\\\\n6736(14)60128'}\""
      ]
     },
     "execution_count": 23,
     "metadata": {},
     "output_type": "execute_result"
    }
   ],
   "source": [
    "hybrid_res.items[0].content"
   ]
  },
  {
   "cell_type": "code",
   "execution_count": null,
   "id": "1c0538d4-8c44-4843-bca7-0d8f992f8175",
   "metadata": {},
   "outputs": [],
   "source": []
  }
 ],
 "metadata": {
  "kernelspec": {
   "display_name": "Python 3 (ipykernel)",
   "language": "python",
   "name": "python3"
  },
  "language_info": {
   "codemirror_mode": {
    "name": "ipython",
    "version": 3
   },
   "file_extension": ".py",
   "mimetype": "text/x-python",
   "name": "python",
   "nbconvert_exporter": "python",
   "pygments_lexer": "ipython3",
   "version": "3.12.3"
  }
 },
 "nbformat": 4,
 "nbformat_minor": 5
}
